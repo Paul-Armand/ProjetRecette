{
 "cells": [
  {
   "attachments": {},
   "cell_type": "markdown",
   "metadata": {},
   "source": [
    "# Projet Empreinte écologique"
   ]
  },
  {
   "attachments": {},
   "cell_type": "markdown",
   "metadata": {},
   "source": [
    "## Contexte\n",
    "Vous travaillez en tant qu'analyste de données pour un restaurateur souhaitant proposer une nouvelle carte éco-responsable. L'objectif est de permettre au restaurateur de mieux comprendre l'impact écologique de ses recettes et les ingrédients qui ont la plus forte empreinte environnementale."
   ]
  },
  {
   "attachments": {},
   "cell_type": "markdown",
   "metadata": {},
   "source": [
    "## Le projet\n",
    "En utilisant les données d'analyse en cycle de vie (ACV) de l'empreinte écologique des aliments fournies sur le site d'Agribalyse, votre mission consiste à concevoir et développer une solution permettant de visualiser l'impact écologique d'une recette. L'utilisateur fournira simplement le nom d'une recette, et votre solution devra trouver la liste des ingrédients et leurs quantités associées. De plus, vous devrez réaliser une analyse approfondie de l'impact écologique de certains aliments pour mieux comprendre les facteurs clés contribuant à cet impact."
   ]
  },
  {
   "cell_type": "code",
   "execution_count": null,
   "metadata": {
    "vscode": {
     "languageId": "plaintext"
    }
   },
   "outputs": [],
   "source": [
    "print(\"Hello World\")"
   ]
  }
 ],
 "metadata": {
  "language_info": {
   "name": "python"
  },
  "orig_nbformat": 4
 },
 "nbformat": 4,
 "nbformat_minor": 2
}

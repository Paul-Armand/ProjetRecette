{
 "cells": [
  {
   "cell_type": "code",
   "execution_count": 11,
   "metadata": {},
   "outputs": [],
   "source": [
    "import pandas as pd\n",
    "import plotly.graph_objects as go"
   ]
  },
  {
   "cell_type": "code",
   "execution_count": 5,
   "metadata": {},
   "outputs": [
    {
     "data": {
      "text/plain": [
       "Index(['mPt/kg de produit', 'kg CO2 eq/kg de produit',\n",
       "       'kg CVC11 eq/kg de produit', 'kBq U-235 eq/kg de produit',\n",
       "       'kg NMVOC eq/kg de produit', 'disease inc./kg de produit',\n",
       "       'CTUh/kg de produit', 'CTUh/kg de produit.1', 'mol H+ eq/kg de produit',\n",
       "       'kg P eq/kg de produit', 'kg N eq/kg de produit',\n",
       "       'mol N eq/kg de produit', 'CTUe/kg de produit', 'Pt/kg de produit',\n",
       "       'm3 depriv./kg de produit', 'MJ/kg de produit',\n",
       "       'kg Sb eq/kg de produit'],\n",
       "      dtype='object')"
      ]
     },
     "execution_count": 5,
     "metadata": {},
     "output_type": "execute_result"
    }
   ],
   "source": [
    "df_synthese = pd.read_csv(\"data/Synthese.csv\")\n",
    "liste_indicateurs = df_synthese.columns[12:]\n",
    "liste_indicateurs"
   ]
  },
  {
   "cell_type": "code",
   "execution_count": 6,
   "metadata": {},
   "outputs": [
    {
     "data": {
      "text/html": [
       "<div>\n",
       "<style scoped>\n",
       "    .dataframe tbody tr th:only-of-type {\n",
       "        vertical-align: middle;\n",
       "    }\n",
       "\n",
       "    .dataframe tbody tr th {\n",
       "        vertical-align: top;\n",
       "    }\n",
       "\n",
       "    .dataframe thead th {\n",
       "        text-align: right;\n",
       "    }\n",
       "</style>\n",
       "<table border=\"1\" class=\"dataframe\">\n",
       "  <thead>\n",
       "    <tr style=\"text-align: right;\">\n",
       "      <th></th>\n",
       "      <th>mPt/kg de produit</th>\n",
       "      <th>kg CO2 eq/kg de produit</th>\n",
       "      <th>kg CVC11 eq/kg de produit</th>\n",
       "      <th>kBq U-235 eq/kg de produit</th>\n",
       "      <th>kg NMVOC eq/kg de produit</th>\n",
       "      <th>disease inc./kg de produit</th>\n",
       "      <th>CTUh/kg de produit</th>\n",
       "      <th>CTUh/kg de produit.1</th>\n",
       "      <th>mol H+ eq/kg de produit</th>\n",
       "      <th>kg P eq/kg de produit</th>\n",
       "      <th>kg N eq/kg de produit</th>\n",
       "      <th>mol N eq/kg de produit</th>\n",
       "      <th>CTUe/kg de produit</th>\n",
       "      <th>Pt/kg de produit</th>\n",
       "      <th>m3 depriv./kg de produit</th>\n",
       "      <th>MJ/kg de produit</th>\n",
       "      <th>kg Sb eq/kg de produit</th>\n",
       "    </tr>\n",
       "  </thead>\n",
       "  <tbody>\n",
       "    <tr>\n",
       "      <th>0</th>\n",
       "      <td>1.231879</td>\n",
       "      <td>6.766407</td>\n",
       "      <td>1.016925e-06</td>\n",
       "      <td>11.050022</td>\n",
       "      <td>0.038875</td>\n",
       "      <td>7.172914e-07</td>\n",
       "      <td>7.435752e-08</td>\n",
       "      <td>6.482667e-09</td>\n",
       "      <td>0.099733</td>\n",
       "      <td>0.001868</td>\n",
       "      <td>0.013280</td>\n",
       "      <td>0.127350</td>\n",
       "      <td>44.555153</td>\n",
       "      <td>26.476190</td>\n",
       "      <td>3.102487</td>\n",
       "      <td>315.057170</td>\n",
       "      <td>0.000088</td>\n",
       "    </tr>\n",
       "    <tr>\n",
       "      <th>1</th>\n",
       "      <td>0.103150</td>\n",
       "      <td>0.749409</td>\n",
       "      <td>1.226396e-07</td>\n",
       "      <td>0.171326</td>\n",
       "      <td>0.002925</td>\n",
       "      <td>8.248252e-08</td>\n",
       "      <td>1.172483e-08</td>\n",
       "      <td>4.662163e-10</td>\n",
       "      <td>0.006222</td>\n",
       "      <td>0.000124</td>\n",
       "      <td>0.002320</td>\n",
       "      <td>0.012695</td>\n",
       "      <td>5.832120</td>\n",
       "      <td>20.223652</td>\n",
       "      <td>2.520528</td>\n",
       "      <td>12.665447</td>\n",
       "      <td>0.000007</td>\n",
       "    </tr>\n",
       "    <tr>\n",
       "      <th>2</th>\n",
       "      <td>0.063814</td>\n",
       "      <td>0.356122</td>\n",
       "      <td>5.447861e-08</td>\n",
       "      <td>0.142791</td>\n",
       "      <td>0.001067</td>\n",
       "      <td>2.326543e-08</td>\n",
       "      <td>7.445715e-09</td>\n",
       "      <td>2.984758e-10</td>\n",
       "      <td>0.002005</td>\n",
       "      <td>0.000068</td>\n",
       "      <td>0.002123</td>\n",
       "      <td>0.006281</td>\n",
       "      <td>4.092332</td>\n",
       "      <td>18.454615</td>\n",
       "      <td>3.021753</td>\n",
       "      <td>6.230187</td>\n",
       "      <td>0.000004</td>\n",
       "    </tr>\n",
       "    <tr>\n",
       "      <th>3</th>\n",
       "      <td>0.132081</td>\n",
       "      <td>0.814944</td>\n",
       "      <td>6.267507e-08</td>\n",
       "      <td>0.141342</td>\n",
       "      <td>0.002559</td>\n",
       "      <td>6.896742e-08</td>\n",
       "      <td>1.201909e-08</td>\n",
       "      <td>6.189716e-10</td>\n",
       "      <td>0.008112</td>\n",
       "      <td>0.000203</td>\n",
       "      <td>0.004050</td>\n",
       "      <td>0.031181</td>\n",
       "      <td>5.681342</td>\n",
       "      <td>36.373722</td>\n",
       "      <td>5.292121</td>\n",
       "      <td>12.553109</td>\n",
       "      <td>0.000005</td>\n",
       "    </tr>\n",
       "    <tr>\n",
       "      <th>4</th>\n",
       "      <td>1.231879</td>\n",
       "      <td>6.766407</td>\n",
       "      <td>1.016925e-06</td>\n",
       "      <td>11.050022</td>\n",
       "      <td>0.038875</td>\n",
       "      <td>7.172914e-07</td>\n",
       "      <td>7.435752e-08</td>\n",
       "      <td>6.482667e-09</td>\n",
       "      <td>0.099733</td>\n",
       "      <td>0.001868</td>\n",
       "      <td>0.013280</td>\n",
       "      <td>0.127350</td>\n",
       "      <td>44.555153</td>\n",
       "      <td>26.476190</td>\n",
       "      <td>3.102487</td>\n",
       "      <td>315.057170</td>\n",
       "      <td>0.000088</td>\n",
       "    </tr>\n",
       "    <tr>\n",
       "      <th>...</th>\n",
       "      <td>...</td>\n",
       "      <td>...</td>\n",
       "      <td>...</td>\n",
       "      <td>...</td>\n",
       "      <td>...</td>\n",
       "      <td>...</td>\n",
       "      <td>...</td>\n",
       "      <td>...</td>\n",
       "      <td>...</td>\n",
       "      <td>...</td>\n",
       "      <td>...</td>\n",
       "      <td>...</td>\n",
       "      <td>...</td>\n",
       "      <td>...</td>\n",
       "      <td>...</td>\n",
       "      <td>...</td>\n",
       "      <td>...</td>\n",
       "    </tr>\n",
       "    <tr>\n",
       "      <th>2512</th>\n",
       "      <td>2.176514</td>\n",
       "      <td>22.449542</td>\n",
       "      <td>7.118798e-07</td>\n",
       "      <td>1.871038</td>\n",
       "      <td>0.041801</td>\n",
       "      <td>1.520288e-06</td>\n",
       "      <td>4.348472e-07</td>\n",
       "      <td>1.083839e-08</td>\n",
       "      <td>0.224717</td>\n",
       "      <td>0.002212</td>\n",
       "      <td>0.155523</td>\n",
       "      <td>0.960260</td>\n",
       "      <td>192.779240</td>\n",
       "      <td>1521.149300</td>\n",
       "      <td>6.276344</td>\n",
       "      <td>111.478480</td>\n",
       "      <td>0.000038</td>\n",
       "    </tr>\n",
       "    <tr>\n",
       "      <th>2513</th>\n",
       "      <td>2.259190</td>\n",
       "      <td>23.553954</td>\n",
       "      <td>7.741004e-07</td>\n",
       "      <td>1.681672</td>\n",
       "      <td>0.043812</td>\n",
       "      <td>1.573957e-06</td>\n",
       "      <td>4.497061e-07</td>\n",
       "      <td>1.123270e-08</td>\n",
       "      <td>0.232137</td>\n",
       "      <td>0.002296</td>\n",
       "      <td>0.160360</td>\n",
       "      <td>0.990430</td>\n",
       "      <td>200.367930</td>\n",
       "      <td>1566.700800</td>\n",
       "      <td>6.517015</td>\n",
       "      <td>115.625970</td>\n",
       "      <td>0.000041</td>\n",
       "    </tr>\n",
       "    <tr>\n",
       "      <th>2514</th>\n",
       "      <td>0.816244</td>\n",
       "      <td>4.250231</td>\n",
       "      <td>7.762743e-07</td>\n",
       "      <td>0.425344</td>\n",
       "      <td>0.064757</td>\n",
       "      <td>7.255321e-07</td>\n",
       "      <td>9.079754e-08</td>\n",
       "      <td>4.015680e-09</td>\n",
       "      <td>0.095432</td>\n",
       "      <td>0.000677</td>\n",
       "      <td>0.022499</td>\n",
       "      <td>0.244290</td>\n",
       "      <td>24.102134</td>\n",
       "      <td>14.699972</td>\n",
       "      <td>0.559311</td>\n",
       "      <td>60.601249</td>\n",
       "      <td>0.000163</td>\n",
       "    </tr>\n",
       "    <tr>\n",
       "      <th>2515</th>\n",
       "      <td>1.025393</td>\n",
       "      <td>5.164618</td>\n",
       "      <td>9.573010e-07</td>\n",
       "      <td>1.118427</td>\n",
       "      <td>0.079025</td>\n",
       "      <td>8.874934e-07</td>\n",
       "      <td>1.135457e-07</td>\n",
       "      <td>5.002364e-09</td>\n",
       "      <td>0.116709</td>\n",
       "      <td>0.000867</td>\n",
       "      <td>0.027545</td>\n",
       "      <td>0.298742</td>\n",
       "      <td>29.317396</td>\n",
       "      <td>18.678957</td>\n",
       "      <td>0.642664</td>\n",
       "      <td>86.252396</td>\n",
       "      <td>0.000203</td>\n",
       "    </tr>\n",
       "    <tr>\n",
       "      <th>2516</th>\n",
       "      <td>0.861131</td>\n",
       "      <td>6.037270</td>\n",
       "      <td>7.353039e-07</td>\n",
       "      <td>3.141514</td>\n",
       "      <td>0.013492</td>\n",
       "      <td>7.379236e-07</td>\n",
       "      <td>8.581478e-08</td>\n",
       "      <td>4.905220e-09</td>\n",
       "      <td>0.102578</td>\n",
       "      <td>0.000987</td>\n",
       "      <td>0.026625</td>\n",
       "      <td>0.436752</td>\n",
       "      <td>86.087428</td>\n",
       "      <td>342.123720</td>\n",
       "      <td>4.029214</td>\n",
       "      <td>96.404511</td>\n",
       "      <td>0.000025</td>\n",
       "    </tr>\n",
       "  </tbody>\n",
       "</table>\n",
       "<p>2517 rows × 17 columns</p>\n",
       "</div>"
      ],
      "text/plain": [
       "      mPt/kg de produit  kg CO2 eq/kg de produit  kg CVC11 eq/kg de produit  \\\n",
       "0              1.231879                 6.766407               1.016925e-06   \n",
       "1              0.103150                 0.749409               1.226396e-07   \n",
       "2              0.063814                 0.356122               5.447861e-08   \n",
       "3              0.132081                 0.814944               6.267507e-08   \n",
       "4              1.231879                 6.766407               1.016925e-06   \n",
       "...                 ...                      ...                        ...   \n",
       "2512           2.176514                22.449542               7.118798e-07   \n",
       "2513           2.259190                23.553954               7.741004e-07   \n",
       "2514           0.816244                 4.250231               7.762743e-07   \n",
       "2515           1.025393                 5.164618               9.573010e-07   \n",
       "2516           0.861131                 6.037270               7.353039e-07   \n",
       "\n",
       "      kBq U-235 eq/kg de produit  kg NMVOC eq/kg de produit  \\\n",
       "0                      11.050022                   0.038875   \n",
       "1                       0.171326                   0.002925   \n",
       "2                       0.142791                   0.001067   \n",
       "3                       0.141342                   0.002559   \n",
       "4                      11.050022                   0.038875   \n",
       "...                          ...                        ...   \n",
       "2512                    1.871038                   0.041801   \n",
       "2513                    1.681672                   0.043812   \n",
       "2514                    0.425344                   0.064757   \n",
       "2515                    1.118427                   0.079025   \n",
       "2516                    3.141514                   0.013492   \n",
       "\n",
       "      disease inc./kg de produit  CTUh/kg de produit  CTUh/kg de produit.1  \\\n",
       "0                   7.172914e-07        7.435752e-08          6.482667e-09   \n",
       "1                   8.248252e-08        1.172483e-08          4.662163e-10   \n",
       "2                   2.326543e-08        7.445715e-09          2.984758e-10   \n",
       "3                   6.896742e-08        1.201909e-08          6.189716e-10   \n",
       "4                   7.172914e-07        7.435752e-08          6.482667e-09   \n",
       "...                          ...                 ...                   ...   \n",
       "2512                1.520288e-06        4.348472e-07          1.083839e-08   \n",
       "2513                1.573957e-06        4.497061e-07          1.123270e-08   \n",
       "2514                7.255321e-07        9.079754e-08          4.015680e-09   \n",
       "2515                8.874934e-07        1.135457e-07          5.002364e-09   \n",
       "2516                7.379236e-07        8.581478e-08          4.905220e-09   \n",
       "\n",
       "      mol H+ eq/kg de produit  kg P eq/kg de produit  kg N eq/kg de produit  \\\n",
       "0                    0.099733               0.001868               0.013280   \n",
       "1                    0.006222               0.000124               0.002320   \n",
       "2                    0.002005               0.000068               0.002123   \n",
       "3                    0.008112               0.000203               0.004050   \n",
       "4                    0.099733               0.001868               0.013280   \n",
       "...                       ...                    ...                    ...   \n",
       "2512                 0.224717               0.002212               0.155523   \n",
       "2513                 0.232137               0.002296               0.160360   \n",
       "2514                 0.095432               0.000677               0.022499   \n",
       "2515                 0.116709               0.000867               0.027545   \n",
       "2516                 0.102578               0.000987               0.026625   \n",
       "\n",
       "      mol N eq/kg de produit  CTUe/kg de produit  Pt/kg de produit  \\\n",
       "0                   0.127350           44.555153         26.476190   \n",
       "1                   0.012695            5.832120         20.223652   \n",
       "2                   0.006281            4.092332         18.454615   \n",
       "3                   0.031181            5.681342         36.373722   \n",
       "4                   0.127350           44.555153         26.476190   \n",
       "...                      ...                 ...               ...   \n",
       "2512                0.960260          192.779240       1521.149300   \n",
       "2513                0.990430          200.367930       1566.700800   \n",
       "2514                0.244290           24.102134         14.699972   \n",
       "2515                0.298742           29.317396         18.678957   \n",
       "2516                0.436752           86.087428        342.123720   \n",
       "\n",
       "      m3 depriv./kg de produit  MJ/kg de produit  kg Sb eq/kg de produit  \n",
       "0                     3.102487        315.057170                0.000088  \n",
       "1                     2.520528         12.665447                0.000007  \n",
       "2                     3.021753          6.230187                0.000004  \n",
       "3                     5.292121         12.553109                0.000005  \n",
       "4                     3.102487        315.057170                0.000088  \n",
       "...                        ...               ...                     ...  \n",
       "2512                  6.276344        111.478480                0.000038  \n",
       "2513                  6.517015        115.625970                0.000041  \n",
       "2514                  0.559311         60.601249                0.000163  \n",
       "2515                  0.642664         86.252396                0.000203  \n",
       "2516                  4.029214         96.404511                0.000025  \n",
       "\n",
       "[2517 rows x 17 columns]"
      ]
     },
     "execution_count": 6,
     "metadata": {},
     "output_type": "execute_result"
    }
   ],
   "source": [
    "sub_df = df_synthese[liste_indicateurs]\n",
    "sub_df"
   ]
  },
  {
   "cell_type": "code",
   "execution_count": 10,
   "metadata": {},
   "outputs": [
    {
     "data": {
      "text/html": [
       "<div>\n",
       "<style scoped>\n",
       "    .dataframe tbody tr th:only-of-type {\n",
       "        vertical-align: middle;\n",
       "    }\n",
       "\n",
       "    .dataframe tbody tr th {\n",
       "        vertical-align: top;\n",
       "    }\n",
       "\n",
       "    .dataframe thead th {\n",
       "        text-align: right;\n",
       "    }\n",
       "</style>\n",
       "<table border=\"1\" class=\"dataframe\">\n",
       "  <thead>\n",
       "    <tr style=\"text-align: right;\">\n",
       "      <th></th>\n",
       "      <th>mPt/kg de produit</th>\n",
       "      <th>kg CO2 eq/kg de produit</th>\n",
       "      <th>kg CVC11 eq/kg de produit</th>\n",
       "      <th>kBq U-235 eq/kg de produit</th>\n",
       "      <th>kg NMVOC eq/kg de produit</th>\n",
       "      <th>disease inc./kg de produit</th>\n",
       "      <th>CTUh/kg de produit</th>\n",
       "      <th>CTUh/kg de produit.1</th>\n",
       "      <th>mol H+ eq/kg de produit</th>\n",
       "      <th>kg P eq/kg de produit</th>\n",
       "      <th>kg N eq/kg de produit</th>\n",
       "      <th>mol N eq/kg de produit</th>\n",
       "      <th>CTUe/kg de produit</th>\n",
       "      <th>Pt/kg de produit</th>\n",
       "      <th>m3 depriv./kg de produit</th>\n",
       "      <th>MJ/kg de produit</th>\n",
       "      <th>kg Sb eq/kg de produit</th>\n",
       "    </tr>\n",
       "  </thead>\n",
       "  <tbody>\n",
       "    <tr>\n",
       "      <th>mPt/kg de produit</th>\n",
       "      <td>1.000000</td>\n",
       "      <td>0.947386</td>\n",
       "      <td>0.065243</td>\n",
       "      <td>0.369613</td>\n",
       "      <td>0.565663</td>\n",
       "      <td>0.950934</td>\n",
       "      <td>0.828930</td>\n",
       "      <td>0.876419</td>\n",
       "      <td>0.949964</td>\n",
       "      <td>0.402994</td>\n",
       "      <td>0.688844</td>\n",
       "      <td>0.938404</td>\n",
       "      <td>0.686558</td>\n",
       "      <td>0.832667</td>\n",
       "      <td>0.261137</td>\n",
       "      <td>0.682992</td>\n",
       "      <td>0.494412</td>\n",
       "    </tr>\n",
       "    <tr>\n",
       "      <th>kg CO2 eq/kg de produit</th>\n",
       "      <td>0.947386</td>\n",
       "      <td>1.000000</td>\n",
       "      <td>0.049274</td>\n",
       "      <td>0.267596</td>\n",
       "      <td>0.428887</td>\n",
       "      <td>0.915789</td>\n",
       "      <td>0.851683</td>\n",
       "      <td>0.862575</td>\n",
       "      <td>0.926448</td>\n",
       "      <td>0.295044</td>\n",
       "      <td>0.652883</td>\n",
       "      <td>0.947547</td>\n",
       "      <td>0.639807</td>\n",
       "      <td>0.903473</td>\n",
       "      <td>0.082740</td>\n",
       "      <td>0.540470</td>\n",
       "      <td>0.398838</td>\n",
       "    </tr>\n",
       "    <tr>\n",
       "      <th>kg CVC11 eq/kg de produit</th>\n",
       "      <td>0.065243</td>\n",
       "      <td>0.049274</td>\n",
       "      <td>1.000000</td>\n",
       "      <td>0.029070</td>\n",
       "      <td>0.093087</td>\n",
       "      <td>0.064861</td>\n",
       "      <td>0.026183</td>\n",
       "      <td>0.051884</td>\n",
       "      <td>0.061182</td>\n",
       "      <td>0.019724</td>\n",
       "      <td>0.047470</td>\n",
       "      <td>0.046396</td>\n",
       "      <td>0.028923</td>\n",
       "      <td>0.017090</td>\n",
       "      <td>-0.021987</td>\n",
       "      <td>0.077507</td>\n",
       "      <td>0.066610</td>\n",
       "    </tr>\n",
       "    <tr>\n",
       "      <th>kBq U-235 eq/kg de produit</th>\n",
       "      <td>0.369613</td>\n",
       "      <td>0.267596</td>\n",
       "      <td>0.029070</td>\n",
       "      <td>1.000000</td>\n",
       "      <td>0.139794</td>\n",
       "      <td>0.277462</td>\n",
       "      <td>0.189011</td>\n",
       "      <td>0.325518</td>\n",
       "      <td>0.270315</td>\n",
       "      <td>0.214910</td>\n",
       "      <td>0.179822</td>\n",
       "      <td>0.250938</td>\n",
       "      <td>0.314612</td>\n",
       "      <td>0.150742</td>\n",
       "      <td>0.155708</td>\n",
       "      <td>0.813752</td>\n",
       "      <td>0.278450</td>\n",
       "    </tr>\n",
       "    <tr>\n",
       "      <th>kg NMVOC eq/kg de produit</th>\n",
       "      <td>0.565663</td>\n",
       "      <td>0.428887</td>\n",
       "      <td>0.093087</td>\n",
       "      <td>0.139794</td>\n",
       "      <td>1.000000</td>\n",
       "      <td>0.647990</td>\n",
       "      <td>0.214615</td>\n",
       "      <td>0.452107</td>\n",
       "      <td>0.609248</td>\n",
       "      <td>0.112739</td>\n",
       "      <td>0.418946</td>\n",
       "      <td>0.445077</td>\n",
       "      <td>0.212798</td>\n",
       "      <td>0.154565</td>\n",
       "      <td>-0.007279</td>\n",
       "      <td>0.627023</td>\n",
       "      <td>0.464543</td>\n",
       "    </tr>\n",
       "    <tr>\n",
       "      <th>disease inc./kg de produit</th>\n",
       "      <td>0.950934</td>\n",
       "      <td>0.915789</td>\n",
       "      <td>0.064861</td>\n",
       "      <td>0.277462</td>\n",
       "      <td>0.647990</td>\n",
       "      <td>1.000000</td>\n",
       "      <td>0.754346</td>\n",
       "      <td>0.833564</td>\n",
       "      <td>0.996644</td>\n",
       "      <td>0.225333</td>\n",
       "      <td>0.598871</td>\n",
       "      <td>0.968306</td>\n",
       "      <td>0.603293</td>\n",
       "      <td>0.809610</td>\n",
       "      <td>0.044554</td>\n",
       "      <td>0.615894</td>\n",
       "      <td>0.432298</td>\n",
       "    </tr>\n",
       "    <tr>\n",
       "      <th>CTUh/kg de produit</th>\n",
       "      <td>0.828930</td>\n",
       "      <td>0.851683</td>\n",
       "      <td>0.026183</td>\n",
       "      <td>0.189011</td>\n",
       "      <td>0.214615</td>\n",
       "      <td>0.754346</td>\n",
       "      <td>1.000000</td>\n",
       "      <td>0.817530</td>\n",
       "      <td>0.774785</td>\n",
       "      <td>0.265756</td>\n",
       "      <td>0.591007</td>\n",
       "      <td>0.828527</td>\n",
       "      <td>0.695976</td>\n",
       "      <td>0.840745</td>\n",
       "      <td>0.204481</td>\n",
       "      <td>0.385883</td>\n",
       "      <td>0.349036</td>\n",
       "    </tr>\n",
       "    <tr>\n",
       "      <th>CTUh/kg de produit.1</th>\n",
       "      <td>0.876419</td>\n",
       "      <td>0.862575</td>\n",
       "      <td>0.051884</td>\n",
       "      <td>0.325518</td>\n",
       "      <td>0.452107</td>\n",
       "      <td>0.833564</td>\n",
       "      <td>0.817530</td>\n",
       "      <td>1.000000</td>\n",
       "      <td>0.834079</td>\n",
       "      <td>0.323923</td>\n",
       "      <td>0.571931</td>\n",
       "      <td>0.834304</td>\n",
       "      <td>0.801358</td>\n",
       "      <td>0.749323</td>\n",
       "      <td>0.092729</td>\n",
       "      <td>0.613812</td>\n",
       "      <td>0.535592</td>\n",
       "    </tr>\n",
       "    <tr>\n",
       "      <th>mol H+ eq/kg de produit</th>\n",
       "      <td>0.949964</td>\n",
       "      <td>0.926448</td>\n",
       "      <td>0.061182</td>\n",
       "      <td>0.270315</td>\n",
       "      <td>0.609248</td>\n",
       "      <td>0.996644</td>\n",
       "      <td>0.774785</td>\n",
       "      <td>0.834079</td>\n",
       "      <td>1.000000</td>\n",
       "      <td>0.220141</td>\n",
       "      <td>0.585263</td>\n",
       "      <td>0.979952</td>\n",
       "      <td>0.599223</td>\n",
       "      <td>0.836952</td>\n",
       "      <td>0.042380</td>\n",
       "      <td>0.588788</td>\n",
       "      <td>0.411761</td>\n",
       "    </tr>\n",
       "    <tr>\n",
       "      <th>kg P eq/kg de produit</th>\n",
       "      <td>0.402994</td>\n",
       "      <td>0.295044</td>\n",
       "      <td>0.019724</td>\n",
       "      <td>0.214910</td>\n",
       "      <td>0.112739</td>\n",
       "      <td>0.225333</td>\n",
       "      <td>0.265756</td>\n",
       "      <td>0.323923</td>\n",
       "      <td>0.220141</td>\n",
       "      <td>1.000000</td>\n",
       "      <td>0.303853</td>\n",
       "      <td>0.225066</td>\n",
       "      <td>0.311330</td>\n",
       "      <td>0.221046</td>\n",
       "      <td>0.536389</td>\n",
       "      <td>0.317641</td>\n",
       "      <td>0.216586</td>\n",
       "    </tr>\n",
       "    <tr>\n",
       "      <th>kg N eq/kg de produit</th>\n",
       "      <td>0.688844</td>\n",
       "      <td>0.652883</td>\n",
       "      <td>0.047470</td>\n",
       "      <td>0.179822</td>\n",
       "      <td>0.418946</td>\n",
       "      <td>0.598871</td>\n",
       "      <td>0.591007</td>\n",
       "      <td>0.571931</td>\n",
       "      <td>0.585263</td>\n",
       "      <td>0.303853</td>\n",
       "      <td>1.000000</td>\n",
       "      <td>0.575266</td>\n",
       "      <td>0.499506</td>\n",
       "      <td>0.529976</td>\n",
       "      <td>0.090719</td>\n",
       "      <td>0.498259</td>\n",
       "      <td>0.267690</td>\n",
       "    </tr>\n",
       "    <tr>\n",
       "      <th>mol N eq/kg de produit</th>\n",
       "      <td>0.938404</td>\n",
       "      <td>0.947547</td>\n",
       "      <td>0.046396</td>\n",
       "      <td>0.250938</td>\n",
       "      <td>0.445077</td>\n",
       "      <td>0.968306</td>\n",
       "      <td>0.828527</td>\n",
       "      <td>0.834304</td>\n",
       "      <td>0.979952</td>\n",
       "      <td>0.225066</td>\n",
       "      <td>0.575266</td>\n",
       "      <td>1.000000</td>\n",
       "      <td>0.632426</td>\n",
       "      <td>0.913482</td>\n",
       "      <td>0.053748</td>\n",
       "      <td>0.501747</td>\n",
       "      <td>0.352397</td>\n",
       "    </tr>\n",
       "    <tr>\n",
       "      <th>CTUe/kg de produit</th>\n",
       "      <td>0.686558</td>\n",
       "      <td>0.639807</td>\n",
       "      <td>0.028923</td>\n",
       "      <td>0.314612</td>\n",
       "      <td>0.212798</td>\n",
       "      <td>0.603293</td>\n",
       "      <td>0.695976</td>\n",
       "      <td>0.801358</td>\n",
       "      <td>0.599223</td>\n",
       "      <td>0.311330</td>\n",
       "      <td>0.499506</td>\n",
       "      <td>0.632426</td>\n",
       "      <td>1.000000</td>\n",
       "      <td>0.569376</td>\n",
       "      <td>0.216099</td>\n",
       "      <td>0.489012</td>\n",
       "      <td>0.353808</td>\n",
       "    </tr>\n",
       "    <tr>\n",
       "      <th>Pt/kg de produit</th>\n",
       "      <td>0.832667</td>\n",
       "      <td>0.903473</td>\n",
       "      <td>0.017090</td>\n",
       "      <td>0.150742</td>\n",
       "      <td>0.154565</td>\n",
       "      <td>0.809610</td>\n",
       "      <td>0.840745</td>\n",
       "      <td>0.749323</td>\n",
       "      <td>0.836952</td>\n",
       "      <td>0.221046</td>\n",
       "      <td>0.529976</td>\n",
       "      <td>0.913482</td>\n",
       "      <td>0.569376</td>\n",
       "      <td>1.000000</td>\n",
       "      <td>0.101063</td>\n",
       "      <td>0.291829</td>\n",
       "      <td>0.220824</td>\n",
       "    </tr>\n",
       "    <tr>\n",
       "      <th>m3 depriv./kg de produit</th>\n",
       "      <td>0.261137</td>\n",
       "      <td>0.082740</td>\n",
       "      <td>-0.021987</td>\n",
       "      <td>0.155708</td>\n",
       "      <td>-0.007279</td>\n",
       "      <td>0.044554</td>\n",
       "      <td>0.204481</td>\n",
       "      <td>0.092729</td>\n",
       "      <td>0.042380</td>\n",
       "      <td>0.536389</td>\n",
       "      <td>0.090719</td>\n",
       "      <td>0.053748</td>\n",
       "      <td>0.216099</td>\n",
       "      <td>0.101063</td>\n",
       "      <td>1.000000</td>\n",
       "      <td>0.155035</td>\n",
       "      <td>0.067549</td>\n",
       "    </tr>\n",
       "    <tr>\n",
       "      <th>MJ/kg de produit</th>\n",
       "      <td>0.682992</td>\n",
       "      <td>0.540470</td>\n",
       "      <td>0.077507</td>\n",
       "      <td>0.813752</td>\n",
       "      <td>0.627023</td>\n",
       "      <td>0.615894</td>\n",
       "      <td>0.385883</td>\n",
       "      <td>0.613812</td>\n",
       "      <td>0.588788</td>\n",
       "      <td>0.317641</td>\n",
       "      <td>0.498259</td>\n",
       "      <td>0.501747</td>\n",
       "      <td>0.489012</td>\n",
       "      <td>0.291829</td>\n",
       "      <td>0.155035</td>\n",
       "      <td>1.000000</td>\n",
       "      <td>0.571613</td>\n",
       "    </tr>\n",
       "    <tr>\n",
       "      <th>kg Sb eq/kg de produit</th>\n",
       "      <td>0.494412</td>\n",
       "      <td>0.398838</td>\n",
       "      <td>0.066610</td>\n",
       "      <td>0.278450</td>\n",
       "      <td>0.464543</td>\n",
       "      <td>0.432298</td>\n",
       "      <td>0.349036</td>\n",
       "      <td>0.535592</td>\n",
       "      <td>0.411761</td>\n",
       "      <td>0.216586</td>\n",
       "      <td>0.267690</td>\n",
       "      <td>0.352397</td>\n",
       "      <td>0.353808</td>\n",
       "      <td>0.220824</td>\n",
       "      <td>0.067549</td>\n",
       "      <td>0.571613</td>\n",
       "      <td>1.000000</td>\n",
       "    </tr>\n",
       "  </tbody>\n",
       "</table>\n",
       "</div>"
      ],
      "text/plain": [
       "                            mPt/kg de produit  kg CO2 eq/kg de produit  \\\n",
       "mPt/kg de produit                    1.000000                 0.947386   \n",
       "kg CO2 eq/kg de produit              0.947386                 1.000000   \n",
       "kg CVC11 eq/kg de produit            0.065243                 0.049274   \n",
       "kBq U-235 eq/kg de produit           0.369613                 0.267596   \n",
       "kg NMVOC eq/kg de produit            0.565663                 0.428887   \n",
       "disease inc./kg de produit           0.950934                 0.915789   \n",
       "CTUh/kg de produit                   0.828930                 0.851683   \n",
       "CTUh/kg de produit.1                 0.876419                 0.862575   \n",
       "mol H+ eq/kg de produit              0.949964                 0.926448   \n",
       "kg P eq/kg de produit                0.402994                 0.295044   \n",
       "kg N eq/kg de produit                0.688844                 0.652883   \n",
       "mol N eq/kg de produit               0.938404                 0.947547   \n",
       "CTUe/kg de produit                   0.686558                 0.639807   \n",
       "Pt/kg de produit                     0.832667                 0.903473   \n",
       "m3 depriv./kg de produit             0.261137                 0.082740   \n",
       "MJ/kg de produit                     0.682992                 0.540470   \n",
       "kg Sb eq/kg de produit               0.494412                 0.398838   \n",
       "\n",
       "                            kg CVC11 eq/kg de produit  \\\n",
       "mPt/kg de produit                            0.065243   \n",
       "kg CO2 eq/kg de produit                      0.049274   \n",
       "kg CVC11 eq/kg de produit                    1.000000   \n",
       "kBq U-235 eq/kg de produit                   0.029070   \n",
       "kg NMVOC eq/kg de produit                    0.093087   \n",
       "disease inc./kg de produit                   0.064861   \n",
       "CTUh/kg de produit                           0.026183   \n",
       "CTUh/kg de produit.1                         0.051884   \n",
       "mol H+ eq/kg de produit                      0.061182   \n",
       "kg P eq/kg de produit                        0.019724   \n",
       "kg N eq/kg de produit                        0.047470   \n",
       "mol N eq/kg de produit                       0.046396   \n",
       "CTUe/kg de produit                           0.028923   \n",
       "Pt/kg de produit                             0.017090   \n",
       "m3 depriv./kg de produit                    -0.021987   \n",
       "MJ/kg de produit                             0.077507   \n",
       "kg Sb eq/kg de produit                       0.066610   \n",
       "\n",
       "                            kBq U-235 eq/kg de produit  \\\n",
       "mPt/kg de produit                             0.369613   \n",
       "kg CO2 eq/kg de produit                       0.267596   \n",
       "kg CVC11 eq/kg de produit                     0.029070   \n",
       "kBq U-235 eq/kg de produit                    1.000000   \n",
       "kg NMVOC eq/kg de produit                     0.139794   \n",
       "disease inc./kg de produit                    0.277462   \n",
       "CTUh/kg de produit                            0.189011   \n",
       "CTUh/kg de produit.1                          0.325518   \n",
       "mol H+ eq/kg de produit                       0.270315   \n",
       "kg P eq/kg de produit                         0.214910   \n",
       "kg N eq/kg de produit                         0.179822   \n",
       "mol N eq/kg de produit                        0.250938   \n",
       "CTUe/kg de produit                            0.314612   \n",
       "Pt/kg de produit                              0.150742   \n",
       "m3 depriv./kg de produit                      0.155708   \n",
       "MJ/kg de produit                              0.813752   \n",
       "kg Sb eq/kg de produit                        0.278450   \n",
       "\n",
       "                            kg NMVOC eq/kg de produit  \\\n",
       "mPt/kg de produit                            0.565663   \n",
       "kg CO2 eq/kg de produit                      0.428887   \n",
       "kg CVC11 eq/kg de produit                    0.093087   \n",
       "kBq U-235 eq/kg de produit                   0.139794   \n",
       "kg NMVOC eq/kg de produit                    1.000000   \n",
       "disease inc./kg de produit                   0.647990   \n",
       "CTUh/kg de produit                           0.214615   \n",
       "CTUh/kg de produit.1                         0.452107   \n",
       "mol H+ eq/kg de produit                      0.609248   \n",
       "kg P eq/kg de produit                        0.112739   \n",
       "kg N eq/kg de produit                        0.418946   \n",
       "mol N eq/kg de produit                       0.445077   \n",
       "CTUe/kg de produit                           0.212798   \n",
       "Pt/kg de produit                             0.154565   \n",
       "m3 depriv./kg de produit                    -0.007279   \n",
       "MJ/kg de produit                             0.627023   \n",
       "kg Sb eq/kg de produit                       0.464543   \n",
       "\n",
       "                            disease inc./kg de produit  CTUh/kg de produit  \\\n",
       "mPt/kg de produit                             0.950934            0.828930   \n",
       "kg CO2 eq/kg de produit                       0.915789            0.851683   \n",
       "kg CVC11 eq/kg de produit                     0.064861            0.026183   \n",
       "kBq U-235 eq/kg de produit                    0.277462            0.189011   \n",
       "kg NMVOC eq/kg de produit                     0.647990            0.214615   \n",
       "disease inc./kg de produit                    1.000000            0.754346   \n",
       "CTUh/kg de produit                            0.754346            1.000000   \n",
       "CTUh/kg de produit.1                          0.833564            0.817530   \n",
       "mol H+ eq/kg de produit                       0.996644            0.774785   \n",
       "kg P eq/kg de produit                         0.225333            0.265756   \n",
       "kg N eq/kg de produit                         0.598871            0.591007   \n",
       "mol N eq/kg de produit                        0.968306            0.828527   \n",
       "CTUe/kg de produit                            0.603293            0.695976   \n",
       "Pt/kg de produit                              0.809610            0.840745   \n",
       "m3 depriv./kg de produit                      0.044554            0.204481   \n",
       "MJ/kg de produit                              0.615894            0.385883   \n",
       "kg Sb eq/kg de produit                        0.432298            0.349036   \n",
       "\n",
       "                            CTUh/kg de produit.1  mol H+ eq/kg de produit  \\\n",
       "mPt/kg de produit                       0.876419                 0.949964   \n",
       "kg CO2 eq/kg de produit                 0.862575                 0.926448   \n",
       "kg CVC11 eq/kg de produit               0.051884                 0.061182   \n",
       "kBq U-235 eq/kg de produit              0.325518                 0.270315   \n",
       "kg NMVOC eq/kg de produit               0.452107                 0.609248   \n",
       "disease inc./kg de produit              0.833564                 0.996644   \n",
       "CTUh/kg de produit                      0.817530                 0.774785   \n",
       "CTUh/kg de produit.1                    1.000000                 0.834079   \n",
       "mol H+ eq/kg de produit                 0.834079                 1.000000   \n",
       "kg P eq/kg de produit                   0.323923                 0.220141   \n",
       "kg N eq/kg de produit                   0.571931                 0.585263   \n",
       "mol N eq/kg de produit                  0.834304                 0.979952   \n",
       "CTUe/kg de produit                      0.801358                 0.599223   \n",
       "Pt/kg de produit                        0.749323                 0.836952   \n",
       "m3 depriv./kg de produit                0.092729                 0.042380   \n",
       "MJ/kg de produit                        0.613812                 0.588788   \n",
       "kg Sb eq/kg de produit                  0.535592                 0.411761   \n",
       "\n",
       "                            kg P eq/kg de produit  kg N eq/kg de produit  \\\n",
       "mPt/kg de produit                        0.402994               0.688844   \n",
       "kg CO2 eq/kg de produit                  0.295044               0.652883   \n",
       "kg CVC11 eq/kg de produit                0.019724               0.047470   \n",
       "kBq U-235 eq/kg de produit               0.214910               0.179822   \n",
       "kg NMVOC eq/kg de produit                0.112739               0.418946   \n",
       "disease inc./kg de produit               0.225333               0.598871   \n",
       "CTUh/kg de produit                       0.265756               0.591007   \n",
       "CTUh/kg de produit.1                     0.323923               0.571931   \n",
       "mol H+ eq/kg de produit                  0.220141               0.585263   \n",
       "kg P eq/kg de produit                    1.000000               0.303853   \n",
       "kg N eq/kg de produit                    0.303853               1.000000   \n",
       "mol N eq/kg de produit                   0.225066               0.575266   \n",
       "CTUe/kg de produit                       0.311330               0.499506   \n",
       "Pt/kg de produit                         0.221046               0.529976   \n",
       "m3 depriv./kg de produit                 0.536389               0.090719   \n",
       "MJ/kg de produit                         0.317641               0.498259   \n",
       "kg Sb eq/kg de produit                   0.216586               0.267690   \n",
       "\n",
       "                            mol N eq/kg de produit  CTUe/kg de produit  \\\n",
       "mPt/kg de produit                         0.938404            0.686558   \n",
       "kg CO2 eq/kg de produit                   0.947547            0.639807   \n",
       "kg CVC11 eq/kg de produit                 0.046396            0.028923   \n",
       "kBq U-235 eq/kg de produit                0.250938            0.314612   \n",
       "kg NMVOC eq/kg de produit                 0.445077            0.212798   \n",
       "disease inc./kg de produit                0.968306            0.603293   \n",
       "CTUh/kg de produit                        0.828527            0.695976   \n",
       "CTUh/kg de produit.1                      0.834304            0.801358   \n",
       "mol H+ eq/kg de produit                   0.979952            0.599223   \n",
       "kg P eq/kg de produit                     0.225066            0.311330   \n",
       "kg N eq/kg de produit                     0.575266            0.499506   \n",
       "mol N eq/kg de produit                    1.000000            0.632426   \n",
       "CTUe/kg de produit                        0.632426            1.000000   \n",
       "Pt/kg de produit                          0.913482            0.569376   \n",
       "m3 depriv./kg de produit                  0.053748            0.216099   \n",
       "MJ/kg de produit                          0.501747            0.489012   \n",
       "kg Sb eq/kg de produit                    0.352397            0.353808   \n",
       "\n",
       "                            Pt/kg de produit  m3 depriv./kg de produit  \\\n",
       "mPt/kg de produit                   0.832667                  0.261137   \n",
       "kg CO2 eq/kg de produit             0.903473                  0.082740   \n",
       "kg CVC11 eq/kg de produit           0.017090                 -0.021987   \n",
       "kBq U-235 eq/kg de produit          0.150742                  0.155708   \n",
       "kg NMVOC eq/kg de produit           0.154565                 -0.007279   \n",
       "disease inc./kg de produit          0.809610                  0.044554   \n",
       "CTUh/kg de produit                  0.840745                  0.204481   \n",
       "CTUh/kg de produit.1                0.749323                  0.092729   \n",
       "mol H+ eq/kg de produit             0.836952                  0.042380   \n",
       "kg P eq/kg de produit               0.221046                  0.536389   \n",
       "kg N eq/kg de produit               0.529976                  0.090719   \n",
       "mol N eq/kg de produit              0.913482                  0.053748   \n",
       "CTUe/kg de produit                  0.569376                  0.216099   \n",
       "Pt/kg de produit                    1.000000                  0.101063   \n",
       "m3 depriv./kg de produit            0.101063                  1.000000   \n",
       "MJ/kg de produit                    0.291829                  0.155035   \n",
       "kg Sb eq/kg de produit              0.220824                  0.067549   \n",
       "\n",
       "                            MJ/kg de produit  kg Sb eq/kg de produit  \n",
       "mPt/kg de produit                   0.682992                0.494412  \n",
       "kg CO2 eq/kg de produit             0.540470                0.398838  \n",
       "kg CVC11 eq/kg de produit           0.077507                0.066610  \n",
       "kBq U-235 eq/kg de produit          0.813752                0.278450  \n",
       "kg NMVOC eq/kg de produit           0.627023                0.464543  \n",
       "disease inc./kg de produit          0.615894                0.432298  \n",
       "CTUh/kg de produit                  0.385883                0.349036  \n",
       "CTUh/kg de produit.1                0.613812                0.535592  \n",
       "mol H+ eq/kg de produit             0.588788                0.411761  \n",
       "kg P eq/kg de produit               0.317641                0.216586  \n",
       "kg N eq/kg de produit               0.498259                0.267690  \n",
       "mol N eq/kg de produit              0.501747                0.352397  \n",
       "CTUe/kg de produit                  0.489012                0.353808  \n",
       "Pt/kg de produit                    0.291829                0.220824  \n",
       "m3 depriv./kg de produit            0.155035                0.067549  \n",
       "MJ/kg de produit                    1.000000                0.571613  \n",
       "kg Sb eq/kg de produit              0.571613                1.000000  "
      ]
     },
     "execution_count": 10,
     "metadata": {},
     "output_type": "execute_result"
    }
   ],
   "source": [
    "correlation = sub_df.corr()\n",
    "correlation"
   ]
  },
  {
   "cell_type": "code",
   "execution_count": 29,
   "metadata": {},
   "outputs": [
    {
     "data": {
      "application/vnd.plotly.v1+json": {
       "config": {
        "plotlyServerURL": "https://plot.ly"
       },
       "data": [
        {
         "colorscale": [
          [
           0,
           "#0000FF"
          ],
          [
           0.5,
           "#808080"
          ],
          [
           1,
           "#FF0000"
          ]
         ],
         "type": "heatmap",
         "x": [
          "mPt/kg de produit",
          "kg CO2 eq/kg de produit",
          "kg CVC11 eq/kg de produit",
          "kBq U-235 eq/kg de produit",
          "kg NMVOC eq/kg de produit",
          "disease inc./kg de produit",
          "CTUh/kg de produit",
          "CTUh/kg de produit.1",
          "mol H+ eq/kg de produit",
          "kg P eq/kg de produit",
          "kg N eq/kg de produit",
          "mol N eq/kg de produit",
          "CTUe/kg de produit",
          "Pt/kg de produit",
          "m3 depriv./kg de produit",
          "MJ/kg de produit",
          "kg Sb eq/kg de produit"
         ],
         "y": [
          "mPt/kg de produit",
          "kg CO2 eq/kg de produit",
          "kg CVC11 eq/kg de produit",
          "kBq U-235 eq/kg de produit",
          "kg NMVOC eq/kg de produit",
          "disease inc./kg de produit",
          "CTUh/kg de produit",
          "CTUh/kg de produit.1",
          "mol H+ eq/kg de produit",
          "kg P eq/kg de produit",
          "kg N eq/kg de produit",
          "mol N eq/kg de produit",
          "CTUe/kg de produit",
          "Pt/kg de produit",
          "m3 depriv./kg de produit",
          "MJ/kg de produit",
          "kg Sb eq/kg de produit"
         ],
         "z": [
          [
           1,
           0.9473855712048322,
           0.06524294524133067,
           0.3696130271512944,
           0.5656629677285165,
           0.9509339112046478,
           0.8289299953117657,
           0.8764192164951456,
           0.9499644367163188,
           0.4029935606066796,
           0.6888435165830319,
           0.9384039808997702,
           0.6865580317168481,
           0.8326665819373434,
           0.2611365555877315,
           0.682991598508674,
           0.4944115420832179
          ],
          [
           0.9473855712048322,
           1,
           0.049273782503266014,
           0.2675955490361641,
           0.42888740395762825,
           0.915788864853393,
           0.8516832804421742,
           0.862575421958524,
           0.9264482758439282,
           0.29504436965685105,
           0.6528832887271644,
           0.9475467714258886,
           0.6398074579235056,
           0.9034727670658096,
           0.08274030267612666,
           0.5404701194244163,
           0.39883764656699117
          ],
          [
           0.06524294524133067,
           0.049273782503266014,
           1,
           0.029070139893983406,
           0.09308685819650947,
           0.06486105600580849,
           0.02618292378245071,
           0.05188397441047541,
           0.06118225670947388,
           0.019724421748604302,
           0.047469684000814326,
           0.046396407252576294,
           0.02892260104746994,
           0.017090488840448847,
           -0.0219871875350149,
           0.07750670288052365,
           0.06660957311325691
          ],
          [
           0.3696130271512944,
           0.2675955490361641,
           0.029070139893983406,
           1,
           0.1397939037862572,
           0.277461939413249,
           0.18901113643505305,
           0.3255175851264333,
           0.27031491037807065,
           0.21490993640501052,
           0.1798223519797905,
           0.2509379902006542,
           0.3146120500754928,
           0.15074219863668573,
           0.155708461406228,
           0.813752208488018,
           0.2784498832652629
          ],
          [
           0.5656629677285165,
           0.42888740395762825,
           0.09308685819650947,
           0.1397939037862572,
           1,
           0.6479901590472227,
           0.21461526840696318,
           0.45210700974883566,
           0.6092475367132986,
           0.11273860170660557,
           0.4189461253220535,
           0.44507748445935047,
           0.2127977160963789,
           0.15456548356996985,
           -0.00727881329952067,
           0.6270227583742546,
           0.4645434167386325
          ],
          [
           0.9509339112046478,
           0.915788864853393,
           0.06486105600580849,
           0.277461939413249,
           0.6479901590472227,
           1,
           0.7543458046370746,
           0.8335636655995119,
           0.996644317963437,
           0.22533335425087989,
           0.5988706075037753,
           0.9683060699857737,
           0.603293463595904,
           0.8096099883652909,
           0.04455435218640553,
           0.6158938981342935,
           0.4322981024773097
          ],
          [
           0.8289299953117657,
           0.8516832804421742,
           0.02618292378245071,
           0.18901113643505305,
           0.21461526840696318,
           0.7543458046370746,
           1,
           0.8175302042364929,
           0.7747851829040895,
           0.26575572391952007,
           0.5910067088778268,
           0.8285273695798918,
           0.695975833335124,
           0.8407452997126473,
           0.20448129302628074,
           0.38588256280370264,
           0.3490358828467857
          ],
          [
           0.8764192164951456,
           0.862575421958524,
           0.05188397441047541,
           0.3255175851264333,
           0.45210700974883566,
           0.8335636655995119,
           0.8175302042364929,
           1,
           0.8340788086418428,
           0.3239231571087076,
           0.5719313916512268,
           0.8343035416521549,
           0.8013584681252017,
           0.7493226220335739,
           0.09272916210600698,
           0.6138124172433492,
           0.5355918079363261
          ],
          [
           0.9499644367163188,
           0.9264482758439282,
           0.06118225670947388,
           0.27031491037807065,
           0.6092475367132986,
           0.996644317963437,
           0.7747851829040895,
           0.8340788086418428,
           1,
           0.22014064999104146,
           0.5852630440305061,
           0.979951794914336,
           0.5992234237760707,
           0.8369520205809482,
           0.04237992204864938,
           0.5887877564107157,
           0.41176060897272215
          ],
          [
           0.4029935606066796,
           0.29504436965685105,
           0.019724421748604302,
           0.21490993640501052,
           0.11273860170660557,
           0.22533335425087989,
           0.26575572391952007,
           0.3239231571087076,
           0.22014064999104146,
           1,
           0.3038530002912341,
           0.22506560389450855,
           0.31133003099971346,
           0.22104648103963573,
           0.5363888843078107,
           0.31764056769549576,
           0.21658644056259613
          ],
          [
           0.6888435165830319,
           0.6528832887271644,
           0.047469684000814326,
           0.1798223519797905,
           0.4189461253220535,
           0.5988706075037753,
           0.5910067088778268,
           0.5719313916512268,
           0.5852630440305061,
           0.3038530002912341,
           1,
           0.5752656352553019,
           0.4995064136399939,
           0.5299757661734056,
           0.09071916263152636,
           0.498259461726101,
           0.2676896992128065
          ],
          [
           0.9384039808997702,
           0.9475467714258886,
           0.046396407252576294,
           0.2509379902006542,
           0.44507748445935047,
           0.9683060699857737,
           0.8285273695798918,
           0.8343035416521549,
           0.979951794914336,
           0.22506560389450855,
           0.5752656352553019,
           1,
           0.6324257686019795,
           0.9134820406293919,
           0.05374776977140274,
           0.5017466798252136,
           0.352397367503211
          ],
          [
           0.6865580317168481,
           0.6398074579235056,
           0.02892260104746994,
           0.3146120500754928,
           0.2127977160963789,
           0.603293463595904,
           0.695975833335124,
           0.8013584681252017,
           0.5992234237760707,
           0.31133003099971346,
           0.4995064136399939,
           0.6324257686019795,
           1,
           0.5693762752851107,
           0.21609859712537635,
           0.48901202138907074,
           0.35380811964629244
          ],
          [
           0.8326665819373434,
           0.9034727670658096,
           0.017090488840448847,
           0.15074219863668573,
           0.15456548356996985,
           0.8096099883652909,
           0.8407452997126473,
           0.7493226220335739,
           0.8369520205809482,
           0.22104648103963573,
           0.5299757661734056,
           0.9134820406293919,
           0.5693762752851107,
           1,
           0.10106336857916047,
           0.2918293535366624,
           0.22082392572005935
          ],
          [
           0.2611365555877315,
           0.08274030267612666,
           -0.0219871875350149,
           0.155708461406228,
           -0.00727881329952067,
           0.04455435218640553,
           0.20448129302628074,
           0.09272916210600698,
           0.04237992204864938,
           0.5363888843078107,
           0.09071916263152636,
           0.05374776977140274,
           0.21609859712537635,
           0.10106336857916047,
           1,
           0.15503461985981581,
           0.06754927499762037
          ],
          [
           0.682991598508674,
           0.5404701194244163,
           0.07750670288052365,
           0.813752208488018,
           0.6270227583742546,
           0.6158938981342935,
           0.38588256280370264,
           0.6138124172433492,
           0.5887877564107157,
           0.31764056769549576,
           0.498259461726101,
           0.5017466798252136,
           0.48901202138907074,
           0.2918293535366624,
           0.15503461985981581,
           1,
           0.571612632937607
          ],
          [
           0.4944115420832179,
           0.39883764656699117,
           0.06660957311325691,
           0.2784498832652629,
           0.4645434167386325,
           0.4322981024773097,
           0.3490358828467857,
           0.5355918079363261,
           0.41176060897272215,
           0.21658644056259613,
           0.2676896992128065,
           0.352397367503211,
           0.35380811964629244,
           0.22082392572005935,
           0.06754927499762037,
           0.571612632937607,
           1
          ]
         ]
        }
       ],
       "layout": {
        "template": {
         "data": {
          "bar": [
           {
            "error_x": {
             "color": "#2a3f5f"
            },
            "error_y": {
             "color": "#2a3f5f"
            },
            "marker": {
             "line": {
              "color": "#E5ECF6",
              "width": 0.5
             },
             "pattern": {
              "fillmode": "overlay",
              "size": 10,
              "solidity": 0.2
             }
            },
            "type": "bar"
           }
          ],
          "barpolar": [
           {
            "marker": {
             "line": {
              "color": "#E5ECF6",
              "width": 0.5
             },
             "pattern": {
              "fillmode": "overlay",
              "size": 10,
              "solidity": 0.2
             }
            },
            "type": "barpolar"
           }
          ],
          "carpet": [
           {
            "aaxis": {
             "endlinecolor": "#2a3f5f",
             "gridcolor": "white",
             "linecolor": "white",
             "minorgridcolor": "white",
             "startlinecolor": "#2a3f5f"
            },
            "baxis": {
             "endlinecolor": "#2a3f5f",
             "gridcolor": "white",
             "linecolor": "white",
             "minorgridcolor": "white",
             "startlinecolor": "#2a3f5f"
            },
            "type": "carpet"
           }
          ],
          "choropleth": [
           {
            "colorbar": {
             "outlinewidth": 0,
             "ticks": ""
            },
            "type": "choropleth"
           }
          ],
          "contour": [
           {
            "colorbar": {
             "outlinewidth": 0,
             "ticks": ""
            },
            "colorscale": [
             [
              0,
              "#0d0887"
             ],
             [
              0.1111111111111111,
              "#46039f"
             ],
             [
              0.2222222222222222,
              "#7201a8"
             ],
             [
              0.3333333333333333,
              "#9c179e"
             ],
             [
              0.4444444444444444,
              "#bd3786"
             ],
             [
              0.5555555555555556,
              "#d8576b"
             ],
             [
              0.6666666666666666,
              "#ed7953"
             ],
             [
              0.7777777777777778,
              "#fb9f3a"
             ],
             [
              0.8888888888888888,
              "#fdca26"
             ],
             [
              1,
              "#f0f921"
             ]
            ],
            "type": "contour"
           }
          ],
          "contourcarpet": [
           {
            "colorbar": {
             "outlinewidth": 0,
             "ticks": ""
            },
            "type": "contourcarpet"
           }
          ],
          "heatmap": [
           {
            "colorbar": {
             "outlinewidth": 0,
             "ticks": ""
            },
            "colorscale": [
             [
              0,
              "#0d0887"
             ],
             [
              0.1111111111111111,
              "#46039f"
             ],
             [
              0.2222222222222222,
              "#7201a8"
             ],
             [
              0.3333333333333333,
              "#9c179e"
             ],
             [
              0.4444444444444444,
              "#bd3786"
             ],
             [
              0.5555555555555556,
              "#d8576b"
             ],
             [
              0.6666666666666666,
              "#ed7953"
             ],
             [
              0.7777777777777778,
              "#fb9f3a"
             ],
             [
              0.8888888888888888,
              "#fdca26"
             ],
             [
              1,
              "#f0f921"
             ]
            ],
            "type": "heatmap"
           }
          ],
          "heatmapgl": [
           {
            "colorbar": {
             "outlinewidth": 0,
             "ticks": ""
            },
            "colorscale": [
             [
              0,
              "#0d0887"
             ],
             [
              0.1111111111111111,
              "#46039f"
             ],
             [
              0.2222222222222222,
              "#7201a8"
             ],
             [
              0.3333333333333333,
              "#9c179e"
             ],
             [
              0.4444444444444444,
              "#bd3786"
             ],
             [
              0.5555555555555556,
              "#d8576b"
             ],
             [
              0.6666666666666666,
              "#ed7953"
             ],
             [
              0.7777777777777778,
              "#fb9f3a"
             ],
             [
              0.8888888888888888,
              "#fdca26"
             ],
             [
              1,
              "#f0f921"
             ]
            ],
            "type": "heatmapgl"
           }
          ],
          "histogram": [
           {
            "marker": {
             "pattern": {
              "fillmode": "overlay",
              "size": 10,
              "solidity": 0.2
             }
            },
            "type": "histogram"
           }
          ],
          "histogram2d": [
           {
            "colorbar": {
             "outlinewidth": 0,
             "ticks": ""
            },
            "colorscale": [
             [
              0,
              "#0d0887"
             ],
             [
              0.1111111111111111,
              "#46039f"
             ],
             [
              0.2222222222222222,
              "#7201a8"
             ],
             [
              0.3333333333333333,
              "#9c179e"
             ],
             [
              0.4444444444444444,
              "#bd3786"
             ],
             [
              0.5555555555555556,
              "#d8576b"
             ],
             [
              0.6666666666666666,
              "#ed7953"
             ],
             [
              0.7777777777777778,
              "#fb9f3a"
             ],
             [
              0.8888888888888888,
              "#fdca26"
             ],
             [
              1,
              "#f0f921"
             ]
            ],
            "type": "histogram2d"
           }
          ],
          "histogram2dcontour": [
           {
            "colorbar": {
             "outlinewidth": 0,
             "ticks": ""
            },
            "colorscale": [
             [
              0,
              "#0d0887"
             ],
             [
              0.1111111111111111,
              "#46039f"
             ],
             [
              0.2222222222222222,
              "#7201a8"
             ],
             [
              0.3333333333333333,
              "#9c179e"
             ],
             [
              0.4444444444444444,
              "#bd3786"
             ],
             [
              0.5555555555555556,
              "#d8576b"
             ],
             [
              0.6666666666666666,
              "#ed7953"
             ],
             [
              0.7777777777777778,
              "#fb9f3a"
             ],
             [
              0.8888888888888888,
              "#fdca26"
             ],
             [
              1,
              "#f0f921"
             ]
            ],
            "type": "histogram2dcontour"
           }
          ],
          "mesh3d": [
           {
            "colorbar": {
             "outlinewidth": 0,
             "ticks": ""
            },
            "type": "mesh3d"
           }
          ],
          "parcoords": [
           {
            "line": {
             "colorbar": {
              "outlinewidth": 0,
              "ticks": ""
             }
            },
            "type": "parcoords"
           }
          ],
          "pie": [
           {
            "automargin": true,
            "type": "pie"
           }
          ],
          "scatter": [
           {
            "fillpattern": {
             "fillmode": "overlay",
             "size": 10,
             "solidity": 0.2
            },
            "type": "scatter"
           }
          ],
          "scatter3d": [
           {
            "line": {
             "colorbar": {
              "outlinewidth": 0,
              "ticks": ""
             }
            },
            "marker": {
             "colorbar": {
              "outlinewidth": 0,
              "ticks": ""
             }
            },
            "type": "scatter3d"
           }
          ],
          "scattercarpet": [
           {
            "marker": {
             "colorbar": {
              "outlinewidth": 0,
              "ticks": ""
             }
            },
            "type": "scattercarpet"
           }
          ],
          "scattergeo": [
           {
            "marker": {
             "colorbar": {
              "outlinewidth": 0,
              "ticks": ""
             }
            },
            "type": "scattergeo"
           }
          ],
          "scattergl": [
           {
            "marker": {
             "colorbar": {
              "outlinewidth": 0,
              "ticks": ""
             }
            },
            "type": "scattergl"
           }
          ],
          "scattermapbox": [
           {
            "marker": {
             "colorbar": {
              "outlinewidth": 0,
              "ticks": ""
             }
            },
            "type": "scattermapbox"
           }
          ],
          "scatterpolar": [
           {
            "marker": {
             "colorbar": {
              "outlinewidth": 0,
              "ticks": ""
             }
            },
            "type": "scatterpolar"
           }
          ],
          "scatterpolargl": [
           {
            "marker": {
             "colorbar": {
              "outlinewidth": 0,
              "ticks": ""
             }
            },
            "type": "scatterpolargl"
           }
          ],
          "scatterternary": [
           {
            "marker": {
             "colorbar": {
              "outlinewidth": 0,
              "ticks": ""
             }
            },
            "type": "scatterternary"
           }
          ],
          "surface": [
           {
            "colorbar": {
             "outlinewidth": 0,
             "ticks": ""
            },
            "colorscale": [
             [
              0,
              "#0d0887"
             ],
             [
              0.1111111111111111,
              "#46039f"
             ],
             [
              0.2222222222222222,
              "#7201a8"
             ],
             [
              0.3333333333333333,
              "#9c179e"
             ],
             [
              0.4444444444444444,
              "#bd3786"
             ],
             [
              0.5555555555555556,
              "#d8576b"
             ],
             [
              0.6666666666666666,
              "#ed7953"
             ],
             [
              0.7777777777777778,
              "#fb9f3a"
             ],
             [
              0.8888888888888888,
              "#fdca26"
             ],
             [
              1,
              "#f0f921"
             ]
            ],
            "type": "surface"
           }
          ],
          "table": [
           {
            "cells": {
             "fill": {
              "color": "#EBF0F8"
             },
             "line": {
              "color": "white"
             }
            },
            "header": {
             "fill": {
              "color": "#C8D4E3"
             },
             "line": {
              "color": "white"
             }
            },
            "type": "table"
           }
          ]
         },
         "layout": {
          "annotationdefaults": {
           "arrowcolor": "#2a3f5f",
           "arrowhead": 0,
           "arrowwidth": 1
          },
          "autotypenumbers": "strict",
          "coloraxis": {
           "colorbar": {
            "outlinewidth": 0,
            "ticks": ""
           }
          },
          "colorscale": {
           "diverging": [
            [
             0,
             "#8e0152"
            ],
            [
             0.1,
             "#c51b7d"
            ],
            [
             0.2,
             "#de77ae"
            ],
            [
             0.3,
             "#f1b6da"
            ],
            [
             0.4,
             "#fde0ef"
            ],
            [
             0.5,
             "#f7f7f7"
            ],
            [
             0.6,
             "#e6f5d0"
            ],
            [
             0.7,
             "#b8e186"
            ],
            [
             0.8,
             "#7fbc41"
            ],
            [
             0.9,
             "#4d9221"
            ],
            [
             1,
             "#276419"
            ]
           ],
           "sequential": [
            [
             0,
             "#0d0887"
            ],
            [
             0.1111111111111111,
             "#46039f"
            ],
            [
             0.2222222222222222,
             "#7201a8"
            ],
            [
             0.3333333333333333,
             "#9c179e"
            ],
            [
             0.4444444444444444,
             "#bd3786"
            ],
            [
             0.5555555555555556,
             "#d8576b"
            ],
            [
             0.6666666666666666,
             "#ed7953"
            ],
            [
             0.7777777777777778,
             "#fb9f3a"
            ],
            [
             0.8888888888888888,
             "#fdca26"
            ],
            [
             1,
             "#f0f921"
            ]
           ],
           "sequentialminus": [
            [
             0,
             "#0d0887"
            ],
            [
             0.1111111111111111,
             "#46039f"
            ],
            [
             0.2222222222222222,
             "#7201a8"
            ],
            [
             0.3333333333333333,
             "#9c179e"
            ],
            [
             0.4444444444444444,
             "#bd3786"
            ],
            [
             0.5555555555555556,
             "#d8576b"
            ],
            [
             0.6666666666666666,
             "#ed7953"
            ],
            [
             0.7777777777777778,
             "#fb9f3a"
            ],
            [
             0.8888888888888888,
             "#fdca26"
            ],
            [
             1,
             "#f0f921"
            ]
           ]
          },
          "colorway": [
           "#636efa",
           "#EF553B",
           "#00cc96",
           "#ab63fa",
           "#FFA15A",
           "#19d3f3",
           "#FF6692",
           "#B6E880",
           "#FF97FF",
           "#FECB52"
          ],
          "font": {
           "color": "#2a3f5f"
          },
          "geo": {
           "bgcolor": "white",
           "lakecolor": "white",
           "landcolor": "#E5ECF6",
           "showlakes": true,
           "showland": true,
           "subunitcolor": "white"
          },
          "hoverlabel": {
           "align": "left"
          },
          "hovermode": "closest",
          "mapbox": {
           "style": "light"
          },
          "paper_bgcolor": "white",
          "plot_bgcolor": "#E5ECF6",
          "polar": {
           "angularaxis": {
            "gridcolor": "white",
            "linecolor": "white",
            "ticks": ""
           },
           "bgcolor": "#E5ECF6",
           "radialaxis": {
            "gridcolor": "white",
            "linecolor": "white",
            "ticks": ""
           }
          },
          "scene": {
           "xaxis": {
            "backgroundcolor": "#E5ECF6",
            "gridcolor": "white",
            "gridwidth": 2,
            "linecolor": "white",
            "showbackground": true,
            "ticks": "",
            "zerolinecolor": "white"
           },
           "yaxis": {
            "backgroundcolor": "#E5ECF6",
            "gridcolor": "white",
            "gridwidth": 2,
            "linecolor": "white",
            "showbackground": true,
            "ticks": "",
            "zerolinecolor": "white"
           },
           "zaxis": {
            "backgroundcolor": "#E5ECF6",
            "gridcolor": "white",
            "gridwidth": 2,
            "linecolor": "white",
            "showbackground": true,
            "ticks": "",
            "zerolinecolor": "white"
           }
          },
          "shapedefaults": {
           "line": {
            "color": "#2a3f5f"
           }
          },
          "ternary": {
           "aaxis": {
            "gridcolor": "white",
            "linecolor": "white",
            "ticks": ""
           },
           "baxis": {
            "gridcolor": "white",
            "linecolor": "white",
            "ticks": ""
           },
           "bgcolor": "#E5ECF6",
           "caxis": {
            "gridcolor": "white",
            "linecolor": "white",
            "ticks": ""
           }
          },
          "title": {
           "x": 0.05
          },
          "xaxis": {
           "automargin": true,
           "gridcolor": "white",
           "linecolor": "white",
           "ticks": "",
           "title": {
            "standoff": 15
           },
           "zerolinecolor": "white",
           "zerolinewidth": 2
          },
          "yaxis": {
           "automargin": true,
           "gridcolor": "white",
           "linecolor": "white",
           "ticks": "",
           "title": {
            "standoff": 15
           },
           "zerolinecolor": "white",
           "zerolinewidth": 2
          }
         }
        }
       }
      }
     },
     "metadata": {},
     "output_type": "display_data"
    }
   ],
   "source": [
    "representation = go.Figure()\n",
    "corrplot = go.Heatmap(x=correlation.columns, y=correlation.index, z=correlation, colorscale=[[0.0, '#0000FF'],[0.5,'#808080'], [1.0, '#FF0000']])\n",
    "representation.add_trace(corrplot)\n",
    "representation.show()"
   ]
  },
  {
   "attachments": {},
   "cell_type": "markdown",
   "metadata": {},
   "source": [
    "ccl:\n",
    "- le score unique, le changement climatique, les particules fines, les substances non cancérogènes et cancérogènes, l'acidification terrestre et l'eutrophisation terrestre sont très corrélés\n",
    "- l'appauvrissement de la couche d'ozone n'est corrélé avec aucun autre indicateur"
   ]
  }
 ],
 "metadata": {
  "kernelspec": {
   "display_name": ".venv",
   "language": "python",
   "name": "python3"
  },
  "language_info": {
   "codemirror_mode": {
    "name": "ipython",
    "version": 3
   },
   "file_extension": ".py",
   "mimetype": "text/x-python",
   "name": "python",
   "nbconvert_exporter": "python",
   "pygments_lexer": "ipython3",
   "version": "3.11.3"
  },
  "orig_nbformat": 4
 },
 "nbformat": 4,
 "nbformat_minor": 2
}

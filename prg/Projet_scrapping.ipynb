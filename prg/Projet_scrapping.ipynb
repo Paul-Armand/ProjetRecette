{
 "cells": [
  {
   "cell_type": "code",
   "execution_count": 1,
   "metadata": {},
   "outputs": [],
   "source": [
    "import requests\n",
    "from bs4 import BeautifulSoup"
   ]
  },
  {
   "cell_type": "code",
   "execution_count": 2,
   "metadata": {},
   "outputs": [
    {
     "data": {
      "text/plain": [
       "200"
      ]
     },
     "execution_count": 2,
     "metadata": {},
     "output_type": "execute_result"
    }
   ],
   "source": [
    "page_marmiton = \"https://www.marmiton.org/\"\n",
    "reponse = requests.get(page_marmiton)\n",
    "reponse.status_code"
   ]
  },
  {
   "cell_type": "code",
   "execution_count": 3,
   "metadata": {},
   "outputs": [],
   "source": [
    "html_content = reponse.text\n",
    "soup = BeautifulSoup(html_content, \"html.parser\")"
   ]
  },
  {
   "attachments": {},
   "cell_type": "markdown",
   "metadata": {},
   "source": [
    "### Liste des liens de recettes"
   ]
  },
  {
   "cell_type": "code",
   "execution_count": 22,
   "metadata": {},
   "outputs": [
    {
     "data": {
      "text/plain": [
       "'tarte-aux-pommes'"
      ]
     },
     "execution_count": 22,
     "metadata": {},
     "output_type": "execute_result"
    }
   ],
   "source": [
    "nom_recette = \"tarte aux pommes\"\n",
    "nom_recette_lower = nom_recette.lower()\n",
    "liste = nom_recette_lower.split(\" \")\n",
    "nom_recette_adapte = '-'.join(liste)\n",
    "nom_recette_adapte\n"
   ]
  },
  {
   "cell_type": "code",
   "execution_count": 11,
   "metadata": {},
   "outputs": [
    {
     "data": {
      "text/plain": [
       "'https://www.marmiton.org/recettes/recherche.aspx?aqt=tarte-aux-pommes'"
      ]
     },
     "execution_count": 11,
     "metadata": {},
     "output_type": "execute_result"
    }
   ],
   "source": [
    "url_recettes = f\"{page_marmiton}recettes/recherche.aspx?aqt={nom_recette_adapte}\"\n",
    "url_recettes"
   ]
  },
  {
   "cell_type": "code",
   "execution_count": 15,
   "metadata": {},
   "outputs": [
    {
     "data": {
      "text/plain": [
       "200"
      ]
     },
     "execution_count": 15,
     "metadata": {},
     "output_type": "execute_result"
    }
   ],
   "source": [
    "rep_recettes = requests.get(url_recettes)\n",
    "rep_recettes.status_code"
   ]
  },
  {
   "cell_type": "code",
   "execution_count": 76,
   "metadata": {},
   "outputs": [
    {
     "data": {
      "text/plain": [
       "55"
      ]
     },
     "execution_count": 76,
     "metadata": {},
     "output_type": "execute_result"
    }
   ],
   "source": [
    "soup = BeautifulSoup(rep_recettes.text, \"html.parser\")\n",
    "liste_a = soup.find_all(\"a\", class_=\"MRTN__sc-1gofnyi-2 gACiYG\")\n",
    "\n",
    "liste_liens = []\n",
    "for recette in liste_a:\n",
    "    liste_liens.append(recette['href'])\n",
    "liste_liens\n",
    "liste_liens[0].find('.aspx')"
   ]
  },
  {
   "attachments": {},
   "cell_type": "markdown",
   "metadata": {},
   "source": [
    "### Passage en fonction"
   ]
  },
  {
   "cell_type": "code",
   "execution_count": 47,
   "metadata": {},
   "outputs": [
    {
     "data": {
      "text/plain": [
       "['/recettes/recette_tarte-aux-pommes-a-l-alsacienne_11457.aspx',\n",
       " '/recettes/recette_tarte-aux-pommes_18588.aspx',\n",
       " '/recettes/recette_tarte-pommes-rapees-citrons_18437.aspx',\n",
       " '/recettes/recette_tarte-crumble-aux-pommes_37128.aspx',\n",
       " '/recettes/recette_tarte-aux-pommes-facile_92486.aspx',\n",
       " '/recettes/recette_tarte-pommes-amandes-et-chocolat_38664.aspx',\n",
       " '/recettes/recette_tarte-aux-pommes-normande-de-mag-16eme-rencontre-marmiton_35497.aspx',\n",
       " '/recettes/recette_tarte-aux-pommes-de-terre-et-au-roquefort_26889.aspx',\n",
       " '/recettes/recette_tarte-aux-pommes-miel-et-amandes_15227.aspx',\n",
       " '/recettes/recette_tarte-meringuee-aux-pommes-et-aux-poires_37495.aspx',\n",
       " '/recettes/recette_tarte-aux-pommes-et-a-la-noix-de-coco_18921.aspx',\n",
       " '/recettes/recette_tarte-creole-aux-pommes_20882.aspx']"
      ]
     },
     "execution_count": 47,
     "metadata": {},
     "output_type": "execute_result"
    }
   ],
   "source": [
    "def retour_liste_recette(nom_recette):\n",
    "    lower_nom_recette = nom_recette.lower()\n",
    "    nom_recette_adapte = '-'.join(lower_nom_recette.split(\" \"))\n",
    "    url_recettes = f\"https://www.marmiton.org/recettes/recherche.aspx?aqt={nom_recette_adapte}\"\n",
    "    rep_recettes = requests.get(url_recettes)\n",
    "\n",
    "    soup = BeautifulSoup(rep_recettes.text, \"html.parser\")\n",
    "    liste_a = soup.find_all(\"a\", class_=\"MRTN__sc-1gofnyi-2 gACiYG\")\n",
    "\n",
    "    liste_liens = []\n",
    "    for recette in liste_a:\n",
    "        liste_liens.append(recette['href'])\n",
    "    return liste_liens\n",
    "\n",
    "liste_liens = retour_liste_recette(\"tarte aux pommes\")\n",
    "liste_liens"
   ]
  },
  {
   "attachments": {},
   "cell_type": "markdown",
   "metadata": {},
   "source": [
    "# Liste des ingrédients"
   ]
  },
  {
   "cell_type": "code",
   "execution_count": 50,
   "metadata": {},
   "outputs": [
    {
     "data": {
      "text/plain": [
       "'https://www.marmiton.org/recettes/recette_tarte-aux-pommes-a-l-alsacienne_11457.aspx'"
      ]
     },
     "execution_count": 50,
     "metadata": {},
     "output_type": "execute_result"
    }
   ],
   "source": [
    "lien_recette = liste_liens[0]\n",
    "url_recette = f\"https://www.marmiton.org{lien_recette}\"\n",
    "url_recette"
   ]
  },
  {
   "cell_type": "code",
   "execution_count": 54,
   "metadata": {},
   "outputs": [
    {
     "data": {
      "text/plain": [
       "200"
      ]
     },
     "execution_count": 54,
     "metadata": {},
     "output_type": "execute_result"
    }
   ],
   "source": [
    "rep_recette = requests.get(url_recette)\n",
    "rep_recette.status_code"
   ]
  },
  {
   "cell_type": "code",
   "execution_count": 67,
   "metadata": {},
   "outputs": [
    {
     "data": {
      "text/plain": [
       "['pâte brisée ',\n",
       " 'de crème fraîche ',\n",
       " 'de sucre en poudre ',\n",
       " 'de sucre vanillé ',\n",
       " 'pommes (selon la grosseur)',\n",
       " 'oeufs ']"
      ]
     },
     "execution_count": 67,
     "metadata": {},
     "output_type": "execute_result"
    }
   ],
   "source": [
    "soup = BeautifulSoup(rep_recette.text, \"html.parser\")\n",
    "liste_span = soup.find_all(\"span\", class_=\"SHRD__sc-10plygc-0 kWuxfa\")\n",
    "\n",
    "liste_elements = []\n",
    "for span in liste_span:\n",
    "    liste_elements.append(span.text)\n",
    "liste_elements"
   ]
  },
  {
   "cell_type": "code",
   "execution_count": 64,
   "metadata": {},
   "outputs": [
    {
     "data": {
      "text/plain": [
       "['1', '25\\xa0cl', '100\\xa0g', '1\\xa0sachet', '3', '2']"
      ]
     },
     "execution_count": 64,
     "metadata": {},
     "output_type": "execute_result"
    }
   ],
   "source": [
    "liste_span = soup.find_all(\"span\", class_=\"SHRD__sc-10plygc-0 epviYI\")\n",
    "liste_quantite = []\n",
    "for span in liste_span:\n",
    "    liste_quantite.append(span.text)\n",
    "liste_quantite"
   ]
  },
  {
   "cell_type": "code",
   "execution_count": 68,
   "metadata": {},
   "outputs": [
    {
     "data": {
      "text/plain": [
       "['1 pâte brisée ',\n",
       " '25\\xa0cl de crème fraîche ',\n",
       " '100\\xa0g de sucre en poudre ',\n",
       " '1\\xa0sachet de sucre vanillé ',\n",
       " '3 pommes (selon la grosseur)',\n",
       " '2 oeufs ']"
      ]
     },
     "execution_count": 68,
     "metadata": {},
     "output_type": "execute_result"
    }
   ],
   "source": [
    "liste_ingredients = []\n",
    "for iteration in range(len(liste_elements)):\n",
    "    element = liste_elements[iteration]\n",
    "    quantite = liste_quantite[iteration]\n",
    "    ingredient = f\"{quantite} {element}\"\n",
    "    liste_ingredients.append(ingredient)\n",
    "liste_ingredients"
   ]
  },
  {
   "attachments": {},
   "cell_type": "markdown",
   "metadata": {},
   "source": [
    "### Passage en fonction"
   ]
  },
  {
   "cell_type": "code",
   "execution_count": 96,
   "metadata": {},
   "outputs": [
    {
     "name": "stdout",
     "output_type": "stream",
     "text": [
      "1 : lasagnes-a-la-bolognaise_18215\n",
      "2 : lasagnes-vegetariennes-facile_10527\n",
      "3 : lasagnes_24174\n",
      "4 : lasagnes-a-la-bolognaise-tres-facile_70480\n",
      "5 : lasagnes-aux-courgettes-et-au-chevre_22798\n",
      "6 : lasagnes-express_26180\n",
      "7 : lasagnes-d-aubergines_21651\n",
      "8 : lasagnes-au-saumon-et-aux-epinards_14665\n",
      "9 : lasagnes-aux-epinards-faciles_81201\n",
      "10 : lasagnes-de-courgettes_21011\n",
      "11 : lasagne-saumon-epinard-mascarpone_22972\n",
      "12 : lasagnes-aux-deux-saumons_34004\n"
     ]
    },
    {
     "data": {
      "text/plain": [
       "['1\\xa0dé de safran ',\n",
       " '1\\xa0paquet de lasagnes rayon frais',\n",
       " \" huile d'olive \",\n",
       " ' gruyère râpé ',\n",
       " '500\\xa0g de mascarpone ',\n",
       " '400\\xa0g de saumon ',\n",
       " '2 échalotes ',\n",
       " \"1\\xa0paquet d'épinards surgelés (500 g)\",\n",
       " '1 citron ',\n",
       " '1\\xa0bouteille de coulis de tomate ',\n",
       " '1\\xa0sachet de Parmesan (50 g)']"
      ]
     },
     "execution_count": 96,
     "metadata": {},
     "output_type": "execute_result"
    }
   ],
   "source": [
    "def retour_liste_recette(nom_recette):\n",
    "    lower_nom_recette = nom_recette.lower()\n",
    "    nom_recette_adapte = '-'.join(lower_nom_recette.split(\" \"))\n",
    "    url_recettes = f\"https://www.marmiton.org/recettes/recherche.aspx?aqt={nom_recette_adapte}\"\n",
    "    rep_recettes = requests.get(url_recettes)\n",
    "\n",
    "    soup = BeautifulSoup(rep_recettes.text, \"html.parser\")\n",
    "    liste_a = soup.find_all(\"a\", class_=\"MRTN__sc-1gofnyi-2 gACiYG\")\n",
    "\n",
    "    liste_liens = []\n",
    "    for recette in liste_a:\n",
    "        liste_liens.append(recette['href'])\n",
    "    return liste_liens\n",
    "\n",
    "def retour_liste_ingredients(liste_liens, numero_recette):\n",
    "    lien_recette = liste_liens[numero_recette-1]\n",
    "    url_recette = f\"https://www.marmiton.org{lien_recette}\"\n",
    "    rep_recette = requests.get(url_recette)\n",
    "\n",
    "    soup = BeautifulSoup(rep_recette.text, \"html.parser\")\n",
    "\n",
    "    liste_span = soup.find_all(\"span\", class_=\"SHRD__sc-10plygc-0 kWuxfa\")\n",
    "    liste_elements = []\n",
    "    for span in liste_span:\n",
    "        liste_elements.append(span.text)\n",
    "\n",
    "    liste_span = soup.find_all(\"span\", class_=\"SHRD__sc-10plygc-0 epviYI\")\n",
    "    liste_quantite = []\n",
    "    for span in liste_span:\n",
    "        liste_quantite.append(span.text)\n",
    "\n",
    "    liste_ingredients = []\n",
    "    for iteration in range(len(liste_elements)):\n",
    "        element = liste_elements[iteration]\n",
    "        quantite = liste_quantite[iteration]\n",
    "        ingredient = f\"{quantite} {element}\"\n",
    "        liste_ingredients.append(ingredient)\n",
    "    return liste_ingredients\n",
    "\n",
    "\n",
    "nom_recette = input(\"Quelle recette souhaitez-vous?\")\n",
    "liste_liens = retour_liste_recette(nom_recette)\n",
    "for index,lien in enumerate(liste_liens):\n",
    "    texte = 'recette_'\n",
    "    debut = lien.find(texte)\n",
    "    fin = lien.find('.aspx')\n",
    "    print(f\"{index+1} : {lien[debut+len(texte):fin]}\")\n",
    "\n",
    "numero_recette = int(input(\"Quel numéro de recette souhaitez-vous?\"))\n",
    "liste_ingredients = retour_liste_ingredients(liste_liens, numero_recette)\n",
    "liste_ingredients\n",
    "    "
   ]
  }
 ],
 "metadata": {
  "kernelspec": {
   "display_name": ".venv",
   "language": "python",
   "name": "python3"
  },
  "language_info": {
   "codemirror_mode": {
    "name": "ipython",
    "version": 3
   },
   "file_extension": ".py",
   "mimetype": "text/x-python",
   "name": "python",
   "nbconvert_exporter": "python",
   "pygments_lexer": "ipython3",
   "version": "3.11.3"
  },
  "orig_nbformat": 4
 },
 "nbformat": 4,
 "nbformat_minor": 2
}

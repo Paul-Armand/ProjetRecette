{
 "cells": [
  {
   "attachments": {},
   "cell_type": "markdown",
   "metadata": {},
   "source": [
    "# Indicateurs écologique associés à la tarte aux pommes"
   ]
  },
  {
   "cell_type": "code",
   "execution_count": 44,
   "metadata": {},
   "outputs": [],
   "source": [
    "import pandas as pd\n",
    "import plotly.graph_objects as go\n",
    "import plotly.express as px\n",
    "from plotly.subplots import make_subplots"
   ]
  },
  {
   "cell_type": "code",
   "execution_count": 28,
   "metadata": {},
   "outputs": [],
   "source": [
    "df_tarte = pd.read_csv(\"data/IngredientsTarteAuxPommes.csv\")\n",
    "df_synthese = pd.read_csv(\"data/Synthese.csv\")\n",
    "colonnes_to_remove = df_synthese.columns[1:12]\n",
    "df_synthese.drop(labels=colonnes_to_remove, axis=1, inplace=True)\n"
   ]
  },
  {
   "cell_type": "code",
   "execution_count": 29,
   "metadata": {},
   "outputs": [
    {
     "data": {
      "text/html": [
       "<div>\n",
       "<style scoped>\n",
       "    .dataframe tbody tr th:only-of-type {\n",
       "        vertical-align: middle;\n",
       "    }\n",
       "\n",
       "    .dataframe tbody tr th {\n",
       "        vertical-align: top;\n",
       "    }\n",
       "\n",
       "    .dataframe thead th {\n",
       "        text-align: right;\n",
       "    }\n",
       "</style>\n",
       "<table border=\"1\" class=\"dataframe\">\n",
       "  <thead>\n",
       "    <tr style=\"text-align: right;\">\n",
       "      <th></th>\n",
       "      <th>Code\\nAGB</th>\n",
       "      <th>mPt/kg de produit</th>\n",
       "      <th>kg CO2 eq/kg de produit</th>\n",
       "      <th>kg CVC11 eq/kg de produit</th>\n",
       "      <th>kBq U-235 eq/kg de produit</th>\n",
       "      <th>kg NMVOC eq/kg de produit</th>\n",
       "      <th>disease inc./kg de produit</th>\n",
       "      <th>CTUh/kg de produit</th>\n",
       "      <th>CTUh/kg de produit.1</th>\n",
       "      <th>mol H+ eq/kg de produit</th>\n",
       "      <th>kg P eq/kg de produit</th>\n",
       "      <th>kg N eq/kg de produit</th>\n",
       "      <th>mol N eq/kg de produit</th>\n",
       "      <th>CTUe/kg de produit</th>\n",
       "      <th>Pt/kg de produit</th>\n",
       "      <th>m3 depriv./kg de produit</th>\n",
       "      <th>MJ/kg de produit</th>\n",
       "      <th>kg Sb eq/kg de produit</th>\n",
       "    </tr>\n",
       "  </thead>\n",
       "  <tbody>\n",
       "    <tr>\n",
       "      <th>0</th>\n",
       "      <td>11084</td>\n",
       "      <td>1.231879</td>\n",
       "      <td>6.766407</td>\n",
       "      <td>1.016925e-06</td>\n",
       "      <td>11.050022</td>\n",
       "      <td>0.038875</td>\n",
       "      <td>7.172914e-07</td>\n",
       "      <td>7.435752e-08</td>\n",
       "      <td>6.482667e-09</td>\n",
       "      <td>0.099733</td>\n",
       "      <td>0.001868</td>\n",
       "      <td>0.013280</td>\n",
       "      <td>0.127350</td>\n",
       "      <td>44.555153</td>\n",
       "      <td>26.476190</td>\n",
       "      <td>3.102487</td>\n",
       "      <td>315.057170</td>\n",
       "      <td>0.000088</td>\n",
       "    </tr>\n",
       "    <tr>\n",
       "      <th>1</th>\n",
       "      <td>11023</td>\n",
       "      <td>0.103150</td>\n",
       "      <td>0.749409</td>\n",
       "      <td>1.226396e-07</td>\n",
       "      <td>0.171326</td>\n",
       "      <td>0.002925</td>\n",
       "      <td>8.248252e-08</td>\n",
       "      <td>1.172483e-08</td>\n",
       "      <td>4.662163e-10</td>\n",
       "      <td>0.006222</td>\n",
       "      <td>0.000124</td>\n",
       "      <td>0.002320</td>\n",
       "      <td>0.012695</td>\n",
       "      <td>5.832120</td>\n",
       "      <td>20.223652</td>\n",
       "      <td>2.520528</td>\n",
       "      <td>12.665447</td>\n",
       "      <td>0.000007</td>\n",
       "    </tr>\n",
       "    <tr>\n",
       "      <th>2</th>\n",
       "      <td>11000</td>\n",
       "      <td>0.063814</td>\n",
       "      <td>0.356122</td>\n",
       "      <td>5.447861e-08</td>\n",
       "      <td>0.142791</td>\n",
       "      <td>0.001067</td>\n",
       "      <td>2.326543e-08</td>\n",
       "      <td>7.445715e-09</td>\n",
       "      <td>2.984758e-10</td>\n",
       "      <td>0.002005</td>\n",
       "      <td>0.000068</td>\n",
       "      <td>0.002123</td>\n",
       "      <td>0.006281</td>\n",
       "      <td>4.092332</td>\n",
       "      <td>18.454615</td>\n",
       "      <td>3.021753</td>\n",
       "      <td>6.230187</td>\n",
       "      <td>0.000004</td>\n",
       "    </tr>\n",
       "    <tr>\n",
       "      <th>3</th>\n",
       "      <td>11093</td>\n",
       "      <td>0.132081</td>\n",
       "      <td>0.814944</td>\n",
       "      <td>6.267507e-08</td>\n",
       "      <td>0.141342</td>\n",
       "      <td>0.002559</td>\n",
       "      <td>6.896742e-08</td>\n",
       "      <td>1.201909e-08</td>\n",
       "      <td>6.189716e-10</td>\n",
       "      <td>0.008112</td>\n",
       "      <td>0.000203</td>\n",
       "      <td>0.004050</td>\n",
       "      <td>0.031181</td>\n",
       "      <td>5.681342</td>\n",
       "      <td>36.373722</td>\n",
       "      <td>5.292121</td>\n",
       "      <td>12.553109</td>\n",
       "      <td>0.000005</td>\n",
       "    </tr>\n",
       "    <tr>\n",
       "      <th>4</th>\n",
       "      <td>20995</td>\n",
       "      <td>1.231879</td>\n",
       "      <td>6.766407</td>\n",
       "      <td>1.016925e-06</td>\n",
       "      <td>11.050022</td>\n",
       "      <td>0.038875</td>\n",
       "      <td>7.172914e-07</td>\n",
       "      <td>7.435752e-08</td>\n",
       "      <td>6.482667e-09</td>\n",
       "      <td>0.099733</td>\n",
       "      <td>0.001868</td>\n",
       "      <td>0.013280</td>\n",
       "      <td>0.127350</td>\n",
       "      <td>44.555153</td>\n",
       "      <td>26.476190</td>\n",
       "      <td>3.102487</td>\n",
       "      <td>315.057170</td>\n",
       "      <td>0.000088</td>\n",
       "    </tr>\n",
       "  </tbody>\n",
       "</table>\n",
       "</div>"
      ],
      "text/plain": [
       "  Code\\nAGB  mPt/kg de produit  kg CO2 eq/kg de produit  \\\n",
       "0     11084           1.231879                 6.766407   \n",
       "1     11023           0.103150                 0.749409   \n",
       "2     11000           0.063814                 0.356122   \n",
       "3     11093           0.132081                 0.814944   \n",
       "4     20995           1.231879                 6.766407   \n",
       "\n",
       "   kg CVC11 eq/kg de produit  kBq U-235 eq/kg de produit  \\\n",
       "0               1.016925e-06                   11.050022   \n",
       "1               1.226396e-07                    0.171326   \n",
       "2               5.447861e-08                    0.142791   \n",
       "3               6.267507e-08                    0.141342   \n",
       "4               1.016925e-06                   11.050022   \n",
       "\n",
       "   kg NMVOC eq/kg de produit  disease inc./kg de produit  CTUh/kg de produit  \\\n",
       "0                   0.038875                7.172914e-07        7.435752e-08   \n",
       "1                   0.002925                8.248252e-08        1.172483e-08   \n",
       "2                   0.001067                2.326543e-08        7.445715e-09   \n",
       "3                   0.002559                6.896742e-08        1.201909e-08   \n",
       "4                   0.038875                7.172914e-07        7.435752e-08   \n",
       "\n",
       "   CTUh/kg de produit.1  mol H+ eq/kg de produit  kg P eq/kg de produit  \\\n",
       "0          6.482667e-09                 0.099733               0.001868   \n",
       "1          4.662163e-10                 0.006222               0.000124   \n",
       "2          2.984758e-10                 0.002005               0.000068   \n",
       "3          6.189716e-10                 0.008112               0.000203   \n",
       "4          6.482667e-09                 0.099733               0.001868   \n",
       "\n",
       "   kg N eq/kg de produit  mol N eq/kg de produit  CTUe/kg de produit  \\\n",
       "0               0.013280                0.127350           44.555153   \n",
       "1               0.002320                0.012695            5.832120   \n",
       "2               0.002123                0.006281            4.092332   \n",
       "3               0.004050                0.031181            5.681342   \n",
       "4               0.013280                0.127350           44.555153   \n",
       "\n",
       "   Pt/kg de produit  m3 depriv./kg de produit  MJ/kg de produit  \\\n",
       "0         26.476190                  3.102487        315.057170   \n",
       "1         20.223652                  2.520528         12.665447   \n",
       "2         18.454615                  3.021753          6.230187   \n",
       "3         36.373722                  5.292121         12.553109   \n",
       "4         26.476190                  3.102487        315.057170   \n",
       "\n",
       "   kg Sb eq/kg de produit  \n",
       "0                0.000088  \n",
       "1                0.000007  \n",
       "2                0.000004  \n",
       "3                0.000005  \n",
       "4                0.000088  "
      ]
     },
     "execution_count": 29,
     "metadata": {},
     "output_type": "execute_result"
    }
   ],
   "source": [
    "df_synthese.head()"
   ]
  },
  {
   "cell_type": "code",
   "execution_count": 39,
   "metadata": {},
   "outputs": [],
   "source": [
    "df_synthese[\"Code\\nAGB\"] = df_synthese[\"Code\\nAGB\"].astype('int64')"
   ]
  },
  {
   "cell_type": "code",
   "execution_count": 40,
   "metadata": {},
   "outputs": [
    {
     "data": {
      "text/html": [
       "<div>\n",
       "<style scoped>\n",
       "    .dataframe tbody tr th:only-of-type {\n",
       "        vertical-align: middle;\n",
       "    }\n",
       "\n",
       "    .dataframe tbody tr th {\n",
       "        vertical-align: top;\n",
       "    }\n",
       "\n",
       "    .dataframe thead th {\n",
       "        text-align: right;\n",
       "    }\n",
       "</style>\n",
       "<table border=\"1\" class=\"dataframe\">\n",
       "  <thead>\n",
       "    <tr style=\"text-align: right;\">\n",
       "      <th></th>\n",
       "      <th>ingredient</th>\n",
       "      <th>Code\\nAGB</th>\n",
       "      <th>mass</th>\n",
       "      <th>mPt/kg de produit</th>\n",
       "      <th>kg CO2 eq/kg de produit</th>\n",
       "      <th>kg CVC11 eq/kg de produit</th>\n",
       "      <th>kBq U-235 eq/kg de produit</th>\n",
       "      <th>kg NMVOC eq/kg de produit</th>\n",
       "      <th>disease inc./kg de produit</th>\n",
       "      <th>CTUh/kg de produit</th>\n",
       "      <th>CTUh/kg de produit.1</th>\n",
       "      <th>mol H+ eq/kg de produit</th>\n",
       "      <th>kg P eq/kg de produit</th>\n",
       "      <th>kg N eq/kg de produit</th>\n",
       "      <th>mol N eq/kg de produit</th>\n",
       "      <th>CTUe/kg de produit</th>\n",
       "      <th>Pt/kg de produit</th>\n",
       "      <th>m3 depriv./kg de produit</th>\n",
       "      <th>MJ/kg de produit</th>\n",
       "      <th>kg Sb eq/kg de produit</th>\n",
       "    </tr>\n",
       "  </thead>\n",
       "  <tbody>\n",
       "    <tr>\n",
       "      <th>0</th>\n",
       "      <td>pâte brisée</td>\n",
       "      <td>23410</td>\n",
       "      <td>200</td>\n",
       "      <td>0.371912</td>\n",
       "      <td>3.305827</td>\n",
       "      <td>1.562415e-07</td>\n",
       "      <td>1.363767</td>\n",
       "      <td>0.006738</td>\n",
       "      <td>2.379336e-07</td>\n",
       "      <td>6.838534e-08</td>\n",
       "      <td>2.412961e-09</td>\n",
       "      <td>0.033774</td>\n",
       "      <td>0.000473</td>\n",
       "      <td>0.013099</td>\n",
       "      <td>0.141044</td>\n",
       "      <td>34.878616</td>\n",
       "      <td>189.150100</td>\n",
       "      <td>1.238976</td>\n",
       "      <td>42.629238</td>\n",
       "      <td>0.000015</td>\n",
       "    </tr>\n",
       "    <tr>\n",
       "      <th>1</th>\n",
       "      <td>crème fraîche</td>\n",
       "      <td>19431</td>\n",
       "      <td>250</td>\n",
       "      <td>0.258273</td>\n",
       "      <td>2.554770</td>\n",
       "      <td>1.081827e-07</td>\n",
       "      <td>0.462006</td>\n",
       "      <td>0.004630</td>\n",
       "      <td>1.768019e-07</td>\n",
       "      <td>5.700811e-08</td>\n",
       "      <td>1.730612e-09</td>\n",
       "      <td>0.024922</td>\n",
       "      <td>0.000317</td>\n",
       "      <td>0.007855</td>\n",
       "      <td>0.104007</td>\n",
       "      <td>25.270139</td>\n",
       "      <td>127.587350</td>\n",
       "      <td>0.618790</td>\n",
       "      <td>19.919069</td>\n",
       "      <td>0.000018</td>\n",
       "    </tr>\n",
       "    <tr>\n",
       "      <th>2</th>\n",
       "      <td>sucre en poudre</td>\n",
       "      <td>31016</td>\n",
       "      <td>100</td>\n",
       "      <td>0.122093</td>\n",
       "      <td>0.614236</td>\n",
       "      <td>6.328414e-08</td>\n",
       "      <td>0.108594</td>\n",
       "      <td>0.002267</td>\n",
       "      <td>1.196211e-07</td>\n",
       "      <td>8.386383e-09</td>\n",
       "      <td>4.629180e-10</td>\n",
       "      <td>0.016246</td>\n",
       "      <td>0.000156</td>\n",
       "      <td>0.005153</td>\n",
       "      <td>0.068461</td>\n",
       "      <td>8.535527</td>\n",
       "      <td>33.330120</td>\n",
       "      <td>2.118292</td>\n",
       "      <td>8.183917</td>\n",
       "      <td>0.000005</td>\n",
       "    </tr>\n",
       "    <tr>\n",
       "      <th>3</th>\n",
       "      <td>sucre vanillé</td>\n",
       "      <td>31044</td>\n",
       "      <td>10</td>\n",
       "      <td>0.122093</td>\n",
       "      <td>0.614236</td>\n",
       "      <td>6.328414e-08</td>\n",
       "      <td>0.108594</td>\n",
       "      <td>0.002267</td>\n",
       "      <td>1.196211e-07</td>\n",
       "      <td>8.386383e-09</td>\n",
       "      <td>4.629180e-10</td>\n",
       "      <td>0.016246</td>\n",
       "      <td>0.000156</td>\n",
       "      <td>0.005153</td>\n",
       "      <td>0.068461</td>\n",
       "      <td>8.535527</td>\n",
       "      <td>33.330120</td>\n",
       "      <td>2.118292</td>\n",
       "      <td>8.183917</td>\n",
       "      <td>0.000005</td>\n",
       "    </tr>\n",
       "    <tr>\n",
       "      <th>4</th>\n",
       "      <td>pommes</td>\n",
       "      <td>20094</td>\n",
       "      <td>450</td>\n",
       "      <td>0.133005</td>\n",
       "      <td>1.246713</td>\n",
       "      <td>1.400593e-07</td>\n",
       "      <td>0.275949</td>\n",
       "      <td>0.003721</td>\n",
       "      <td>7.989942e-08</td>\n",
       "      <td>5.658664e-08</td>\n",
       "      <td>9.017555e-10</td>\n",
       "      <td>0.008720</td>\n",
       "      <td>0.000120</td>\n",
       "      <td>0.006393</td>\n",
       "      <td>0.038036</td>\n",
       "      <td>7.049716</td>\n",
       "      <td>39.672778</td>\n",
       "      <td>0.271658</td>\n",
       "      <td>19.496329</td>\n",
       "      <td>0.000005</td>\n",
       "    </tr>\n",
       "  </tbody>\n",
       "</table>\n",
       "</div>"
      ],
      "text/plain": [
       "        ingredient  Code\\nAGB  mass  mPt/kg de produit  \\\n",
       "0      pâte brisée      23410   200           0.371912   \n",
       "1    crème fraîche      19431   250           0.258273   \n",
       "2  sucre en poudre      31016   100           0.122093   \n",
       "3    sucre vanillé      31044    10           0.122093   \n",
       "4           pommes      20094   450           0.133005   \n",
       "\n",
       "   kg CO2 eq/kg de produit  kg CVC11 eq/kg de produit  \\\n",
       "0                 3.305827               1.562415e-07   \n",
       "1                 2.554770               1.081827e-07   \n",
       "2                 0.614236               6.328414e-08   \n",
       "3                 0.614236               6.328414e-08   \n",
       "4                 1.246713               1.400593e-07   \n",
       "\n",
       "   kBq U-235 eq/kg de produit  kg NMVOC eq/kg de produit  \\\n",
       "0                    1.363767                   0.006738   \n",
       "1                    0.462006                   0.004630   \n",
       "2                    0.108594                   0.002267   \n",
       "3                    0.108594                   0.002267   \n",
       "4                    0.275949                   0.003721   \n",
       "\n",
       "   disease inc./kg de produit  CTUh/kg de produit  CTUh/kg de produit.1  \\\n",
       "0                2.379336e-07        6.838534e-08          2.412961e-09   \n",
       "1                1.768019e-07        5.700811e-08          1.730612e-09   \n",
       "2                1.196211e-07        8.386383e-09          4.629180e-10   \n",
       "3                1.196211e-07        8.386383e-09          4.629180e-10   \n",
       "4                7.989942e-08        5.658664e-08          9.017555e-10   \n",
       "\n",
       "   mol H+ eq/kg de produit  kg P eq/kg de produit  kg N eq/kg de produit  \\\n",
       "0                 0.033774               0.000473               0.013099   \n",
       "1                 0.024922               0.000317               0.007855   \n",
       "2                 0.016246               0.000156               0.005153   \n",
       "3                 0.016246               0.000156               0.005153   \n",
       "4                 0.008720               0.000120               0.006393   \n",
       "\n",
       "   mol N eq/kg de produit  CTUe/kg de produit  Pt/kg de produit  \\\n",
       "0                0.141044           34.878616        189.150100   \n",
       "1                0.104007           25.270139        127.587350   \n",
       "2                0.068461            8.535527         33.330120   \n",
       "3                0.068461            8.535527         33.330120   \n",
       "4                0.038036            7.049716         39.672778   \n",
       "\n",
       "   m3 depriv./kg de produit  MJ/kg de produit  kg Sb eq/kg de produit  \n",
       "0                  1.238976         42.629238                0.000015  \n",
       "1                  0.618790         19.919069                0.000018  \n",
       "2                  2.118292          8.183917                0.000005  \n",
       "3                  2.118292          8.183917                0.000005  \n",
       "4                  0.271658         19.496329                0.000005  "
      ]
     },
     "execution_count": 40,
     "metadata": {},
     "output_type": "execute_result"
    }
   ],
   "source": [
    "df = pd.merge(df_tarte, df_synthese, on=\"Code\\nAGB\")\n",
    "df.head()"
   ]
  },
  {
   "cell_type": "code",
   "execution_count": 66,
   "metadata": {},
   "outputs": [
    {
     "data": {
      "text/html": [
       "<div>\n",
       "<style scoped>\n",
       "    .dataframe tbody tr th:only-of-type {\n",
       "        vertical-align: middle;\n",
       "    }\n",
       "\n",
       "    .dataframe tbody tr th {\n",
       "        vertical-align: top;\n",
       "    }\n",
       "\n",
       "    .dataframe thead th {\n",
       "        text-align: right;\n",
       "    }\n",
       "</style>\n",
       "<table border=\"1\" class=\"dataframe\">\n",
       "  <thead>\n",
       "    <tr style=\"text-align: right;\">\n",
       "      <th></th>\n",
       "      <th>ingredient</th>\n",
       "      <th>indicateur</th>\n",
       "      <th>Valeur</th>\n",
       "    </tr>\n",
       "  </thead>\n",
       "  <tbody>\n",
       "    <tr>\n",
       "      <th>0</th>\n",
       "      <td>pâte brisée</td>\n",
       "      <td>mPt/kg de produit</td>\n",
       "      <td>5.950590e-04</td>\n",
       "    </tr>\n",
       "    <tr>\n",
       "      <th>1</th>\n",
       "      <td>crème fraîche</td>\n",
       "      <td>mPt/kg de produit</td>\n",
       "      <td>1.008880e-03</td>\n",
       "    </tr>\n",
       "    <tr>\n",
       "      <th>2</th>\n",
       "      <td>sucre en poudre</td>\n",
       "      <td>mPt/kg de produit</td>\n",
       "      <td>1.220933e-05</td>\n",
       "    </tr>\n",
       "    <tr>\n",
       "      <th>3</th>\n",
       "      <td>sucre vanillé</td>\n",
       "      <td>mPt/kg de produit</td>\n",
       "      <td>1.220933e-09</td>\n",
       "    </tr>\n",
       "    <tr>\n",
       "      <th>4</th>\n",
       "      <td>pommes</td>\n",
       "      <td>mPt/kg de produit</td>\n",
       "      <td>5.454039e-03</td>\n",
       "    </tr>\n",
       "    <tr>\n",
       "      <th>5</th>\n",
       "      <td>oeufs</td>\n",
       "      <td>mPt/kg de produit</td>\n",
       "      <td>5.461339e-05</td>\n",
       "    </tr>\n",
       "    <tr>\n",
       "      <th>6</th>\n",
       "      <td>pâte brisée</td>\n",
       "      <td>kg CO2 eq/kg de produit</td>\n",
       "      <td>5.289324e-03</td>\n",
       "    </tr>\n",
       "    <tr>\n",
       "      <th>7</th>\n",
       "      <td>crème fraîche</td>\n",
       "      <td>kg CO2 eq/kg de produit</td>\n",
       "      <td>9.979571e-03</td>\n",
       "    </tr>\n",
       "    <tr>\n",
       "      <th>8</th>\n",
       "      <td>sucre en poudre</td>\n",
       "      <td>kg CO2 eq/kg de produit</td>\n",
       "      <td>6.142356e-05</td>\n",
       "    </tr>\n",
       "    <tr>\n",
       "      <th>9</th>\n",
       "      <td>sucre vanillé</td>\n",
       "      <td>kg CO2 eq/kg de produit</td>\n",
       "      <td>6.142356e-09</td>\n",
       "    </tr>\n",
       "  </tbody>\n",
       "</table>\n",
       "</div>"
      ],
      "text/plain": [
       "        ingredient               indicateur        Valeur\n",
       "0      pâte brisée        mPt/kg de produit  5.950590e-04\n",
       "1    crème fraîche        mPt/kg de produit  1.008880e-03\n",
       "2  sucre en poudre        mPt/kg de produit  1.220933e-05\n",
       "3    sucre vanillé        mPt/kg de produit  1.220933e-09\n",
       "4           pommes        mPt/kg de produit  5.454039e-03\n",
       "5            oeufs        mPt/kg de produit  5.461339e-05\n",
       "6      pâte brisée  kg CO2 eq/kg de produit  5.289324e-03\n",
       "7    crème fraîche  kg CO2 eq/kg de produit  9.979571e-03\n",
       "8  sucre en poudre  kg CO2 eq/kg de produit  6.142356e-05\n",
       "9    sucre vanillé  kg CO2 eq/kg de produit  6.142356e-09"
      ]
     },
     "execution_count": 66,
     "metadata": {},
     "output_type": "execute_result"
    }
   ],
   "source": [
    "liste_indicateurs = df.columns[3:]\n",
    "for indicateur in liste_indicateurs:\n",
    "    df[indicateur] *= df[\"mass\"]/1000\n",
    "df.head()\n",
    "\n",
    "df2 = pd.melt(df, id_vars=[\"ingredient\"], value_vars=liste_indicateurs, var_name=\"indicateur\", value_name=\"Valeur\")"
   ]
  },
  {
   "cell_type": "code",
   "execution_count": 90,
   "metadata": {},
   "outputs": [
    {
     "data": {
      "application/vnd.plotly.v1+json": {
       "config": {
        "plotlyServerURL": "https://plot.ly"
       },
       "data": [
        {
         "marker": {
          "color": [
           "#AA0DFE",
           "#3283FE",
           "#85660D",
           "#782AB6",
           "#565656",
           "#1C8356",
           "#16FF32",
           "#F7E1A0",
           "#E2E2E2",
           "#1CBE4F",
           "#C4451C",
           "#DEA0FD",
           "#FE00FA",
           "#325A9B",
           "#FEAF16",
           "#F8A19F",
           "#90AD1C"
          ]
         },
         "name": "pâte brisée",
         "showlegend": false,
         "type": "bar",
         "x": [
          "mPt/kg de produit",
          "kg CO2 eq/kg de produit",
          "kg CVC11 eq/kg de produit",
          "kBq U-235 eq/kg de produit",
          "kg NMVOC eq/kg de produit",
          "disease inc./kg de produit",
          "CTUh/kg de produit",
          "CTUh/kg de produit.1",
          "mol H+ eq/kg de produit",
          "kg P eq/kg de produit",
          "kg N eq/kg de produit",
          "mol N eq/kg de produit",
          "CTUe/kg de produit",
          "Pt/kg de produit",
          "m3 depriv./kg de produit",
          "MJ/kg de produit",
          "kg Sb eq/kg de produit"
         ],
         "xaxis": "x",
         "y": [
          0.0005950589760000001,
          0.005289323840000002,
          2.4998641600000003e-10,
          0.0021820264000000007,
          0.000010780434720000003,
          3.8069380800000003e-10,
          1.0941653760000001e-10,
          3.860737120000001e-12,
          0.00005403762720000001,
          7.568115040000002e-7,
          0.000020957724800000006,
          0.00022566971200000007,
          0.05580578560000002,
          0.3026401600000001,
          0.00198236144,
          0.06820678080000002,
          2.3706926400000005e-8
         ],
         "yaxis": "y"
        },
        {
         "marker": {
          "color": [
           "#AA0DFE",
           "#3283FE",
           "#85660D",
           "#782AB6",
           "#565656",
           "#1C8356",
           "#16FF32",
           "#F7E1A0",
           "#E2E2E2",
           "#1CBE4F",
           "#C4451C",
           "#DEA0FD",
           "#FE00FA",
           "#325A9B",
           "#FEAF16",
           "#F8A19F",
           "#90AD1C"
          ]
         },
         "name": "crème fraîche",
         "showlegend": false,
         "type": "bar",
         "x": [
          "mPt/kg de produit",
          "kg CO2 eq/kg de produit",
          "kg CVC11 eq/kg de produit",
          "kBq U-235 eq/kg de produit",
          "kg NMVOC eq/kg de produit",
          "disease inc./kg de produit",
          "CTUh/kg de produit",
          "CTUh/kg de produit.1",
          "mol H+ eq/kg de produit",
          "kg P eq/kg de produit",
          "kg N eq/kg de produit",
          "mol N eq/kg de produit",
          "CTUe/kg de produit",
          "Pt/kg de produit",
          "m3 depriv./kg de produit",
          "MJ/kg de produit",
          "kg Sb eq/kg de produit"
         ],
         "xaxis": "x2",
         "y": [
          0.0010088803515625,
          0.009979571484375,
          4.22588828125e-10,
          0.00180471125,
          0.00001808467421875,
          6.90632578125e-10,
          2.2268794531249997e-10,
          6.760201953125e-12,
          0.00009735214453125,
          0.0000012370221484375,
          0.000030682823828125,
          0.0004062775390625,
          0.09871148046875,
          0.4983880859375,
          0.002417149375,
          0.07780886328125,
          6.915124609375e-8
         ],
         "yaxis": "y2"
        },
        {
         "marker": {
          "color": [
           "#AA0DFE",
           "#3283FE",
           "#85660D",
           "#782AB6",
           "#565656",
           "#1C8356",
           "#16FF32",
           "#F7E1A0",
           "#E2E2E2",
           "#1CBE4F",
           "#C4451C",
           "#DEA0FD",
           "#FE00FA",
           "#325A9B",
           "#FEAF16",
           "#F8A19F",
           "#90AD1C"
          ]
         },
         "name": "sucre en poudre",
         "showlegend": false,
         "type": "bar",
         "x": [
          "mPt/kg de produit",
          "kg CO2 eq/kg de produit",
          "kg CVC11 eq/kg de produit",
          "kBq U-235 eq/kg de produit",
          "kg NMVOC eq/kg de produit",
          "disease inc./kg de produit",
          "CTUh/kg de produit",
          "CTUh/kg de produit.1",
          "mol H+ eq/kg de produit",
          "kg P eq/kg de produit",
          "kg N eq/kg de produit",
          "mol N eq/kg de produit",
          "CTUe/kg de produit",
          "Pt/kg de produit",
          "m3 depriv./kg de produit",
          "MJ/kg de produit",
          "kg Sb eq/kg de produit"
         ],
         "xaxis": "x3",
         "y": [
          0.000012209330000000004,
          0.00006142355800000002,
          6.328414000000001e-12,
          0.000010859437000000001,
          2.2669804000000008e-7,
          1.1962107000000005e-11,
          8.386383399999999e-13,
          4.6291798e-14,
          0.0000016245835000000004,
          1.5608586000000005e-8,
          5.153290400000001e-7,
          0.000006846079000000001,
          0.0008535527200000002,
          0.0033330120000000006,
          0.00021182920000000004,
          0.0008183917500000001,
          4.905390000000001e-10
         ],
         "yaxis": "y3"
        },
        {
         "marker": {
          "color": [
           "#AA0DFE",
           "#3283FE",
           "#85660D",
           "#782AB6",
           "#565656",
           "#1C8356",
           "#16FF32",
           "#F7E1A0",
           "#E2E2E2",
           "#1CBE4F",
           "#C4451C",
           "#DEA0FD",
           "#FE00FA",
           "#325A9B",
           "#FEAF16",
           "#F8A19F",
           "#90AD1C"
          ]
         },
         "name": "sucre vanillé",
         "showlegend": false,
         "type": "bar",
         "x": [
          "mPt/kg de produit",
          "kg CO2 eq/kg de produit",
          "kg CVC11 eq/kg de produit",
          "kBq U-235 eq/kg de produit",
          "kg NMVOC eq/kg de produit",
          "disease inc./kg de produit",
          "CTUh/kg de produit",
          "CTUh/kg de produit.1",
          "mol H+ eq/kg de produit",
          "kg P eq/kg de produit",
          "kg N eq/kg de produit",
          "mol N eq/kg de produit",
          "CTUe/kg de produit",
          "Pt/kg de produit",
          "m3 depriv./kg de produit",
          "MJ/kg de produit",
          "kg Sb eq/kg de produit"
         ],
         "xaxis": "x4",
         "y": [
          1.2209330000000002e-9,
          6.142355800000001e-9,
          6.328414000000001e-16,
          1.0859437000000002e-9,
          2.2669804e-11,
          1.1962107e-15,
          8.386383399999999e-17,
          4.6291798000000005e-18,
          1.6245835e-10,
          1.5608586000000003e-12,
          5.1532904000000005e-11,
          6.846079e-10,
          8.535527200000002e-8,
          3.333012e-7,
          2.118292e-8,
          8.183917500000001e-8,
          4.905390000000001e-14
         ],
         "yaxis": "y4"
        },
        {
         "marker": {
          "color": [
           "#AA0DFE",
           "#3283FE",
           "#85660D",
           "#782AB6",
           "#565656",
           "#1C8356",
           "#16FF32",
           "#F7E1A0",
           "#E2E2E2",
           "#1CBE4F",
           "#C4451C",
           "#DEA0FD",
           "#FE00FA",
           "#325A9B",
           "#FEAF16",
           "#F8A19F",
           "#90AD1C"
          ]
         },
         "name": "pommes",
         "showlegend": false,
         "type": "bar",
         "x": [
          "mPt/kg de produit",
          "kg CO2 eq/kg de produit",
          "kg CVC11 eq/kg de produit",
          "kBq U-235 eq/kg de produit",
          "kg NMVOC eq/kg de produit",
          "disease inc./kg de produit",
          "CTUh/kg de produit",
          "CTUh/kg de produit.1",
          "mol H+ eq/kg de produit",
          "kg P eq/kg de produit",
          "kg N eq/kg de produit",
          "mol N eq/kg de produit",
          "CTUe/kg de produit",
          "Pt/kg de produit",
          "m3 depriv./kg de produit",
          "MJ/kg de produit",
          "kg Sb eq/kg de produit"
         ],
         "xaxis": "x5",
         "y": [
          0.0054540391516875,
          0.051123024956250006,
          5.743305030375e-9,
          0.0113156390120625,
          0.00015257721137625,
          3.27637563238125e-9,
          2.32040570146875e-9,
          3.697761147187499e-11,
          0.00035755645725,
          0.000004920158689875001,
          0.00026214592777875007,
          0.0015597119207250002,
          0.289082420825625,
          1.6268318528625003,
          0.0111396561795,
          0.7994713410562501,
          2.2469798692125002e-7
         ],
         "yaxis": "y5"
        },
        {
         "marker": {
          "color": [
           "#AA0DFE",
           "#3283FE",
           "#85660D",
           "#782AB6",
           "#565656",
           "#1C8356",
           "#16FF32",
           "#F7E1A0",
           "#E2E2E2",
           "#1CBE4F",
           "#C4451C",
           "#DEA0FD",
           "#FE00FA",
           "#325A9B",
           "#FEAF16",
           "#F8A19F",
           "#90AD1C"
          ]
         },
         "name": "oeufs",
         "showlegend": false,
         "type": "bar",
         "x": [
          "mPt/kg de produit",
          "kg CO2 eq/kg de produit",
          "kg CVC11 eq/kg de produit",
          "kBq U-235 eq/kg de produit",
          "kg NMVOC eq/kg de produit",
          "disease inc./kg de produit",
          "CTUh/kg de produit",
          "CTUh/kg de produit.1",
          "mol H+ eq/kg de produit",
          "kg P eq/kg de produit",
          "kg N eq/kg de produit",
          "mol N eq/kg de produit",
          "CTUe/kg de produit",
          "Pt/kg de produit",
          "m3 depriv./kg de produit",
          "MJ/kg de produit",
          "kg Sb eq/kg de produit"
         ],
         "xaxis": "x6",
         "y": [
          0.000054613392,
          0.00031946016000000005,
          1.8099824000000006e-11,
          0.000035885711000000004,
          8.747223100000001e-7,
          5.9643391e-11,
          9.481792500000002e-12,
          3.723854200000001e-13,
          0.000008354911200000002,
          8.255530200000001e-8,
          0.0000018524673000000002,
          0.000036397214,
          0.0080170819,
          0.02357557400000001,
          0.00043100589000000006,
          0.0020820181000000006,
          1.1503959e-9
         ],
         "yaxis": "y6"
        },
        {
         "legendgroup": "mPt/kg de produit",
         "marker": {
          "color": "#AA0DFE",
          "size": 10,
          "symbol": "square"
         },
         "mode": "markers",
         "name": "mPt/kg de produit",
         "showlegend": true,
         "type": "scatter",
         "x": [
          null
         ],
         "xaxis": "x",
         "y": [
          null
         ],
         "yaxis": "y"
        },
        {
         "legendgroup": "kg CO2 eq/kg de produit",
         "marker": {
          "color": "#3283FE",
          "size": 10,
          "symbol": "square"
         },
         "mode": "markers",
         "name": "kg CO2 eq/kg de produit",
         "showlegend": true,
         "type": "scatter",
         "x": [
          null
         ],
         "xaxis": "x",
         "y": [
          null
         ],
         "yaxis": "y"
        },
        {
         "legendgroup": "kg CVC11 eq/kg de produit",
         "marker": {
          "color": "#85660D",
          "size": 10,
          "symbol": "square"
         },
         "mode": "markers",
         "name": "kg CVC11 eq/kg de produit",
         "showlegend": true,
         "type": "scatter",
         "x": [
          null
         ],
         "xaxis": "x",
         "y": [
          null
         ],
         "yaxis": "y"
        },
        {
         "legendgroup": "kBq U-235 eq/kg de produit",
         "marker": {
          "color": "#782AB6",
          "size": 10,
          "symbol": "square"
         },
         "mode": "markers",
         "name": "kBq U-235 eq/kg de produit",
         "showlegend": true,
         "type": "scatter",
         "x": [
          null
         ],
         "xaxis": "x",
         "y": [
          null
         ],
         "yaxis": "y"
        },
        {
         "legendgroup": "kg NMVOC eq/kg de produit",
         "marker": {
          "color": "#565656",
          "size": 10,
          "symbol": "square"
         },
         "mode": "markers",
         "name": "kg NMVOC eq/kg de produit",
         "showlegend": true,
         "type": "scatter",
         "x": [
          null
         ],
         "xaxis": "x",
         "y": [
          null
         ],
         "yaxis": "y"
        },
        {
         "legendgroup": "disease inc./kg de produit",
         "marker": {
          "color": "#1C8356",
          "size": 10,
          "symbol": "square"
         },
         "mode": "markers",
         "name": "disease inc./kg de produit",
         "showlegend": true,
         "type": "scatter",
         "x": [
          null
         ],
         "xaxis": "x",
         "y": [
          null
         ],
         "yaxis": "y"
        },
        {
         "legendgroup": "CTUh/kg de produit",
         "marker": {
          "color": "#16FF32",
          "size": 10,
          "symbol": "square"
         },
         "mode": "markers",
         "name": "CTUh/kg de produit",
         "showlegend": true,
         "type": "scatter",
         "x": [
          null
         ],
         "xaxis": "x",
         "y": [
          null
         ],
         "yaxis": "y"
        },
        {
         "legendgroup": "CTUh/kg de produit.1",
         "marker": {
          "color": "#F7E1A0",
          "size": 10,
          "symbol": "square"
         },
         "mode": "markers",
         "name": "CTUh/kg de produit.1",
         "showlegend": true,
         "type": "scatter",
         "x": [
          null
         ],
         "xaxis": "x",
         "y": [
          null
         ],
         "yaxis": "y"
        },
        {
         "legendgroup": "mol H+ eq/kg de produit",
         "marker": {
          "color": "#E2E2E2",
          "size": 10,
          "symbol": "square"
         },
         "mode": "markers",
         "name": "mol H+ eq/kg de produit",
         "showlegend": true,
         "type": "scatter",
         "x": [
          null
         ],
         "xaxis": "x",
         "y": [
          null
         ],
         "yaxis": "y"
        },
        {
         "legendgroup": "kg P eq/kg de produit",
         "marker": {
          "color": "#1CBE4F",
          "size": 10,
          "symbol": "square"
         },
         "mode": "markers",
         "name": "kg P eq/kg de produit",
         "showlegend": true,
         "type": "scatter",
         "x": [
          null
         ],
         "xaxis": "x",
         "y": [
          null
         ],
         "yaxis": "y"
        },
        {
         "legendgroup": "kg N eq/kg de produit",
         "marker": {
          "color": "#C4451C",
          "size": 10,
          "symbol": "square"
         },
         "mode": "markers",
         "name": "kg N eq/kg de produit",
         "showlegend": true,
         "type": "scatter",
         "x": [
          null
         ],
         "xaxis": "x",
         "y": [
          null
         ],
         "yaxis": "y"
        },
        {
         "legendgroup": "mol N eq/kg de produit",
         "marker": {
          "color": "#DEA0FD",
          "size": 10,
          "symbol": "square"
         },
         "mode": "markers",
         "name": "mol N eq/kg de produit",
         "showlegend": true,
         "type": "scatter",
         "x": [
          null
         ],
         "xaxis": "x",
         "y": [
          null
         ],
         "yaxis": "y"
        },
        {
         "legendgroup": "CTUe/kg de produit",
         "marker": {
          "color": "#FE00FA",
          "size": 10,
          "symbol": "square"
         },
         "mode": "markers",
         "name": "CTUe/kg de produit",
         "showlegend": true,
         "type": "scatter",
         "x": [
          null
         ],
         "xaxis": "x",
         "y": [
          null
         ],
         "yaxis": "y"
        },
        {
         "legendgroup": "Pt/kg de produit",
         "marker": {
          "color": "#325A9B",
          "size": 10,
          "symbol": "square"
         },
         "mode": "markers",
         "name": "Pt/kg de produit",
         "showlegend": true,
         "type": "scatter",
         "x": [
          null
         ],
         "xaxis": "x",
         "y": [
          null
         ],
         "yaxis": "y"
        },
        {
         "legendgroup": "m3 depriv./kg de produit",
         "marker": {
          "color": "#FEAF16",
          "size": 10,
          "symbol": "square"
         },
         "mode": "markers",
         "name": "m3 depriv./kg de produit",
         "showlegend": true,
         "type": "scatter",
         "x": [
          null
         ],
         "xaxis": "x",
         "y": [
          null
         ],
         "yaxis": "y"
        },
        {
         "legendgroup": "MJ/kg de produit",
         "marker": {
          "color": "#F8A19F",
          "size": 10,
          "symbol": "square"
         },
         "mode": "markers",
         "name": "MJ/kg de produit",
         "showlegend": true,
         "type": "scatter",
         "x": [
          null
         ],
         "xaxis": "x",
         "y": [
          null
         ],
         "yaxis": "y"
        },
        {
         "legendgroup": "kg Sb eq/kg de produit",
         "marker": {
          "color": "#90AD1C",
          "size": 10,
          "symbol": "square"
         },
         "mode": "markers",
         "name": "kg Sb eq/kg de produit",
         "showlegend": true,
         "type": "scatter",
         "x": [
          null
         ],
         "xaxis": "x",
         "y": [
          null
         ],
         "yaxis": "y"
        }
       ],
       "layout": {
        "template": {
         "data": {
          "bar": [
           {
            "error_x": {
             "color": "#2a3f5f"
            },
            "error_y": {
             "color": "#2a3f5f"
            },
            "marker": {
             "line": {
              "color": "#E5ECF6",
              "width": 0.5
             },
             "pattern": {
              "fillmode": "overlay",
              "size": 10,
              "solidity": 0.2
             }
            },
            "type": "bar"
           }
          ],
          "barpolar": [
           {
            "marker": {
             "line": {
              "color": "#E5ECF6",
              "width": 0.5
             },
             "pattern": {
              "fillmode": "overlay",
              "size": 10,
              "solidity": 0.2
             }
            },
            "type": "barpolar"
           }
          ],
          "carpet": [
           {
            "aaxis": {
             "endlinecolor": "#2a3f5f",
             "gridcolor": "white",
             "linecolor": "white",
             "minorgridcolor": "white",
             "startlinecolor": "#2a3f5f"
            },
            "baxis": {
             "endlinecolor": "#2a3f5f",
             "gridcolor": "white",
             "linecolor": "white",
             "minorgridcolor": "white",
             "startlinecolor": "#2a3f5f"
            },
            "type": "carpet"
           }
          ],
          "choropleth": [
           {
            "colorbar": {
             "outlinewidth": 0,
             "ticks": ""
            },
            "type": "choropleth"
           }
          ],
          "contour": [
           {
            "colorbar": {
             "outlinewidth": 0,
             "ticks": ""
            },
            "colorscale": [
             [
              0,
              "#0d0887"
             ],
             [
              0.1111111111111111,
              "#46039f"
             ],
             [
              0.2222222222222222,
              "#7201a8"
             ],
             [
              0.3333333333333333,
              "#9c179e"
             ],
             [
              0.4444444444444444,
              "#bd3786"
             ],
             [
              0.5555555555555556,
              "#d8576b"
             ],
             [
              0.6666666666666666,
              "#ed7953"
             ],
             [
              0.7777777777777778,
              "#fb9f3a"
             ],
             [
              0.8888888888888888,
              "#fdca26"
             ],
             [
              1,
              "#f0f921"
             ]
            ],
            "type": "contour"
           }
          ],
          "contourcarpet": [
           {
            "colorbar": {
             "outlinewidth": 0,
             "ticks": ""
            },
            "type": "contourcarpet"
           }
          ],
          "heatmap": [
           {
            "colorbar": {
             "outlinewidth": 0,
             "ticks": ""
            },
            "colorscale": [
             [
              0,
              "#0d0887"
             ],
             [
              0.1111111111111111,
              "#46039f"
             ],
             [
              0.2222222222222222,
              "#7201a8"
             ],
             [
              0.3333333333333333,
              "#9c179e"
             ],
             [
              0.4444444444444444,
              "#bd3786"
             ],
             [
              0.5555555555555556,
              "#d8576b"
             ],
             [
              0.6666666666666666,
              "#ed7953"
             ],
             [
              0.7777777777777778,
              "#fb9f3a"
             ],
             [
              0.8888888888888888,
              "#fdca26"
             ],
             [
              1,
              "#f0f921"
             ]
            ],
            "type": "heatmap"
           }
          ],
          "heatmapgl": [
           {
            "colorbar": {
             "outlinewidth": 0,
             "ticks": ""
            },
            "colorscale": [
             [
              0,
              "#0d0887"
             ],
             [
              0.1111111111111111,
              "#46039f"
             ],
             [
              0.2222222222222222,
              "#7201a8"
             ],
             [
              0.3333333333333333,
              "#9c179e"
             ],
             [
              0.4444444444444444,
              "#bd3786"
             ],
             [
              0.5555555555555556,
              "#d8576b"
             ],
             [
              0.6666666666666666,
              "#ed7953"
             ],
             [
              0.7777777777777778,
              "#fb9f3a"
             ],
             [
              0.8888888888888888,
              "#fdca26"
             ],
             [
              1,
              "#f0f921"
             ]
            ],
            "type": "heatmapgl"
           }
          ],
          "histogram": [
           {
            "marker": {
             "pattern": {
              "fillmode": "overlay",
              "size": 10,
              "solidity": 0.2
             }
            },
            "type": "histogram"
           }
          ],
          "histogram2d": [
           {
            "colorbar": {
             "outlinewidth": 0,
             "ticks": ""
            },
            "colorscale": [
             [
              0,
              "#0d0887"
             ],
             [
              0.1111111111111111,
              "#46039f"
             ],
             [
              0.2222222222222222,
              "#7201a8"
             ],
             [
              0.3333333333333333,
              "#9c179e"
             ],
             [
              0.4444444444444444,
              "#bd3786"
             ],
             [
              0.5555555555555556,
              "#d8576b"
             ],
             [
              0.6666666666666666,
              "#ed7953"
             ],
             [
              0.7777777777777778,
              "#fb9f3a"
             ],
             [
              0.8888888888888888,
              "#fdca26"
             ],
             [
              1,
              "#f0f921"
             ]
            ],
            "type": "histogram2d"
           }
          ],
          "histogram2dcontour": [
           {
            "colorbar": {
             "outlinewidth": 0,
             "ticks": ""
            },
            "colorscale": [
             [
              0,
              "#0d0887"
             ],
             [
              0.1111111111111111,
              "#46039f"
             ],
             [
              0.2222222222222222,
              "#7201a8"
             ],
             [
              0.3333333333333333,
              "#9c179e"
             ],
             [
              0.4444444444444444,
              "#bd3786"
             ],
             [
              0.5555555555555556,
              "#d8576b"
             ],
             [
              0.6666666666666666,
              "#ed7953"
             ],
             [
              0.7777777777777778,
              "#fb9f3a"
             ],
             [
              0.8888888888888888,
              "#fdca26"
             ],
             [
              1,
              "#f0f921"
             ]
            ],
            "type": "histogram2dcontour"
           }
          ],
          "mesh3d": [
           {
            "colorbar": {
             "outlinewidth": 0,
             "ticks": ""
            },
            "type": "mesh3d"
           }
          ],
          "parcoords": [
           {
            "line": {
             "colorbar": {
              "outlinewidth": 0,
              "ticks": ""
             }
            },
            "type": "parcoords"
           }
          ],
          "pie": [
           {
            "automargin": true,
            "type": "pie"
           }
          ],
          "scatter": [
           {
            "fillpattern": {
             "fillmode": "overlay",
             "size": 10,
             "solidity": 0.2
            },
            "type": "scatter"
           }
          ],
          "scatter3d": [
           {
            "line": {
             "colorbar": {
              "outlinewidth": 0,
              "ticks": ""
             }
            },
            "marker": {
             "colorbar": {
              "outlinewidth": 0,
              "ticks": ""
             }
            },
            "type": "scatter3d"
           }
          ],
          "scattercarpet": [
           {
            "marker": {
             "colorbar": {
              "outlinewidth": 0,
              "ticks": ""
             }
            },
            "type": "scattercarpet"
           }
          ],
          "scattergeo": [
           {
            "marker": {
             "colorbar": {
              "outlinewidth": 0,
              "ticks": ""
             }
            },
            "type": "scattergeo"
           }
          ],
          "scattergl": [
           {
            "marker": {
             "colorbar": {
              "outlinewidth": 0,
              "ticks": ""
             }
            },
            "type": "scattergl"
           }
          ],
          "scattermapbox": [
           {
            "marker": {
             "colorbar": {
              "outlinewidth": 0,
              "ticks": ""
             }
            },
            "type": "scattermapbox"
           }
          ],
          "scatterpolar": [
           {
            "marker": {
             "colorbar": {
              "outlinewidth": 0,
              "ticks": ""
             }
            },
            "type": "scatterpolar"
           }
          ],
          "scatterpolargl": [
           {
            "marker": {
             "colorbar": {
              "outlinewidth": 0,
              "ticks": ""
             }
            },
            "type": "scatterpolargl"
           }
          ],
          "scatterternary": [
           {
            "marker": {
             "colorbar": {
              "outlinewidth": 0,
              "ticks": ""
             }
            },
            "type": "scatterternary"
           }
          ],
          "surface": [
           {
            "colorbar": {
             "outlinewidth": 0,
             "ticks": ""
            },
            "colorscale": [
             [
              0,
              "#0d0887"
             ],
             [
              0.1111111111111111,
              "#46039f"
             ],
             [
              0.2222222222222222,
              "#7201a8"
             ],
             [
              0.3333333333333333,
              "#9c179e"
             ],
             [
              0.4444444444444444,
              "#bd3786"
             ],
             [
              0.5555555555555556,
              "#d8576b"
             ],
             [
              0.6666666666666666,
              "#ed7953"
             ],
             [
              0.7777777777777778,
              "#fb9f3a"
             ],
             [
              0.8888888888888888,
              "#fdca26"
             ],
             [
              1,
              "#f0f921"
             ]
            ],
            "type": "surface"
           }
          ],
          "table": [
           {
            "cells": {
             "fill": {
              "color": "#EBF0F8"
             },
             "line": {
              "color": "white"
             }
            },
            "header": {
             "fill": {
              "color": "#C8D4E3"
             },
             "line": {
              "color": "white"
             }
            },
            "type": "table"
           }
          ]
         },
         "layout": {
          "annotationdefaults": {
           "arrowcolor": "#2a3f5f",
           "arrowhead": 0,
           "arrowwidth": 1
          },
          "autotypenumbers": "strict",
          "coloraxis": {
           "colorbar": {
            "outlinewidth": 0,
            "ticks": ""
           }
          },
          "colorscale": {
           "diverging": [
            [
             0,
             "#8e0152"
            ],
            [
             0.1,
             "#c51b7d"
            ],
            [
             0.2,
             "#de77ae"
            ],
            [
             0.3,
             "#f1b6da"
            ],
            [
             0.4,
             "#fde0ef"
            ],
            [
             0.5,
             "#f7f7f7"
            ],
            [
             0.6,
             "#e6f5d0"
            ],
            [
             0.7,
             "#b8e186"
            ],
            [
             0.8,
             "#7fbc41"
            ],
            [
             0.9,
             "#4d9221"
            ],
            [
             1,
             "#276419"
            ]
           ],
           "sequential": [
            [
             0,
             "#0d0887"
            ],
            [
             0.1111111111111111,
             "#46039f"
            ],
            [
             0.2222222222222222,
             "#7201a8"
            ],
            [
             0.3333333333333333,
             "#9c179e"
            ],
            [
             0.4444444444444444,
             "#bd3786"
            ],
            [
             0.5555555555555556,
             "#d8576b"
            ],
            [
             0.6666666666666666,
             "#ed7953"
            ],
            [
             0.7777777777777778,
             "#fb9f3a"
            ],
            [
             0.8888888888888888,
             "#fdca26"
            ],
            [
             1,
             "#f0f921"
            ]
           ],
           "sequentialminus": [
            [
             0,
             "#0d0887"
            ],
            [
             0.1111111111111111,
             "#46039f"
            ],
            [
             0.2222222222222222,
             "#7201a8"
            ],
            [
             0.3333333333333333,
             "#9c179e"
            ],
            [
             0.4444444444444444,
             "#bd3786"
            ],
            [
             0.5555555555555556,
             "#d8576b"
            ],
            [
             0.6666666666666666,
             "#ed7953"
            ],
            [
             0.7777777777777778,
             "#fb9f3a"
            ],
            [
             0.8888888888888888,
             "#fdca26"
            ],
            [
             1,
             "#f0f921"
            ]
           ]
          },
          "colorway": [
           "#636efa",
           "#EF553B",
           "#00cc96",
           "#ab63fa",
           "#FFA15A",
           "#19d3f3",
           "#FF6692",
           "#B6E880",
           "#FF97FF",
           "#FECB52"
          ],
          "font": {
           "color": "#2a3f5f"
          },
          "geo": {
           "bgcolor": "white",
           "lakecolor": "white",
           "landcolor": "#E5ECF6",
           "showlakes": true,
           "showland": true,
           "subunitcolor": "white"
          },
          "hoverlabel": {
           "align": "left"
          },
          "hovermode": "closest",
          "mapbox": {
           "style": "light"
          },
          "paper_bgcolor": "white",
          "plot_bgcolor": "#E5ECF6",
          "polar": {
           "angularaxis": {
            "gridcolor": "white",
            "linecolor": "white",
            "ticks": ""
           },
           "bgcolor": "#E5ECF6",
           "radialaxis": {
            "gridcolor": "white",
            "linecolor": "white",
            "ticks": ""
           }
          },
          "scene": {
           "xaxis": {
            "backgroundcolor": "#E5ECF6",
            "gridcolor": "white",
            "gridwidth": 2,
            "linecolor": "white",
            "showbackground": true,
            "ticks": "",
            "zerolinecolor": "white"
           },
           "yaxis": {
            "backgroundcolor": "#E5ECF6",
            "gridcolor": "white",
            "gridwidth": 2,
            "linecolor": "white",
            "showbackground": true,
            "ticks": "",
            "zerolinecolor": "white"
           },
           "zaxis": {
            "backgroundcolor": "#E5ECF6",
            "gridcolor": "white",
            "gridwidth": 2,
            "linecolor": "white",
            "showbackground": true,
            "ticks": "",
            "zerolinecolor": "white"
           }
          },
          "shapedefaults": {
           "line": {
            "color": "#2a3f5f"
           }
          },
          "ternary": {
           "aaxis": {
            "gridcolor": "white",
            "linecolor": "white",
            "ticks": ""
           },
           "baxis": {
            "gridcolor": "white",
            "linecolor": "white",
            "ticks": ""
           },
           "bgcolor": "#E5ECF6",
           "caxis": {
            "gridcolor": "white",
            "linecolor": "white",
            "ticks": ""
           }
          },
          "title": {
           "x": 0.05
          },
          "xaxis": {
           "automargin": true,
           "gridcolor": "white",
           "linecolor": "white",
           "ticks": "",
           "title": {
            "standoff": 15
           },
           "zerolinecolor": "white",
           "zerolinewidth": 2
          },
          "yaxis": {
           "automargin": true,
           "gridcolor": "white",
           "linecolor": "white",
           "ticks": "",
           "title": {
            "standoff": 15
           },
           "zerolinecolor": "white",
           "zerolinewidth": 2
          }
         }
        },
        "xaxis": {
         "anchor": "y",
         "domain": [
          0,
          0.1388888888888889
         ],
         "showticklabels": false,
         "title": {
          "text": "pâte brisée"
         }
        },
        "xaxis2": {
         "anchor": "y2",
         "domain": [
          0.17222222222222222,
          0.3111111111111111
         ],
         "showticklabels": false,
         "title": {
          "text": "crème fraîche"
         }
        },
        "xaxis3": {
         "anchor": "y3",
         "domain": [
          0.34444444444444444,
          0.48333333333333334
         ],
         "showticklabels": false,
         "title": {
          "text": "sucre en poudre"
         }
        },
        "xaxis4": {
         "anchor": "y4",
         "domain": [
          0.5166666666666667,
          0.6555555555555557
         ],
         "showticklabels": false,
         "title": {
          "text": "sucre vanillé"
         }
        },
        "xaxis5": {
         "anchor": "y5",
         "domain": [
          0.6888888888888889,
          0.8277777777777777
         ],
         "showticklabels": false,
         "title": {
          "text": "pommes"
         }
        },
        "xaxis6": {
         "anchor": "y6",
         "domain": [
          0.861111111111111,
          1
         ],
         "showticklabels": false,
         "title": {
          "text": "oeufs"
         }
        },
        "yaxis": {
         "anchor": "x",
         "domain": [
          0,
          1
         ],
         "title": {
          "text": "t EqCO2"
         }
        },
        "yaxis2": {
         "anchor": "x2",
         "domain": [
          0,
          1
         ],
         "matches": "y",
         "showticklabels": false
        },
        "yaxis3": {
         "anchor": "x3",
         "domain": [
          0,
          1
         ],
         "matches": "y",
         "showticklabels": false
        },
        "yaxis4": {
         "anchor": "x4",
         "domain": [
          0,
          1
         ],
         "matches": "y",
         "showticklabels": false
        },
        "yaxis5": {
         "anchor": "x5",
         "domain": [
          0,
          1
         ],
         "matches": "y",
         "showticklabels": false
        },
        "yaxis6": {
         "anchor": "x6",
         "domain": [
          0,
          1
         ],
         "matches": "y",
         "showticklabels": false
        }
       }
      }
     },
     "metadata": {},
     "output_type": "display_data"
    }
   ],
   "source": [
    "liste_ingredients = df2[\"ingredient\"].unique()\n",
    "number_of_subplots = len(liste_ingredients)\n",
    "\n",
    "fig = make_subplots(rows=1, cols=number_of_subplots, shared_yaxes=True)\n",
    "\n",
    "# sub_df = df[df[\"ingredient\"] == \"pommes\"]\n",
    "colors = px.colors.qualitative.Alphabet[:df2[\"indicateur\"].nunique()]\n",
    "\n",
    "for i,ingredient in enumerate(liste_ingredients):\n",
    "    sub_df = df2[df2['ingredient'] == ingredient]\n",
    "    graphe = go.Bar(x = sub_df['indicateur'], y = sub_df['Valeur'], name=ingredient, marker = dict(color = colors))\n",
    "    fig.add_trace(graphe, row=1, col=i+1)\n",
    "    fig.update_xaxes(title_text = ingredient, row=1, col=i+1)\n",
    "\n",
    "for j, indicateur in enumerate(df2[\"indicateur\"].unique()):\n",
    "    fig.add_trace(go.Scatter(x=[None], y=[None], mode='markers', marker=dict(color=colors[j], size=10, symbol='square'), showlegend=True, legendgroup=indicateur, name=indicateur), row=1, col=1)\n",
    "\n",
    "fig.update_xaxes(showticklabels = False)\n",
    "\n",
    "fig.update_yaxes(title_text = 't EqCO2', row=1,col=1)\n",
    "\n",
    "fig.update_traces(showlegend=False, selector=dict(type='bar'))\n",
    "\n",
    "fig.show()"
   ]
  },
  {
   "cell_type": "code",
   "execution_count": 122,
   "metadata": {},
   "outputs": [
    {
     "data": {
      "application/vnd.plotly.v1+json": {
       "config": {
        "plotlyServerURL": "https://plot.ly"
       },
       "data": [
        {
         "marker": {
          "color": [
           "#AA0DFE",
           "#3283FE",
           "#85660D",
           "#782AB6",
           "#565656",
           "#1C8356"
          ]
         },
         "name": "mPt/kg de produit",
         "showlegend": false,
         "type": "bar",
         "x": [
          "pâte brisée",
          "crème fraîche",
          "sucre en poudre",
          "sucre vanillé",
          "pommes",
          "oeufs"
         ],
         "xaxis": "x",
         "y": [
          0.0005950589760000001,
          0.0010088803515625,
          0.000012209330000000004,
          1.2209330000000002e-9,
          0.0054540391516875,
          0.000054613392
         ],
         "yaxis": "y"
        },
        {
         "marker": {
          "color": [
           "#AA0DFE",
           "#3283FE",
           "#85660D",
           "#782AB6",
           "#565656",
           "#1C8356"
          ]
         },
         "name": "kg CO2 eq/kg de produit",
         "showlegend": false,
         "type": "bar",
         "x": [
          "pâte brisée",
          "crème fraîche",
          "sucre en poudre",
          "sucre vanillé",
          "pommes",
          "oeufs"
         ],
         "xaxis": "x2",
         "y": [
          0.005289323840000002,
          0.009979571484375,
          0.00006142355800000002,
          6.142355800000001e-9,
          0.051123024956250006,
          0.00031946016000000005
         ],
         "yaxis": "y2"
        },
        {
         "marker": {
          "color": [
           "#AA0DFE",
           "#3283FE",
           "#85660D",
           "#782AB6",
           "#565656",
           "#1C8356"
          ]
         },
         "name": "kg CVC11 eq/kg de produit",
         "showlegend": false,
         "type": "bar",
         "x": [
          "pâte brisée",
          "crème fraîche",
          "sucre en poudre",
          "sucre vanillé",
          "pommes",
          "oeufs"
         ],
         "xaxis": "x3",
         "y": [
          2.4998641600000003e-10,
          4.22588828125e-10,
          6.328414000000001e-12,
          6.328414000000001e-16,
          5.743305030375e-9,
          1.8099824000000006e-11
         ],
         "yaxis": "y3"
        },
        {
         "marker": {
          "color": [
           "#AA0DFE",
           "#3283FE",
           "#85660D",
           "#782AB6",
           "#565656",
           "#1C8356"
          ]
         },
         "name": "kBq U-235 eq/kg de produit",
         "showlegend": false,
         "type": "bar",
         "x": [
          "pâte brisée",
          "crème fraîche",
          "sucre en poudre",
          "sucre vanillé",
          "pommes",
          "oeufs"
         ],
         "xaxis": "x4",
         "y": [
          0.0021820264000000007,
          0.00180471125,
          0.000010859437000000001,
          1.0859437000000002e-9,
          0.0113156390120625,
          0.000035885711000000004
         ],
         "yaxis": "y4"
        },
        {
         "marker": {
          "color": [
           "#AA0DFE",
           "#3283FE",
           "#85660D",
           "#782AB6",
           "#565656",
           "#1C8356"
          ]
         },
         "name": "kg NMVOC eq/kg de produit",
         "showlegend": false,
         "type": "bar",
         "x": [
          "pâte brisée",
          "crème fraîche",
          "sucre en poudre",
          "sucre vanillé",
          "pommes",
          "oeufs"
         ],
         "xaxis": "x5",
         "y": [
          0.000010780434720000003,
          0.00001808467421875,
          2.2669804000000008e-7,
          2.2669804e-11,
          0.00015257721137625,
          8.747223100000001e-7
         ],
         "yaxis": "y5"
        },
        {
         "marker": {
          "color": [
           "#AA0DFE",
           "#3283FE",
           "#85660D",
           "#782AB6",
           "#565656",
           "#1C8356"
          ]
         },
         "name": "disease inc./kg de produit",
         "showlegend": false,
         "type": "bar",
         "x": [
          "pâte brisée",
          "crème fraîche",
          "sucre en poudre",
          "sucre vanillé",
          "pommes",
          "oeufs"
         ],
         "xaxis": "x6",
         "y": [
          3.8069380800000003e-10,
          6.90632578125e-10,
          1.1962107000000005e-11,
          1.1962107e-15,
          3.27637563238125e-9,
          5.9643391e-11
         ],
         "yaxis": "y6"
        },
        {
         "marker": {
          "color": [
           "#AA0DFE",
           "#3283FE",
           "#85660D",
           "#782AB6",
           "#565656",
           "#1C8356"
          ]
         },
         "name": "CTUh/kg de produit",
         "showlegend": false,
         "type": "bar",
         "x": [
          "pâte brisée",
          "crème fraîche",
          "sucre en poudre",
          "sucre vanillé",
          "pommes",
          "oeufs"
         ],
         "xaxis": "x7",
         "y": [
          1.0941653760000001e-10,
          2.2268794531249997e-10,
          8.386383399999999e-13,
          8.386383399999999e-17,
          2.32040570146875e-9,
          9.481792500000002e-12
         ],
         "yaxis": "y7"
        },
        {
         "marker": {
          "color": [
           "#AA0DFE",
           "#3283FE",
           "#85660D",
           "#782AB6",
           "#565656",
           "#1C8356"
          ]
         },
         "name": "CTUh/kg de produit.1",
         "showlegend": false,
         "type": "bar",
         "x": [
          "pâte brisée",
          "crème fraîche",
          "sucre en poudre",
          "sucre vanillé",
          "pommes",
          "oeufs"
         ],
         "xaxis": "x8",
         "y": [
          3.860737120000001e-12,
          6.760201953125e-12,
          4.6291798e-14,
          4.6291798000000005e-18,
          3.697761147187499e-11,
          3.723854200000001e-13
         ],
         "yaxis": "y8"
        },
        {
         "marker": {
          "color": [
           "#AA0DFE",
           "#3283FE",
           "#85660D",
           "#782AB6",
           "#565656",
           "#1C8356"
          ]
         },
         "name": "mol H+ eq/kg de produit",
         "showlegend": false,
         "type": "bar",
         "x": [
          "pâte brisée",
          "crème fraîche",
          "sucre en poudre",
          "sucre vanillé",
          "pommes",
          "oeufs"
         ],
         "xaxis": "x9",
         "y": [
          0.00005403762720000001,
          0.00009735214453125,
          0.0000016245835000000004,
          1.6245835e-10,
          0.00035755645725,
          0.000008354911200000002
         ],
         "yaxis": "y9"
        },
        {
         "marker": {
          "color": [
           "#AA0DFE",
           "#3283FE",
           "#85660D",
           "#782AB6",
           "#565656",
           "#1C8356"
          ]
         },
         "name": "kg P eq/kg de produit",
         "showlegend": false,
         "type": "bar",
         "x": [
          "pâte brisée",
          "crème fraîche",
          "sucre en poudre",
          "sucre vanillé",
          "pommes",
          "oeufs"
         ],
         "xaxis": "x10",
         "y": [
          7.568115040000002e-7,
          0.0000012370221484375,
          1.5608586000000005e-8,
          1.5608586000000003e-12,
          0.000004920158689875001,
          8.255530200000001e-8
         ],
         "yaxis": "y10"
        },
        {
         "marker": {
          "color": [
           "#AA0DFE",
           "#3283FE",
           "#85660D",
           "#782AB6",
           "#565656",
           "#1C8356"
          ]
         },
         "name": "kg N eq/kg de produit",
         "showlegend": false,
         "type": "bar",
         "x": [
          "pâte brisée",
          "crème fraîche",
          "sucre en poudre",
          "sucre vanillé",
          "pommes",
          "oeufs"
         ],
         "xaxis": "x11",
         "y": [
          0.000020957724800000006,
          0.000030682823828125,
          5.153290400000001e-7,
          5.1532904000000005e-11,
          0.00026214592777875007,
          0.0000018524673000000002
         ],
         "yaxis": "y11"
        },
        {
         "marker": {
          "color": [
           "#AA0DFE",
           "#3283FE",
           "#85660D",
           "#782AB6",
           "#565656",
           "#1C8356"
          ]
         },
         "name": "mol N eq/kg de produit",
         "showlegend": false,
         "type": "bar",
         "x": [
          "pâte brisée",
          "crème fraîche",
          "sucre en poudre",
          "sucre vanillé",
          "pommes",
          "oeufs"
         ],
         "xaxis": "x12",
         "y": [
          0.00022566971200000007,
          0.0004062775390625,
          0.000006846079000000001,
          6.846079e-10,
          0.0015597119207250002,
          0.000036397214
         ],
         "yaxis": "y12"
        },
        {
         "marker": {
          "color": [
           "#AA0DFE",
           "#3283FE",
           "#85660D",
           "#782AB6",
           "#565656",
           "#1C8356"
          ]
         },
         "name": "CTUe/kg de produit",
         "showlegend": false,
         "type": "bar",
         "x": [
          "pâte brisée",
          "crème fraîche",
          "sucre en poudre",
          "sucre vanillé",
          "pommes",
          "oeufs"
         ],
         "xaxis": "x13",
         "y": [
          0.05580578560000002,
          0.09871148046875,
          0.0008535527200000002,
          8.535527200000002e-8,
          0.289082420825625,
          0.0080170819
         ],
         "yaxis": "y13"
        },
        {
         "marker": {
          "color": [
           "#AA0DFE",
           "#3283FE",
           "#85660D",
           "#782AB6",
           "#565656",
           "#1C8356"
          ]
         },
         "name": "Pt/kg de produit",
         "showlegend": false,
         "type": "bar",
         "x": [
          "pâte brisée",
          "crème fraîche",
          "sucre en poudre",
          "sucre vanillé",
          "pommes",
          "oeufs"
         ],
         "xaxis": "x14",
         "y": [
          0.3026401600000001,
          0.4983880859375,
          0.0033330120000000006,
          3.333012e-7,
          1.6268318528625003,
          0.02357557400000001
         ],
         "yaxis": "y14"
        },
        {
         "marker": {
          "color": [
           "#AA0DFE",
           "#3283FE",
           "#85660D",
           "#782AB6",
           "#565656",
           "#1C8356"
          ]
         },
         "name": "m3 depriv./kg de produit",
         "showlegend": false,
         "type": "bar",
         "x": [
          "pâte brisée",
          "crème fraîche",
          "sucre en poudre",
          "sucre vanillé",
          "pommes",
          "oeufs"
         ],
         "xaxis": "x15",
         "y": [
          0.00198236144,
          0.002417149375,
          0.00021182920000000004,
          2.118292e-8,
          0.0111396561795,
          0.00043100589000000006
         ],
         "yaxis": "y15"
        },
        {
         "marker": {
          "color": [
           "#AA0DFE",
           "#3283FE",
           "#85660D",
           "#782AB6",
           "#565656",
           "#1C8356"
          ]
         },
         "name": "MJ/kg de produit",
         "showlegend": false,
         "type": "bar",
         "x": [
          "pâte brisée",
          "crème fraîche",
          "sucre en poudre",
          "sucre vanillé",
          "pommes",
          "oeufs"
         ],
         "xaxis": "x16",
         "y": [
          0.06820678080000002,
          0.07780886328125,
          0.0008183917500000001,
          8.183917500000001e-8,
          0.7994713410562501,
          0.0020820181000000006
         ],
         "yaxis": "y16"
        },
        {
         "marker": {
          "color": [
           "#AA0DFE",
           "#3283FE",
           "#85660D",
           "#782AB6",
           "#565656",
           "#1C8356"
          ]
         },
         "name": "kg Sb eq/kg de produit",
         "showlegend": false,
         "type": "bar",
         "x": [
          "pâte brisée",
          "crème fraîche",
          "sucre en poudre",
          "sucre vanillé",
          "pommes",
          "oeufs"
         ],
         "xaxis": "x17",
         "y": [
          2.3706926400000005e-8,
          6.915124609375e-8,
          4.905390000000001e-10,
          4.905390000000001e-14,
          2.2469798692125002e-7,
          1.1503959e-9
         ],
         "yaxis": "y17"
        },
        {
         "legendgroup": "pâte brisée",
         "marker": {
          "color": "#AA0DFE",
          "size": 10,
          "symbol": "square"
         },
         "mode": "markers",
         "name": "pâte brisée",
         "showlegend": true,
         "type": "scatter",
         "x": [
          null
         ],
         "xaxis": "x",
         "y": [
          null
         ],
         "yaxis": "y"
        },
        {
         "legendgroup": "crème fraîche",
         "marker": {
          "color": "#3283FE",
          "size": 10,
          "symbol": "square"
         },
         "mode": "markers",
         "name": "crème fraîche",
         "showlegend": true,
         "type": "scatter",
         "x": [
          null
         ],
         "xaxis": "x",
         "y": [
          null
         ],
         "yaxis": "y"
        },
        {
         "legendgroup": "sucre en poudre",
         "marker": {
          "color": "#85660D",
          "size": 10,
          "symbol": "square"
         },
         "mode": "markers",
         "name": "sucre en poudre",
         "showlegend": true,
         "type": "scatter",
         "x": [
          null
         ],
         "xaxis": "x",
         "y": [
          null
         ],
         "yaxis": "y"
        },
        {
         "legendgroup": "sucre vanillé",
         "marker": {
          "color": "#782AB6",
          "size": 10,
          "symbol": "square"
         },
         "mode": "markers",
         "name": "sucre vanillé",
         "showlegend": true,
         "type": "scatter",
         "x": [
          null
         ],
         "xaxis": "x",
         "y": [
          null
         ],
         "yaxis": "y"
        },
        {
         "legendgroup": "pommes",
         "marker": {
          "color": "#565656",
          "size": 10,
          "symbol": "square"
         },
         "mode": "markers",
         "name": "pommes",
         "showlegend": true,
         "type": "scatter",
         "x": [
          null
         ],
         "xaxis": "x",
         "y": [
          null
         ],
         "yaxis": "y"
        },
        {
         "legendgroup": "oeufs",
         "marker": {
          "color": "#1C8356",
          "size": 10,
          "symbol": "square"
         },
         "mode": "markers",
         "name": "oeufs",
         "showlegend": true,
         "type": "scatter",
         "x": [
          null
         ],
         "xaxis": "x",
         "y": [
          null
         ],
         "yaxis": "y"
        }
       ],
       "layout": {
        "barmode": "stack",
        "template": {
         "data": {
          "bar": [
           {
            "error_x": {
             "color": "#2a3f5f"
            },
            "error_y": {
             "color": "#2a3f5f"
            },
            "marker": {
             "line": {
              "color": "#E5ECF6",
              "width": 0.5
             },
             "pattern": {
              "fillmode": "overlay",
              "size": 10,
              "solidity": 0.2
             }
            },
            "type": "bar"
           }
          ],
          "barpolar": [
           {
            "marker": {
             "line": {
              "color": "#E5ECF6",
              "width": 0.5
             },
             "pattern": {
              "fillmode": "overlay",
              "size": 10,
              "solidity": 0.2
             }
            },
            "type": "barpolar"
           }
          ],
          "carpet": [
           {
            "aaxis": {
             "endlinecolor": "#2a3f5f",
             "gridcolor": "white",
             "linecolor": "white",
             "minorgridcolor": "white",
             "startlinecolor": "#2a3f5f"
            },
            "baxis": {
             "endlinecolor": "#2a3f5f",
             "gridcolor": "white",
             "linecolor": "white",
             "minorgridcolor": "white",
             "startlinecolor": "#2a3f5f"
            },
            "type": "carpet"
           }
          ],
          "choropleth": [
           {
            "colorbar": {
             "outlinewidth": 0,
             "ticks": ""
            },
            "type": "choropleth"
           }
          ],
          "contour": [
           {
            "colorbar": {
             "outlinewidth": 0,
             "ticks": ""
            },
            "colorscale": [
             [
              0,
              "#0d0887"
             ],
             [
              0.1111111111111111,
              "#46039f"
             ],
             [
              0.2222222222222222,
              "#7201a8"
             ],
             [
              0.3333333333333333,
              "#9c179e"
             ],
             [
              0.4444444444444444,
              "#bd3786"
             ],
             [
              0.5555555555555556,
              "#d8576b"
             ],
             [
              0.6666666666666666,
              "#ed7953"
             ],
             [
              0.7777777777777778,
              "#fb9f3a"
             ],
             [
              0.8888888888888888,
              "#fdca26"
             ],
             [
              1,
              "#f0f921"
             ]
            ],
            "type": "contour"
           }
          ],
          "contourcarpet": [
           {
            "colorbar": {
             "outlinewidth": 0,
             "ticks": ""
            },
            "type": "contourcarpet"
           }
          ],
          "heatmap": [
           {
            "colorbar": {
             "outlinewidth": 0,
             "ticks": ""
            },
            "colorscale": [
             [
              0,
              "#0d0887"
             ],
             [
              0.1111111111111111,
              "#46039f"
             ],
             [
              0.2222222222222222,
              "#7201a8"
             ],
             [
              0.3333333333333333,
              "#9c179e"
             ],
             [
              0.4444444444444444,
              "#bd3786"
             ],
             [
              0.5555555555555556,
              "#d8576b"
             ],
             [
              0.6666666666666666,
              "#ed7953"
             ],
             [
              0.7777777777777778,
              "#fb9f3a"
             ],
             [
              0.8888888888888888,
              "#fdca26"
             ],
             [
              1,
              "#f0f921"
             ]
            ],
            "type": "heatmap"
           }
          ],
          "heatmapgl": [
           {
            "colorbar": {
             "outlinewidth": 0,
             "ticks": ""
            },
            "colorscale": [
             [
              0,
              "#0d0887"
             ],
             [
              0.1111111111111111,
              "#46039f"
             ],
             [
              0.2222222222222222,
              "#7201a8"
             ],
             [
              0.3333333333333333,
              "#9c179e"
             ],
             [
              0.4444444444444444,
              "#bd3786"
             ],
             [
              0.5555555555555556,
              "#d8576b"
             ],
             [
              0.6666666666666666,
              "#ed7953"
             ],
             [
              0.7777777777777778,
              "#fb9f3a"
             ],
             [
              0.8888888888888888,
              "#fdca26"
             ],
             [
              1,
              "#f0f921"
             ]
            ],
            "type": "heatmapgl"
           }
          ],
          "histogram": [
           {
            "marker": {
             "pattern": {
              "fillmode": "overlay",
              "size": 10,
              "solidity": 0.2
             }
            },
            "type": "histogram"
           }
          ],
          "histogram2d": [
           {
            "colorbar": {
             "outlinewidth": 0,
             "ticks": ""
            },
            "colorscale": [
             [
              0,
              "#0d0887"
             ],
             [
              0.1111111111111111,
              "#46039f"
             ],
             [
              0.2222222222222222,
              "#7201a8"
             ],
             [
              0.3333333333333333,
              "#9c179e"
             ],
             [
              0.4444444444444444,
              "#bd3786"
             ],
             [
              0.5555555555555556,
              "#d8576b"
             ],
             [
              0.6666666666666666,
              "#ed7953"
             ],
             [
              0.7777777777777778,
              "#fb9f3a"
             ],
             [
              0.8888888888888888,
              "#fdca26"
             ],
             [
              1,
              "#f0f921"
             ]
            ],
            "type": "histogram2d"
           }
          ],
          "histogram2dcontour": [
           {
            "colorbar": {
             "outlinewidth": 0,
             "ticks": ""
            },
            "colorscale": [
             [
              0,
              "#0d0887"
             ],
             [
              0.1111111111111111,
              "#46039f"
             ],
             [
              0.2222222222222222,
              "#7201a8"
             ],
             [
              0.3333333333333333,
              "#9c179e"
             ],
             [
              0.4444444444444444,
              "#bd3786"
             ],
             [
              0.5555555555555556,
              "#d8576b"
             ],
             [
              0.6666666666666666,
              "#ed7953"
             ],
             [
              0.7777777777777778,
              "#fb9f3a"
             ],
             [
              0.8888888888888888,
              "#fdca26"
             ],
             [
              1,
              "#f0f921"
             ]
            ],
            "type": "histogram2dcontour"
           }
          ],
          "mesh3d": [
           {
            "colorbar": {
             "outlinewidth": 0,
             "ticks": ""
            },
            "type": "mesh3d"
           }
          ],
          "parcoords": [
           {
            "line": {
             "colorbar": {
              "outlinewidth": 0,
              "ticks": ""
             }
            },
            "type": "parcoords"
           }
          ],
          "pie": [
           {
            "automargin": true,
            "type": "pie"
           }
          ],
          "scatter": [
           {
            "fillpattern": {
             "fillmode": "overlay",
             "size": 10,
             "solidity": 0.2
            },
            "type": "scatter"
           }
          ],
          "scatter3d": [
           {
            "line": {
             "colorbar": {
              "outlinewidth": 0,
              "ticks": ""
             }
            },
            "marker": {
             "colorbar": {
              "outlinewidth": 0,
              "ticks": ""
             }
            },
            "type": "scatter3d"
           }
          ],
          "scattercarpet": [
           {
            "marker": {
             "colorbar": {
              "outlinewidth": 0,
              "ticks": ""
             }
            },
            "type": "scattercarpet"
           }
          ],
          "scattergeo": [
           {
            "marker": {
             "colorbar": {
              "outlinewidth": 0,
              "ticks": ""
             }
            },
            "type": "scattergeo"
           }
          ],
          "scattergl": [
           {
            "marker": {
             "colorbar": {
              "outlinewidth": 0,
              "ticks": ""
             }
            },
            "type": "scattergl"
           }
          ],
          "scattermapbox": [
           {
            "marker": {
             "colorbar": {
              "outlinewidth": 0,
              "ticks": ""
             }
            },
            "type": "scattermapbox"
           }
          ],
          "scatterpolar": [
           {
            "marker": {
             "colorbar": {
              "outlinewidth": 0,
              "ticks": ""
             }
            },
            "type": "scatterpolar"
           }
          ],
          "scatterpolargl": [
           {
            "marker": {
             "colorbar": {
              "outlinewidth": 0,
              "ticks": ""
             }
            },
            "type": "scatterpolargl"
           }
          ],
          "scatterternary": [
           {
            "marker": {
             "colorbar": {
              "outlinewidth": 0,
              "ticks": ""
             }
            },
            "type": "scatterternary"
           }
          ],
          "surface": [
           {
            "colorbar": {
             "outlinewidth": 0,
             "ticks": ""
            },
            "colorscale": [
             [
              0,
              "#0d0887"
             ],
             [
              0.1111111111111111,
              "#46039f"
             ],
             [
              0.2222222222222222,
              "#7201a8"
             ],
             [
              0.3333333333333333,
              "#9c179e"
             ],
             [
              0.4444444444444444,
              "#bd3786"
             ],
             [
              0.5555555555555556,
              "#d8576b"
             ],
             [
              0.6666666666666666,
              "#ed7953"
             ],
             [
              0.7777777777777778,
              "#fb9f3a"
             ],
             [
              0.8888888888888888,
              "#fdca26"
             ],
             [
              1,
              "#f0f921"
             ]
            ],
            "type": "surface"
           }
          ],
          "table": [
           {
            "cells": {
             "fill": {
              "color": "#EBF0F8"
             },
             "line": {
              "color": "white"
             }
            },
            "header": {
             "fill": {
              "color": "#C8D4E3"
             },
             "line": {
              "color": "white"
             }
            },
            "type": "table"
           }
          ]
         },
         "layout": {
          "annotationdefaults": {
           "arrowcolor": "#2a3f5f",
           "arrowhead": 0,
           "arrowwidth": 1
          },
          "autotypenumbers": "strict",
          "coloraxis": {
           "colorbar": {
            "outlinewidth": 0,
            "ticks": ""
           }
          },
          "colorscale": {
           "diverging": [
            [
             0,
             "#8e0152"
            ],
            [
             0.1,
             "#c51b7d"
            ],
            [
             0.2,
             "#de77ae"
            ],
            [
             0.3,
             "#f1b6da"
            ],
            [
             0.4,
             "#fde0ef"
            ],
            [
             0.5,
             "#f7f7f7"
            ],
            [
             0.6,
             "#e6f5d0"
            ],
            [
             0.7,
             "#b8e186"
            ],
            [
             0.8,
             "#7fbc41"
            ],
            [
             0.9,
             "#4d9221"
            ],
            [
             1,
             "#276419"
            ]
           ],
           "sequential": [
            [
             0,
             "#0d0887"
            ],
            [
             0.1111111111111111,
             "#46039f"
            ],
            [
             0.2222222222222222,
             "#7201a8"
            ],
            [
             0.3333333333333333,
             "#9c179e"
            ],
            [
             0.4444444444444444,
             "#bd3786"
            ],
            [
             0.5555555555555556,
             "#d8576b"
            ],
            [
             0.6666666666666666,
             "#ed7953"
            ],
            [
             0.7777777777777778,
             "#fb9f3a"
            ],
            [
             0.8888888888888888,
             "#fdca26"
            ],
            [
             1,
             "#f0f921"
            ]
           ],
           "sequentialminus": [
            [
             0,
             "#0d0887"
            ],
            [
             0.1111111111111111,
             "#46039f"
            ],
            [
             0.2222222222222222,
             "#7201a8"
            ],
            [
             0.3333333333333333,
             "#9c179e"
            ],
            [
             0.4444444444444444,
             "#bd3786"
            ],
            [
             0.5555555555555556,
             "#d8576b"
            ],
            [
             0.6666666666666666,
             "#ed7953"
            ],
            [
             0.7777777777777778,
             "#fb9f3a"
            ],
            [
             0.8888888888888888,
             "#fdca26"
            ],
            [
             1,
             "#f0f921"
            ]
           ]
          },
          "colorway": [
           "#636efa",
           "#EF553B",
           "#00cc96",
           "#ab63fa",
           "#FFA15A",
           "#19d3f3",
           "#FF6692",
           "#B6E880",
           "#FF97FF",
           "#FECB52"
          ],
          "font": {
           "color": "#2a3f5f"
          },
          "geo": {
           "bgcolor": "white",
           "lakecolor": "white",
           "landcolor": "#E5ECF6",
           "showlakes": true,
           "showland": true,
           "subunitcolor": "white"
          },
          "hoverlabel": {
           "align": "left"
          },
          "hovermode": "closest",
          "mapbox": {
           "style": "light"
          },
          "paper_bgcolor": "white",
          "plot_bgcolor": "#E5ECF6",
          "polar": {
           "angularaxis": {
            "gridcolor": "white",
            "linecolor": "white",
            "ticks": ""
           },
           "bgcolor": "#E5ECF6",
           "radialaxis": {
            "gridcolor": "white",
            "linecolor": "white",
            "ticks": ""
           }
          },
          "scene": {
           "xaxis": {
            "backgroundcolor": "#E5ECF6",
            "gridcolor": "white",
            "gridwidth": 2,
            "linecolor": "white",
            "showbackground": true,
            "ticks": "",
            "zerolinecolor": "white"
           },
           "yaxis": {
            "backgroundcolor": "#E5ECF6",
            "gridcolor": "white",
            "gridwidth": 2,
            "linecolor": "white",
            "showbackground": true,
            "ticks": "",
            "zerolinecolor": "white"
           },
           "zaxis": {
            "backgroundcolor": "#E5ECF6",
            "gridcolor": "white",
            "gridwidth": 2,
            "linecolor": "white",
            "showbackground": true,
            "ticks": "",
            "zerolinecolor": "white"
           }
          },
          "shapedefaults": {
           "line": {
            "color": "#2a3f5f"
           }
          },
          "ternary": {
           "aaxis": {
            "gridcolor": "white",
            "linecolor": "white",
            "ticks": ""
           },
           "baxis": {
            "gridcolor": "white",
            "linecolor": "white",
            "ticks": ""
           },
           "bgcolor": "#E5ECF6",
           "caxis": {
            "gridcolor": "white",
            "linecolor": "white",
            "ticks": ""
           }
          },
          "title": {
           "x": 0.05
          },
          "xaxis": {
           "automargin": true,
           "gridcolor": "white",
           "linecolor": "white",
           "ticks": "",
           "title": {
            "standoff": 15
           },
           "zerolinecolor": "white",
           "zerolinewidth": 2
          },
          "yaxis": {
           "automargin": true,
           "gridcolor": "white",
           "linecolor": "white",
           "ticks": "",
           "title": {
            "standoff": 15
           },
           "zerolinecolor": "white",
           "zerolinewidth": 2
          }
         }
        },
        "xaxis": {
         "anchor": "y",
         "domain": [
          0,
          0.04775086505190312
         ],
         "showticklabels": false,
         "tickangle": 40,
         "title": {
          "text": "mPt/kg de produit"
         }
        },
        "xaxis10": {
         "anchor": "y10",
         "domain": [
          0.5356401384083045,
          0.5833910034602076
         ],
         "showticklabels": false,
         "tickangle": 40,
         "title": {
          "text": "kg P eq/kg de produit"
         }
        },
        "xaxis11": {
         "anchor": "y11",
         "domain": [
          0.5951557093425606,
          0.6429065743944636
         ],
         "showticklabels": false,
         "tickangle": 40,
         "title": {
          "text": "kg N eq/kg de produit"
         }
        },
        "xaxis12": {
         "anchor": "y12",
         "domain": [
          0.6546712802768166,
          0.7024221453287197
         ],
         "showticklabels": false,
         "tickangle": 40,
         "title": {
          "text": "mol N eq/kg de produit"
         }
        },
        "xaxis13": {
         "anchor": "y13",
         "domain": [
          0.7141868512110727,
          0.7619377162629758
         ],
         "showticklabels": false,
         "tickangle": 40,
         "title": {
          "text": "CTUe/kg de produit"
         }
        },
        "xaxis14": {
         "anchor": "y14",
         "domain": [
          0.7737024221453287,
          0.8214532871972318
         ],
         "showticklabels": false,
         "tickangle": 40,
         "title": {
          "text": "Pt/kg de produit"
         }
        },
        "xaxis15": {
         "anchor": "y15",
         "domain": [
          0.8332179930795847,
          0.8809688581314877
         ],
         "showticklabels": false,
         "tickangle": 40,
         "title": {
          "text": "m3 depriv./kg de produit"
         }
        },
        "xaxis16": {
         "anchor": "y16",
         "domain": [
          0.8927335640138407,
          0.9404844290657438
         ],
         "showticklabels": false,
         "tickangle": 40,
         "title": {
          "text": "MJ/kg de produit"
         }
        },
        "xaxis17": {
         "anchor": "y17",
         "domain": [
          0.9522491349480967,
          0.9999999999999998
         ],
         "showticklabels": false,
         "tickangle": 40,
         "title": {
          "text": "kg Sb eq/kg de produit"
         }
        },
        "xaxis2": {
         "anchor": "y2",
         "domain": [
          0.05951557093425606,
          0.10726643598615918
         ],
         "showticklabels": false,
         "tickangle": 40,
         "title": {
          "text": "kg CO2 eq/kg de produit"
         }
        },
        "xaxis3": {
         "anchor": "y3",
         "domain": [
          0.11903114186851212,
          0.16678200692041523
         ],
         "showticklabels": false,
         "tickangle": 40,
         "title": {
          "text": "kg CVC11 eq/kg de produit"
         }
        },
        "xaxis4": {
         "anchor": "y4",
         "domain": [
          0.17854671280276818,
          0.2262975778546713
         ],
         "showticklabels": false,
         "tickangle": 40,
         "title": {
          "text": "kBq U-235 eq/kg de produit"
         }
        },
        "xaxis5": {
         "anchor": "y5",
         "domain": [
          0.23806228373702423,
          0.28581314878892733
         ],
         "showticklabels": false,
         "tickangle": 40,
         "title": {
          "text": "kg NMVOC eq/kg de produit"
         }
        },
        "xaxis6": {
         "anchor": "y6",
         "domain": [
          0.2975778546712803,
          0.3453287197231834
         ],
         "showticklabels": false,
         "tickangle": 40,
         "title": {
          "text": "disease inc./kg de produit"
         }
        },
        "xaxis7": {
         "anchor": "y7",
         "domain": [
          0.35709342560553636,
          0.4048442906574395
         ],
         "showticklabels": false,
         "tickangle": 40,
         "title": {
          "text": "CTUh/kg de produit"
         }
        },
        "xaxis8": {
         "anchor": "y8",
         "domain": [
          0.4166089965397924,
          0.4643598615916955
         ],
         "showticklabels": false,
         "tickangle": 40,
         "title": {
          "text": "CTUh/kg de produit.1"
         }
        },
        "xaxis9": {
         "anchor": "y9",
         "domain": [
          0.47612456747404847,
          0.5238754325259516
         ],
         "showticklabels": false,
         "tickangle": 40,
         "title": {
          "text": "mol H+ eq/kg de produit"
         }
        },
        "yaxis": {
         "anchor": "x",
         "domain": [
          0,
          1
         ],
         "title": {
          "text": "t EqCO2"
         }
        },
        "yaxis10": {
         "anchor": "x10",
         "domain": [
          0,
          1
         ]
        },
        "yaxis11": {
         "anchor": "x11",
         "domain": [
          0,
          1
         ]
        },
        "yaxis12": {
         "anchor": "x12",
         "domain": [
          0,
          1
         ]
        },
        "yaxis13": {
         "anchor": "x13",
         "domain": [
          0,
          1
         ]
        },
        "yaxis14": {
         "anchor": "x14",
         "domain": [
          0,
          1
         ]
        },
        "yaxis15": {
         "anchor": "x15",
         "domain": [
          0,
          1
         ]
        },
        "yaxis16": {
         "anchor": "x16",
         "domain": [
          0,
          1
         ]
        },
        "yaxis17": {
         "anchor": "x17",
         "domain": [
          0,
          1
         ]
        },
        "yaxis2": {
         "anchor": "x2",
         "domain": [
          0,
          1
         ]
        },
        "yaxis3": {
         "anchor": "x3",
         "domain": [
          0,
          1
         ]
        },
        "yaxis4": {
         "anchor": "x4",
         "domain": [
          0,
          1
         ]
        },
        "yaxis5": {
         "anchor": "x5",
         "domain": [
          0,
          1
         ]
        },
        "yaxis6": {
         "anchor": "x6",
         "domain": [
          0,
          1
         ]
        },
        "yaxis7": {
         "anchor": "x7",
         "domain": [
          0,
          1
         ]
        },
        "yaxis8": {
         "anchor": "x8",
         "domain": [
          0,
          1
         ]
        },
        "yaxis9": {
         "anchor": "x9",
         "domain": [
          0,
          1
         ]
        }
       }
      }
     },
     "metadata": {},
     "output_type": "display_data"
    }
   ],
   "source": [
    "number_of_subplots = len(liste_indicateurs)\n",
    "\n",
    "fig = make_subplots(rows=1, cols=number_of_subplots)#, shared_yaxes=True)\n",
    "\n",
    "colors = px.colors.qualitative.Alphabet[:df2[\"ingredient\"].nunique()]\n",
    "\n",
    "for i,indicateur in enumerate(liste_indicateurs):\n",
    "    sub_df = df2[df2['indicateur'] == indicateur]\n",
    "    if i == 0:\n",
    "        graphe = go.Bar(x = sub_df['ingredient'], y = sub_df['Valeur'], name=indicateur, marker = dict(color = colors))#, offsetgroup=0)\n",
    "    else:\n",
    "        graphe = go.Bar(x = sub_df['ingredient'], y = sub_df['Valeur'], name=indicateur, marker = dict(color = colors))#, base=list(fig.data[i-1].y))#, offsetgroup=0, base=data_y)\n",
    "    fig.add_trace(graphe, row=1, col=i+1)\n",
    "    fig.update_xaxes(title_text = indicateur, row=1, col=i+1, tickangle = 40)\n",
    "    fig.update_layout(barmode = 'stack')\n",
    "\n",
    "for j, ingredient in enumerate(df2[\"ingredient\"].unique()):\n",
    "    fig.add_trace(go.Scatter(x=[None], y=[None], mode='markers', marker=dict(color=colors[j], size=10, symbol='square'), showlegend=True, legendgroup=ingredient, name=ingredient), row=1, col=1)\n",
    "\n",
    "fig.update_xaxes(showticklabels = False)\n",
    "\n",
    "fig.update_yaxes(title_text = 't EqCO2', row=1, col=1)\n",
    "\n",
    "fig.update_traces(showlegend=False, selector=dict(type='bar'))\n",
    "\n",
    "fig.update_layout(barmode = 'stack')\n",
    "\n",
    "fig.show()"
   ]
  },
  {
   "cell_type": "code",
   "execution_count": 125,
   "metadata": {},
   "outputs": [
    {
     "data": {
      "application/vnd.plotly.v1+json": {
       "config": {
        "plotlyServerURL": "https://plot.ly"
       },
       "data": [
        {
         "labels": [
          "pâte brisée",
          "crème fraîche",
          "sucre en poudre",
          "sucre vanillé",
          "pommes",
          "oeufs"
         ],
         "type": "pie",
         "values": [
          0.0005950589760000001,
          0.0010088803515625,
          0.000012209330000000004,
          1.2209330000000002e-9,
          0.0054540391516875,
          0.000054613392
         ]
        }
       ],
       "layout": {
        "template": {
         "data": {
          "bar": [
           {
            "error_x": {
             "color": "#2a3f5f"
            },
            "error_y": {
             "color": "#2a3f5f"
            },
            "marker": {
             "line": {
              "color": "#E5ECF6",
              "width": 0.5
             },
             "pattern": {
              "fillmode": "overlay",
              "size": 10,
              "solidity": 0.2
             }
            },
            "type": "bar"
           }
          ],
          "barpolar": [
           {
            "marker": {
             "line": {
              "color": "#E5ECF6",
              "width": 0.5
             },
             "pattern": {
              "fillmode": "overlay",
              "size": 10,
              "solidity": 0.2
             }
            },
            "type": "barpolar"
           }
          ],
          "carpet": [
           {
            "aaxis": {
             "endlinecolor": "#2a3f5f",
             "gridcolor": "white",
             "linecolor": "white",
             "minorgridcolor": "white",
             "startlinecolor": "#2a3f5f"
            },
            "baxis": {
             "endlinecolor": "#2a3f5f",
             "gridcolor": "white",
             "linecolor": "white",
             "minorgridcolor": "white",
             "startlinecolor": "#2a3f5f"
            },
            "type": "carpet"
           }
          ],
          "choropleth": [
           {
            "colorbar": {
             "outlinewidth": 0,
             "ticks": ""
            },
            "type": "choropleth"
           }
          ],
          "contour": [
           {
            "colorbar": {
             "outlinewidth": 0,
             "ticks": ""
            },
            "colorscale": [
             [
              0,
              "#0d0887"
             ],
             [
              0.1111111111111111,
              "#46039f"
             ],
             [
              0.2222222222222222,
              "#7201a8"
             ],
             [
              0.3333333333333333,
              "#9c179e"
             ],
             [
              0.4444444444444444,
              "#bd3786"
             ],
             [
              0.5555555555555556,
              "#d8576b"
             ],
             [
              0.6666666666666666,
              "#ed7953"
             ],
             [
              0.7777777777777778,
              "#fb9f3a"
             ],
             [
              0.8888888888888888,
              "#fdca26"
             ],
             [
              1,
              "#f0f921"
             ]
            ],
            "type": "contour"
           }
          ],
          "contourcarpet": [
           {
            "colorbar": {
             "outlinewidth": 0,
             "ticks": ""
            },
            "type": "contourcarpet"
           }
          ],
          "heatmap": [
           {
            "colorbar": {
             "outlinewidth": 0,
             "ticks": ""
            },
            "colorscale": [
             [
              0,
              "#0d0887"
             ],
             [
              0.1111111111111111,
              "#46039f"
             ],
             [
              0.2222222222222222,
              "#7201a8"
             ],
             [
              0.3333333333333333,
              "#9c179e"
             ],
             [
              0.4444444444444444,
              "#bd3786"
             ],
             [
              0.5555555555555556,
              "#d8576b"
             ],
             [
              0.6666666666666666,
              "#ed7953"
             ],
             [
              0.7777777777777778,
              "#fb9f3a"
             ],
             [
              0.8888888888888888,
              "#fdca26"
             ],
             [
              1,
              "#f0f921"
             ]
            ],
            "type": "heatmap"
           }
          ],
          "heatmapgl": [
           {
            "colorbar": {
             "outlinewidth": 0,
             "ticks": ""
            },
            "colorscale": [
             [
              0,
              "#0d0887"
             ],
             [
              0.1111111111111111,
              "#46039f"
             ],
             [
              0.2222222222222222,
              "#7201a8"
             ],
             [
              0.3333333333333333,
              "#9c179e"
             ],
             [
              0.4444444444444444,
              "#bd3786"
             ],
             [
              0.5555555555555556,
              "#d8576b"
             ],
             [
              0.6666666666666666,
              "#ed7953"
             ],
             [
              0.7777777777777778,
              "#fb9f3a"
             ],
             [
              0.8888888888888888,
              "#fdca26"
             ],
             [
              1,
              "#f0f921"
             ]
            ],
            "type": "heatmapgl"
           }
          ],
          "histogram": [
           {
            "marker": {
             "pattern": {
              "fillmode": "overlay",
              "size": 10,
              "solidity": 0.2
             }
            },
            "type": "histogram"
           }
          ],
          "histogram2d": [
           {
            "colorbar": {
             "outlinewidth": 0,
             "ticks": ""
            },
            "colorscale": [
             [
              0,
              "#0d0887"
             ],
             [
              0.1111111111111111,
              "#46039f"
             ],
             [
              0.2222222222222222,
              "#7201a8"
             ],
             [
              0.3333333333333333,
              "#9c179e"
             ],
             [
              0.4444444444444444,
              "#bd3786"
             ],
             [
              0.5555555555555556,
              "#d8576b"
             ],
             [
              0.6666666666666666,
              "#ed7953"
             ],
             [
              0.7777777777777778,
              "#fb9f3a"
             ],
             [
              0.8888888888888888,
              "#fdca26"
             ],
             [
              1,
              "#f0f921"
             ]
            ],
            "type": "histogram2d"
           }
          ],
          "histogram2dcontour": [
           {
            "colorbar": {
             "outlinewidth": 0,
             "ticks": ""
            },
            "colorscale": [
             [
              0,
              "#0d0887"
             ],
             [
              0.1111111111111111,
              "#46039f"
             ],
             [
              0.2222222222222222,
              "#7201a8"
             ],
             [
              0.3333333333333333,
              "#9c179e"
             ],
             [
              0.4444444444444444,
              "#bd3786"
             ],
             [
              0.5555555555555556,
              "#d8576b"
             ],
             [
              0.6666666666666666,
              "#ed7953"
             ],
             [
              0.7777777777777778,
              "#fb9f3a"
             ],
             [
              0.8888888888888888,
              "#fdca26"
             ],
             [
              1,
              "#f0f921"
             ]
            ],
            "type": "histogram2dcontour"
           }
          ],
          "mesh3d": [
           {
            "colorbar": {
             "outlinewidth": 0,
             "ticks": ""
            },
            "type": "mesh3d"
           }
          ],
          "parcoords": [
           {
            "line": {
             "colorbar": {
              "outlinewidth": 0,
              "ticks": ""
             }
            },
            "type": "parcoords"
           }
          ],
          "pie": [
           {
            "automargin": true,
            "type": "pie"
           }
          ],
          "scatter": [
           {
            "fillpattern": {
             "fillmode": "overlay",
             "size": 10,
             "solidity": 0.2
            },
            "type": "scatter"
           }
          ],
          "scatter3d": [
           {
            "line": {
             "colorbar": {
              "outlinewidth": 0,
              "ticks": ""
             }
            },
            "marker": {
             "colorbar": {
              "outlinewidth": 0,
              "ticks": ""
             }
            },
            "type": "scatter3d"
           }
          ],
          "scattercarpet": [
           {
            "marker": {
             "colorbar": {
              "outlinewidth": 0,
              "ticks": ""
             }
            },
            "type": "scattercarpet"
           }
          ],
          "scattergeo": [
           {
            "marker": {
             "colorbar": {
              "outlinewidth": 0,
              "ticks": ""
             }
            },
            "type": "scattergeo"
           }
          ],
          "scattergl": [
           {
            "marker": {
             "colorbar": {
              "outlinewidth": 0,
              "ticks": ""
             }
            },
            "type": "scattergl"
           }
          ],
          "scattermapbox": [
           {
            "marker": {
             "colorbar": {
              "outlinewidth": 0,
              "ticks": ""
             }
            },
            "type": "scattermapbox"
           }
          ],
          "scatterpolar": [
           {
            "marker": {
             "colorbar": {
              "outlinewidth": 0,
              "ticks": ""
             }
            },
            "type": "scatterpolar"
           }
          ],
          "scatterpolargl": [
           {
            "marker": {
             "colorbar": {
              "outlinewidth": 0,
              "ticks": ""
             }
            },
            "type": "scatterpolargl"
           }
          ],
          "scatterternary": [
           {
            "marker": {
             "colorbar": {
              "outlinewidth": 0,
              "ticks": ""
             }
            },
            "type": "scatterternary"
           }
          ],
          "surface": [
           {
            "colorbar": {
             "outlinewidth": 0,
             "ticks": ""
            },
            "colorscale": [
             [
              0,
              "#0d0887"
             ],
             [
              0.1111111111111111,
              "#46039f"
             ],
             [
              0.2222222222222222,
              "#7201a8"
             ],
             [
              0.3333333333333333,
              "#9c179e"
             ],
             [
              0.4444444444444444,
              "#bd3786"
             ],
             [
              0.5555555555555556,
              "#d8576b"
             ],
             [
              0.6666666666666666,
              "#ed7953"
             ],
             [
              0.7777777777777778,
              "#fb9f3a"
             ],
             [
              0.8888888888888888,
              "#fdca26"
             ],
             [
              1,
              "#f0f921"
             ]
            ],
            "type": "surface"
           }
          ],
          "table": [
           {
            "cells": {
             "fill": {
              "color": "#EBF0F8"
             },
             "line": {
              "color": "white"
             }
            },
            "header": {
             "fill": {
              "color": "#C8D4E3"
             },
             "line": {
              "color": "white"
             }
            },
            "type": "table"
           }
          ]
         },
         "layout": {
          "annotationdefaults": {
           "arrowcolor": "#2a3f5f",
           "arrowhead": 0,
           "arrowwidth": 1
          },
          "autotypenumbers": "strict",
          "coloraxis": {
           "colorbar": {
            "outlinewidth": 0,
            "ticks": ""
           }
          },
          "colorscale": {
           "diverging": [
            [
             0,
             "#8e0152"
            ],
            [
             0.1,
             "#c51b7d"
            ],
            [
             0.2,
             "#de77ae"
            ],
            [
             0.3,
             "#f1b6da"
            ],
            [
             0.4,
             "#fde0ef"
            ],
            [
             0.5,
             "#f7f7f7"
            ],
            [
             0.6,
             "#e6f5d0"
            ],
            [
             0.7,
             "#b8e186"
            ],
            [
             0.8,
             "#7fbc41"
            ],
            [
             0.9,
             "#4d9221"
            ],
            [
             1,
             "#276419"
            ]
           ],
           "sequential": [
            [
             0,
             "#0d0887"
            ],
            [
             0.1111111111111111,
             "#46039f"
            ],
            [
             0.2222222222222222,
             "#7201a8"
            ],
            [
             0.3333333333333333,
             "#9c179e"
            ],
            [
             0.4444444444444444,
             "#bd3786"
            ],
            [
             0.5555555555555556,
             "#d8576b"
            ],
            [
             0.6666666666666666,
             "#ed7953"
            ],
            [
             0.7777777777777778,
             "#fb9f3a"
            ],
            [
             0.8888888888888888,
             "#fdca26"
            ],
            [
             1,
             "#f0f921"
            ]
           ],
           "sequentialminus": [
            [
             0,
             "#0d0887"
            ],
            [
             0.1111111111111111,
             "#46039f"
            ],
            [
             0.2222222222222222,
             "#7201a8"
            ],
            [
             0.3333333333333333,
             "#9c179e"
            ],
            [
             0.4444444444444444,
             "#bd3786"
            ],
            [
             0.5555555555555556,
             "#d8576b"
            ],
            [
             0.6666666666666666,
             "#ed7953"
            ],
            [
             0.7777777777777778,
             "#fb9f3a"
            ],
            [
             0.8888888888888888,
             "#fdca26"
            ],
            [
             1,
             "#f0f921"
            ]
           ]
          },
          "colorway": [
           "#636efa",
           "#EF553B",
           "#00cc96",
           "#ab63fa",
           "#FFA15A",
           "#19d3f3",
           "#FF6692",
           "#B6E880",
           "#FF97FF",
           "#FECB52"
          ],
          "font": {
           "color": "#2a3f5f"
          },
          "geo": {
           "bgcolor": "white",
           "lakecolor": "white",
           "landcolor": "#E5ECF6",
           "showlakes": true,
           "showland": true,
           "subunitcolor": "white"
          },
          "hoverlabel": {
           "align": "left"
          },
          "hovermode": "closest",
          "mapbox": {
           "style": "light"
          },
          "paper_bgcolor": "white",
          "plot_bgcolor": "#E5ECF6",
          "polar": {
           "angularaxis": {
            "gridcolor": "white",
            "linecolor": "white",
            "ticks": ""
           },
           "bgcolor": "#E5ECF6",
           "radialaxis": {
            "gridcolor": "white",
            "linecolor": "white",
            "ticks": ""
           }
          },
          "scene": {
           "xaxis": {
            "backgroundcolor": "#E5ECF6",
            "gridcolor": "white",
            "gridwidth": 2,
            "linecolor": "white",
            "showbackground": true,
            "ticks": "",
            "zerolinecolor": "white"
           },
           "yaxis": {
            "backgroundcolor": "#E5ECF6",
            "gridcolor": "white",
            "gridwidth": 2,
            "linecolor": "white",
            "showbackground": true,
            "ticks": "",
            "zerolinecolor": "white"
           },
           "zaxis": {
            "backgroundcolor": "#E5ECF6",
            "gridcolor": "white",
            "gridwidth": 2,
            "linecolor": "white",
            "showbackground": true,
            "ticks": "",
            "zerolinecolor": "white"
           }
          },
          "shapedefaults": {
           "line": {
            "color": "#2a3f5f"
           }
          },
          "ternary": {
           "aaxis": {
            "gridcolor": "white",
            "linecolor": "white",
            "ticks": ""
           },
           "baxis": {
            "gridcolor": "white",
            "linecolor": "white",
            "ticks": ""
           },
           "bgcolor": "#E5ECF6",
           "caxis": {
            "gridcolor": "white",
            "linecolor": "white",
            "ticks": ""
           }
          },
          "title": {
           "x": 0.05
          },
          "xaxis": {
           "automargin": true,
           "gridcolor": "white",
           "linecolor": "white",
           "ticks": "",
           "title": {
            "standoff": 15
           },
           "zerolinecolor": "white",
           "zerolinewidth": 2
          },
          "yaxis": {
           "automargin": true,
           "gridcolor": "white",
           "linecolor": "white",
           "ticks": "",
           "title": {
            "standoff": 15
           },
           "zerolinecolor": "white",
           "zerolinewidth": 2
          }
         }
        }
       }
      }
     },
     "metadata": {},
     "output_type": "display_data"
    }
   ],
   "source": [
    "data = df2[df2['indicateur']==liste_indicateurs[0]]\n",
    "graphe = go.Pie(labels=data['ingredient'],values=data['Valeur'])\n",
    "fig = go.Figure(data=graphe)\n",
    "fig.show()\n"
   ]
  },
  {
   "cell_type": "code",
   "execution_count": 135,
   "metadata": {},
   "outputs": [
    {
     "ename": "ValueError",
     "evalue": "\n    Invalid value of type 'builtins.str' received for the 'textinfo' property of pie\n        Received value: 'mPt/kg de produit'\n\n    The 'textinfo' property is a flaglist and may be specified\n    as a string containing:\n      - Any combination of ['label', 'text', 'value', 'percent'] joined with '+' characters\n        (e.g. 'label+text')\n        OR exactly one of ['none'] (e.g. 'none')",
     "output_type": "error",
     "traceback": [
      "\u001b[1;31m---------------------------------------------------------------------------\u001b[0m",
      "\u001b[1;31mValueError\u001b[0m                                Traceback (most recent call last)",
      "Cell \u001b[1;32mIn[135], line 8\u001b[0m\n\u001b[0;32m      6\u001b[0m col \u001b[39m=\u001b[39m np\u001b[39m.\u001b[39munravel_index(i,(\u001b[39m2\u001b[39m,\u001b[39m2\u001b[39m))[\u001b[39m1\u001b[39m] \u001b[39m+\u001b[39m \u001b[39m1\u001b[39m\n\u001b[0;32m      7\u001b[0m data \u001b[39m=\u001b[39m df2[df2[\u001b[39m'\u001b[39m\u001b[39mindicateur\u001b[39m\u001b[39m'\u001b[39m]\u001b[39m==\u001b[39mindicateur]\n\u001b[1;32m----> 8\u001b[0m graphe \u001b[39m=\u001b[39m go\u001b[39m.\u001b[39;49mPie(labels\u001b[39m=\u001b[39;49mdata[\u001b[39m'\u001b[39;49m\u001b[39mingredient\u001b[39;49m\u001b[39m'\u001b[39;49m],values\u001b[39m=\u001b[39;49mdata[\u001b[39m'\u001b[39;49m\u001b[39mValeur\u001b[39;49m\u001b[39m'\u001b[39;49m], name\u001b[39m=\u001b[39;49mindicateur, textinfo\u001b[39m=\u001b[39;49mindicateur)\n\u001b[0;32m      9\u001b[0m fig\u001b[39m.\u001b[39madd_trace(graphe, row\u001b[39m=\u001b[39mrow, col\u001b[39m=\u001b[39mcol)\n\u001b[0;32m     10\u001b[0m fig\u001b[39m.\u001b[39mupdate_xaxes(title_text \u001b[39m=\u001b[39m indicateur, row\u001b[39m=\u001b[39mrow, col\u001b[39m=\u001b[39mcol)\n",
      "File \u001b[1;32mc:\\Users\\CEFIM\\ProjetEmpreinteEcologique\\.venv\\Lib\\site-packages\\plotly\\graph_objs\\_pie.py:2402\u001b[0m, in \u001b[0;36mPie.__init__\u001b[1;34m(self, arg, automargin, customdata, customdatasrc, direction, dlabel, domain, hole, hoverinfo, hoverinfosrc, hoverlabel, hovertemplate, hovertemplatesrc, hovertext, hovertextsrc, ids, idssrc, insidetextfont, insidetextorientation, label0, labels, labelssrc, legend, legendgroup, legendgrouptitle, legendrank, legendwidth, marker, meta, metasrc, name, opacity, outsidetextfont, pull, pullsrc, rotation, scalegroup, showlegend, sort, stream, text, textfont, textinfo, textposition, textpositionsrc, textsrc, texttemplate, texttemplatesrc, title, titlefont, titleposition, uid, uirevision, values, valuessrc, visible, **kwargs)\u001b[0m\n\u001b[0;32m   2400\u001b[0m _v \u001b[39m=\u001b[39m textinfo \u001b[39mif\u001b[39;00m textinfo \u001b[39mis\u001b[39;00m \u001b[39mnot\u001b[39;00m \u001b[39mNone\u001b[39;00m \u001b[39melse\u001b[39;00m _v\n\u001b[0;32m   2401\u001b[0m \u001b[39mif\u001b[39;00m _v \u001b[39mis\u001b[39;00m \u001b[39mnot\u001b[39;00m \u001b[39mNone\u001b[39;00m:\n\u001b[1;32m-> 2402\u001b[0m     \u001b[39mself\u001b[39;49m[\u001b[39m\"\u001b[39;49m\u001b[39mtextinfo\u001b[39;49m\u001b[39m\"\u001b[39;49m] \u001b[39m=\u001b[39m _v\n\u001b[0;32m   2403\u001b[0m _v \u001b[39m=\u001b[39m arg\u001b[39m.\u001b[39mpop(\u001b[39m\"\u001b[39m\u001b[39mtextposition\u001b[39m\u001b[39m\"\u001b[39m, \u001b[39mNone\u001b[39;00m)\n\u001b[0;32m   2404\u001b[0m _v \u001b[39m=\u001b[39m textposition \u001b[39mif\u001b[39;00m textposition \u001b[39mis\u001b[39;00m \u001b[39mnot\u001b[39;00m \u001b[39mNone\u001b[39;00m \u001b[39melse\u001b[39;00m _v\n",
      "File \u001b[1;32mc:\\Users\\CEFIM\\ProjetEmpreinteEcologique\\.venv\\Lib\\site-packages\\plotly\\basedatatypes.py:4873\u001b[0m, in \u001b[0;36mBasePlotlyType.__setitem__\u001b[1;34m(self, prop, value)\u001b[0m\n\u001b[0;32m   4869\u001b[0m         \u001b[39mself\u001b[39m\u001b[39m.\u001b[39m_set_array_prop(prop, value)\n\u001b[0;32m   4871\u001b[0m     \u001b[39m# ### Handle simple property ###\u001b[39;00m\n\u001b[0;32m   4872\u001b[0m     \u001b[39melse\u001b[39;00m:\n\u001b[1;32m-> 4873\u001b[0m         \u001b[39mself\u001b[39;49m\u001b[39m.\u001b[39;49m_set_prop(prop, value)\n\u001b[0;32m   4874\u001b[0m \u001b[39melse\u001b[39;00m:\n\u001b[0;32m   4875\u001b[0m     \u001b[39m# Make sure properties dict is initialized\u001b[39;00m\n\u001b[0;32m   4876\u001b[0m     \u001b[39mself\u001b[39m\u001b[39m.\u001b[39m_init_props()\n",
      "File \u001b[1;32mc:\\Users\\CEFIM\\ProjetEmpreinteEcologique\\.venv\\Lib\\site-packages\\plotly\\basedatatypes.py:5217\u001b[0m, in \u001b[0;36mBasePlotlyType._set_prop\u001b[1;34m(self, prop, val)\u001b[0m\n\u001b[0;32m   5215\u001b[0m         \u001b[39mreturn\u001b[39;00m\n\u001b[0;32m   5216\u001b[0m     \u001b[39melse\u001b[39;00m:\n\u001b[1;32m-> 5217\u001b[0m         \u001b[39mraise\u001b[39;00m err\n\u001b[0;32m   5219\u001b[0m \u001b[39m# val is None\u001b[39;00m\n\u001b[0;32m   5220\u001b[0m \u001b[39m# -----------\u001b[39;00m\n\u001b[0;32m   5221\u001b[0m \u001b[39mif\u001b[39;00m val \u001b[39mis\u001b[39;00m \u001b[39mNone\u001b[39;00m:\n\u001b[0;32m   5222\u001b[0m     \u001b[39m# Check if we should send null update\u001b[39;00m\n",
      "File \u001b[1;32mc:\\Users\\CEFIM\\ProjetEmpreinteEcologique\\.venv\\Lib\\site-packages\\plotly\\basedatatypes.py:5212\u001b[0m, in \u001b[0;36mBasePlotlyType._set_prop\u001b[1;34m(self, prop, val)\u001b[0m\n\u001b[0;32m   5209\u001b[0m validator \u001b[39m=\u001b[39m \u001b[39mself\u001b[39m\u001b[39m.\u001b[39m_get_validator(prop)\n\u001b[0;32m   5211\u001b[0m \u001b[39mtry\u001b[39;00m:\n\u001b[1;32m-> 5212\u001b[0m     val \u001b[39m=\u001b[39m validator\u001b[39m.\u001b[39;49mvalidate_coerce(val)\n\u001b[0;32m   5213\u001b[0m \u001b[39mexcept\u001b[39;00m \u001b[39mValueError\u001b[39;00m \u001b[39mas\u001b[39;00m err:\n\u001b[0;32m   5214\u001b[0m     \u001b[39mif\u001b[39;00m \u001b[39mself\u001b[39m\u001b[39m.\u001b[39m_skip_invalid:\n",
      "File \u001b[1;32mc:\\Users\\CEFIM\\ProjetEmpreinteEcologique\\.venv\\Lib\\site-packages\\_plotly_utils\\basevalidators.py:1898\u001b[0m, in \u001b[0;36mFlaglistValidator.validate_coerce\u001b[1;34m(self, v)\u001b[0m\n\u001b[0;32m   1896\u001b[0m     validated_v \u001b[39m=\u001b[39m \u001b[39mself\u001b[39m\u001b[39m.\u001b[39mvc_scalar(v)\n\u001b[0;32m   1897\u001b[0m     \u001b[39mif\u001b[39;00m validated_v \u001b[39mis\u001b[39;00m \u001b[39mNone\u001b[39;00m:\n\u001b[1;32m-> 1898\u001b[0m         \u001b[39mself\u001b[39;49m\u001b[39m.\u001b[39;49mraise_invalid_val(v)\n\u001b[0;32m   1900\u001b[0m     v \u001b[39m=\u001b[39m validated_v\n\u001b[0;32m   1902\u001b[0m \u001b[39mreturn\u001b[39;00m v\n",
      "File \u001b[1;32mc:\\Users\\CEFIM\\ProjetEmpreinteEcologique\\.venv\\Lib\\site-packages\\_plotly_utils\\basevalidators.py:287\u001b[0m, in \u001b[0;36mBaseValidator.raise_invalid_val\u001b[1;34m(self, v, inds)\u001b[0m\n\u001b[0;32m    284\u001b[0m             \u001b[39mfor\u001b[39;00m i \u001b[39min\u001b[39;00m inds:\n\u001b[0;32m    285\u001b[0m                 name \u001b[39m+\u001b[39m\u001b[39m=\u001b[39m \u001b[39m\"\u001b[39m\u001b[39m[\u001b[39m\u001b[39m\"\u001b[39m \u001b[39m+\u001b[39m \u001b[39mstr\u001b[39m(i) \u001b[39m+\u001b[39m \u001b[39m\"\u001b[39m\u001b[39m]\u001b[39m\u001b[39m\"\u001b[39m\n\u001b[1;32m--> 287\u001b[0m         \u001b[39mraise\u001b[39;00m \u001b[39mValueError\u001b[39;00m(\n\u001b[0;32m    288\u001b[0m \u001b[39m            \u001b[39m\u001b[39m\"\"\"\u001b[39;00m\n\u001b[0;32m    289\u001b[0m \u001b[39m    Invalid value of type {typ} received for the '{name}' property of {pname}\u001b[39;00m\n\u001b[0;32m    290\u001b[0m \u001b[39m        Received value: {v}\u001b[39;00m\n\u001b[0;32m    291\u001b[0m \n\u001b[0;32m    292\u001b[0m \u001b[39m{valid_clr_desc}\"\"\"\u001b[39;00m\u001b[39m.\u001b[39mformat(\n\u001b[0;32m    293\u001b[0m                 name\u001b[39m=\u001b[39mname,\n\u001b[0;32m    294\u001b[0m                 pname\u001b[39m=\u001b[39m\u001b[39mself\u001b[39m\u001b[39m.\u001b[39mparent_name,\n\u001b[0;32m    295\u001b[0m                 typ\u001b[39m=\u001b[39mtype_str(v),\n\u001b[0;32m    296\u001b[0m                 v\u001b[39m=\u001b[39m\u001b[39mrepr\u001b[39m(v),\n\u001b[0;32m    297\u001b[0m                 valid_clr_desc\u001b[39m=\u001b[39m\u001b[39mself\u001b[39m\u001b[39m.\u001b[39mdescription(),\n\u001b[0;32m    298\u001b[0m             )\n\u001b[0;32m    299\u001b[0m         )\n",
      "\u001b[1;31mValueError\u001b[0m: \n    Invalid value of type 'builtins.str' received for the 'textinfo' property of pie\n        Received value: 'mPt/kg de produit'\n\n    The 'textinfo' property is a flaglist and may be specified\n    as a string containing:\n      - Any combination of ['label', 'text', 'value', 'percent'] joined with '+' characters\n        (e.g. 'label+text')\n        OR exactly one of ['none'] (e.g. 'none')"
     ]
    }
   ],
   "source": [
    "import numpy as np\n",
    "fig = make_subplots(rows=2,cols=2, specs=[[{\"type\": \"domain\"} for _ in range(2)] for _ in range(2)])\n",
    "\n",
    "for i,indicateur in enumerate(liste_indicateurs[0:4]):\n",
    "    row = np.unravel_index(i,(2,2))[0] + 1\n",
    "    col = np.unravel_index(i,(2,2))[1] + 1\n",
    "    data = df2[df2['indicateur']==indicateur]\n",
    "    graphe = go.Pie(labels=data['ingredient'],values=data['Valeur'], name=indicateur)\n",
    "    fig.add_trace(graphe, row=row, col=col)\n",
    "    fig.update_legends(title_text = indicateur, row=row, col=col)\n",
    "    \n",
    "\n",
    "fig.show()"
   ]
  }
 ],
 "metadata": {
  "kernelspec": {
   "display_name": ".venv",
   "language": "python",
   "name": "python3"
  },
  "language_info": {
   "codemirror_mode": {
    "name": "ipython",
    "version": 3
   },
   "file_extension": ".py",
   "mimetype": "text/x-python",
   "name": "python",
   "nbconvert_exporter": "python",
   "pygments_lexer": "ipython3",
   "version": "3.11.3"
  },
  "orig_nbformat": 4
 },
 "nbformat": 4,
 "nbformat_minor": 2
}

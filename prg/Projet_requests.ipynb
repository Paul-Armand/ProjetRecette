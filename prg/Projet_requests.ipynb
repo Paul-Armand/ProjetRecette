{
 "cells": [
  {
   "attachments": {},
   "cell_type": "markdown",
   "metadata": {},
   "source": [
    "# Requêtes vers l'API Marmiton"
   ]
  },
  {
   "cell_type": "code",
   "execution_count": 19,
   "metadata": {},
   "outputs": [],
   "source": [
    "import requests\n",
    "import pandas as pd"
   ]
  },
  {
   "attachments": {},
   "cell_type": "markdown",
   "metadata": {},
   "source": [
    "On se connecte à l'API et on récupère la 1e recette"
   ]
  },
  {
   "cell_type": "code",
   "execution_count": 20,
   "metadata": {},
   "outputs": [
    {
     "data": {
      "text/plain": [
       "'https://www.marmiton.org/recettes/recette_boeuf-bourguignon-rapide_19218.aspx'"
      ]
     },
     "execution_count": 20,
     "metadata": {},
     "output_type": "execute_result"
    }
   ],
   "source": [
    "url = 'http://162.19.108.77:8000/recipe_urls/'\n",
    "myobj = {'name': 'boeuf bourguignon'}\n",
    "\n",
    "recettes = requests.post(url, json = myobj)\n",
    "liste_recette = recettes.json()\n",
    "recette = liste_recette[0]\n",
    "recette"
   ]
  },
  {
   "attachments": {},
   "cell_type": "markdown",
   "metadata": {},
   "source": [
    "On se connecte à l'URL d'une recette pour récupérer les ingrédients"
   ]
  },
  {
   "cell_type": "code",
   "execution_count": 21,
   "metadata": {},
   "outputs": [
    {
     "data": {
      "text/plain": [
       "['100\\xa0g de lardons ',\n",
       " \"50\\xa0g de beurre ou 3 cuillères à soupe d'huile\",\n",
       " '2 oignons ',\n",
       " '2\\xa0c.à.s de farine ',\n",
       " ' sel ',\n",
       " ' poivre ',\n",
       " '800\\xa0g de boeuf pour bourguignon',\n",
       " '2⁄3\\xa0l de vin rouge ',\n",
       " \"1\\xa0gousse d'ail \",\n",
       " '1 bouquet garni ',\n",
       " '250\\xa0g de champignon de Paris (en boîte)']"
      ]
     },
     "execution_count": 21,
     "metadata": {},
     "output_type": "execute_result"
    }
   ],
   "source": [
    "url = \"http://162.19.108.77:8000/ingredients_marmiton/\"\n",
    "myobj = {'url': recette}\n",
    "\n",
    "ingredients = requests.post(url, json = myobj)\n",
    "liste_ingredients = ingredients.json()\n",
    "liste_ingredients"
   ]
  },
  {
   "attachments": {},
   "cell_type": "markdown",
   "metadata": {},
   "source": [
    "On se connecte à l'URL de l'API pour récupérer le code AGB de chaque ingrédient"
   ]
  },
  {
   "cell_type": "code",
   "execution_count": 12,
   "metadata": {},
   "outputs": [
    {
     "data": {
      "text/plain": [
       "'tUDEnPaK9zbRA1QT'"
      ]
     },
     "execution_count": 12,
     "metadata": {},
     "output_type": "execute_result"
    }
   ],
   "source": [
    "import json\n",
    "with open('credentials.json') as f:\n",
    "    credentials = json.load(f)\n",
    "    myToken = credentials['token']\n",
    "myToken"
   ]
  },
  {
   "cell_type": "code",
   "execution_count": 16,
   "metadata": {},
   "outputs": [
    {
     "data": {
      "text/plain": [
       "<Response [200]>"
      ]
     },
     "execution_count": 16,
     "metadata": {},
     "output_type": "execute_result"
    }
   ],
   "source": [
    "\n",
    "myUrl = 'http://162.19.108.77:8000/quota/'\n",
    "head = {'Authorization': f'token {myToken}'}\n",
    "response = requests.get(myUrl, headers=head)\n",
    "response"
   ]
  },
  {
   "cell_type": "code",
   "execution_count": 17,
   "metadata": {},
   "outputs": [
    {
     "data": {
      "text/plain": [
       "'Quota used: 1/3'"
      ]
     },
     "execution_count": 17,
     "metadata": {},
     "output_type": "execute_result"
    }
   ],
   "source": [
    "response.json()"
   ]
  },
  {
   "cell_type": "code",
   "execution_count": 6,
   "metadata": {},
   "outputs": [
    {
     "data": {
      "text/plain": [
       "200"
      ]
     },
     "execution_count": 6,
     "metadata": {},
     "output_type": "execute_result"
    }
   ],
   "source": [
    "url = \"http://162.19.108.77:8000/ingredients_recipe/\"\n",
    "# myobj = {'ingredients': liste_ingredients}\n",
    "# myobj = {'url': recette, 'ingredients': liste_ingredients}\n",
    "myobj = {'name': 'tarte aux pommes'}\n",
    "\n",
    "ingredients_propres = requests.post(url, json = myobj, headers=head)\n",
    "ingredients_propres.status_code"
   ]
  },
  {
   "cell_type": "code",
   "execution_count": 9,
   "metadata": {},
   "outputs": [
    {
     "data": {
      "text/plain": [
       "'[{\"ingredient\":\"p\\\\u00e2te bris\\\\u00e9e\",\"Code\\\\nAGB\":\"23410\",\"mass\":200},{\"ingredient\":\"cr\\\\u00e8me fra\\\\u00eeche\",\"Code\\\\nAGB\":\"19431\",\"mass\":250},{\"ingredient\":\"sucre en poudre\",\"Code\\\\nAGB\":\"31016\",\"mass\":100},{\"ingredient\":\"sucre vanill\\\\u00e9\",\"Code\\\\nAGB\":\"31044\",\"mass\":10},{\"ingredient\":\"pommes\",\"Code\\\\nAGB\":\"20094\",\"mass\":450},{\"ingredient\":\"oeufs\",\"Code\\\\nAGB\":\"22000\",\"mass\":100}]'"
      ]
     },
     "execution_count": 9,
     "metadata": {},
     "output_type": "execute_result"
    }
   ],
   "source": [
    "liste_ingredients_propres = ingredients_propres.json()\n",
    "liste_ingredients_propres"
   ]
  },
  {
   "cell_type": "code",
   "execution_count": 15,
   "metadata": {},
   "outputs": [
    {
     "data": {
      "text/html": [
       "<div>\n",
       "<style scoped>\n",
       "    .dataframe tbody tr th:only-of-type {\n",
       "        vertical-align: middle;\n",
       "    }\n",
       "\n",
       "    .dataframe tbody tr th {\n",
       "        vertical-align: top;\n",
       "    }\n",
       "\n",
       "    .dataframe thead th {\n",
       "        text-align: right;\n",
       "    }\n",
       "</style>\n",
       "<table border=\"1\" class=\"dataframe\">\n",
       "  <thead>\n",
       "    <tr style=\"text-align: right;\">\n",
       "      <th></th>\n",
       "      <th>ingredient</th>\n",
       "      <th>Code\\nAGB</th>\n",
       "      <th>mass</th>\n",
       "    </tr>\n",
       "  </thead>\n",
       "  <tbody>\n",
       "    <tr>\n",
       "      <th>0</th>\n",
       "      <td>pâte brisée</td>\n",
       "      <td>23410</td>\n",
       "      <td>200</td>\n",
       "    </tr>\n",
       "    <tr>\n",
       "      <th>1</th>\n",
       "      <td>crème fraîche</td>\n",
       "      <td>19431</td>\n",
       "      <td>250</td>\n",
       "    </tr>\n",
       "    <tr>\n",
       "      <th>2</th>\n",
       "      <td>sucre en poudre</td>\n",
       "      <td>31016</td>\n",
       "      <td>100</td>\n",
       "    </tr>\n",
       "    <tr>\n",
       "      <th>3</th>\n",
       "      <td>sucre vanillé</td>\n",
       "      <td>31044</td>\n",
       "      <td>10</td>\n",
       "    </tr>\n",
       "    <tr>\n",
       "      <th>4</th>\n",
       "      <td>pommes</td>\n",
       "      <td>20094</td>\n",
       "      <td>450</td>\n",
       "    </tr>\n",
       "    <tr>\n",
       "      <th>5</th>\n",
       "      <td>oeufs</td>\n",
       "      <td>22000</td>\n",
       "      <td>100</td>\n",
       "    </tr>\n",
       "  </tbody>\n",
       "</table>\n",
       "</div>"
      ],
      "text/plain": [
       "        ingredient  Code\\nAGB  mass\n",
       "0      pâte brisée      23410   200\n",
       "1    crème fraîche      19431   250\n",
       "2  sucre en poudre      31016   100\n",
       "3    sucre vanillé      31044    10\n",
       "4           pommes      20094   450\n",
       "5            oeufs      22000   100"
      ]
     },
     "execution_count": 15,
     "metadata": {},
     "output_type": "execute_result"
    }
   ],
   "source": [
    "ingredients_recipe = pd.read_json(liste_ingredients_propres, orient=\"records\")\n",
    "ingredients_recipe.to_csv(\"data/IngredientsTarteAuxPommes.csv\", index=False)\n",
    "ingredients_recipe"
   ]
  }
 ],
 "metadata": {
  "kernelspec": {
   "display_name": ".venv",
   "language": "python",
   "name": "python3"
  },
  "language_info": {
   "name": "python",
   "version": "3.11.3"
  },
  "orig_nbformat": 4
 },
 "nbformat": 4,
 "nbformat_minor": 2
}

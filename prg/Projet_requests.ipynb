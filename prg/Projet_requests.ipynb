{
 "cells": [
  {
   "attachments": {},
   "cell_type": "markdown",
   "metadata": {},
   "source": [
    "# Requêtes vers l'API Marmiton"
   ]
  },
  {
   "cell_type": "code",
   "execution_count": 1,
   "metadata": {},
   "outputs": [],
   "source": [
    "import requests"
   ]
  },
  {
   "attachments": {},
   "cell_type": "markdown",
   "metadata": {},
   "source": [
    "On se connecte à l'API et on récupère la 1e recette"
   ]
  },
  {
   "cell_type": "code",
   "execution_count": 31,
   "metadata": {},
   "outputs": [
    {
     "data": {
      "text/plain": [
       "'https://www.marmiton.org/recettes/recette_la-vraie-tartiflette_17634.aspx'"
      ]
     },
     "execution_count": 31,
     "metadata": {},
     "output_type": "execute_result"
    }
   ],
   "source": [
    "url = 'http://162.19.108.77:8000/recipe_urls/'\n",
    "myobj = {'name': 'tartiflette'}\n",
    "\n",
    "x = requests.post(url, json = myobj)\n",
    "x.json()[0]"
   ]
  },
  {
   "attachments": {},
   "cell_type": "markdown",
   "metadata": {},
   "source": [
    "On se connecte à l'URL d'une recette pour récupérer les ingrédients"
   ]
  },
  {
   "cell_type": "code",
   "execution_count": 32,
   "metadata": {},
   "outputs": [
    {
     "data": {
      "text/plain": [
       "[\"200\\xa0g d'oignon émincés\",\n",
       " \"1 reblochon bien fait (lorsqu'on appuie sur le côté du reblochon, le doigt doit s'enfoncer un peu)\",\n",
       " \"2\\xa0c.à.s d'huile \",\n",
       " ' sel ',\n",
       " ' poivre ',\n",
       " '1\\xa0kg de pomme de terre ',\n",
       " '200\\xa0g de lardons fumés ',\n",
       " \"1\\xa0gousse d'ail \"]"
      ]
     },
     "execution_count": 32,
     "metadata": {},
     "output_type": "execute_result"
    }
   ],
   "source": [
    "url = \"http://162.19.108.77:8000/ingredients_marmiton/\"\n",
    "myobj = {'url': x.json()[0]}\n",
    "\n",
    "x = requests.post(url, json = myobj)\n",
    "x.json()"
   ]
  }
 ],
 "metadata": {
  "kernelspec": {
   "display_name": ".venv",
   "language": "python",
   "name": "python3"
  },
  "language_info": {
   "name": "python",
   "version": "3.11.3"
  },
  "orig_nbformat": 4
 },
 "nbformat": 4,
 "nbformat_minor": 2
}
